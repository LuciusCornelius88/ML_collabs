{
 "cells": [
  {
   "cell_type": "markdown",
   "id": "178d8f7b",
   "metadata": {
    "ExecuteTime": {
     "end_time": "2021-10-08T14:20:56.413092Z",
     "start_time": "2021-10-08T14:20:56.409316Z"
    }
   },
   "source": [
    "В этом домашнем задании мы работаем с набором данных о уровне счастья в странах за 2019 год. Он доступен в репозитории или можно скачать с Kaggle [соревнования](https://www.kaggle.com/unsdsn/world-happiness?select=2019.csv)."
   ]
  },
  {
   "cell_type": "markdown",
   "id": "682c5672",
   "metadata": {
    "ExecuteTime": {
     "end_time": "2021-10-08T14:24:45.084860Z",
     "start_time": "2021-10-08T14:24:45.081379Z"
    }
   },
   "source": [
    "Все импорты помещаем сверху, под этой клеткой."
   ]
  },
  {
   "cell_type": "code",
   "execution_count": 197,
   "id": "e5bfeac9",
   "metadata": {
    "ExecuteTime": {
     "end_time": "2021-10-28T22:10:48.691047Z",
     "start_time": "2021-10-28T22:10:48.599514Z"
    }
   },
   "outputs": [],
   "source": [
    "import numpy as np\n",
    "import pandas as pd\n",
    "import seaborn as sns\n",
    "from matplotlib import pyplot as plt\n",
    "from pathlib import Path\n",
    "from sklearn.model_selection import GridSearchCV, train_test_split \n",
    "from sklearn.linear_model import LinearRegression, ElasticNet\n",
    "from sklearn.preprocessing import MinMaxScaler, PolynomialFeatures\n",
    "from sklearn.metrics import mean_squared_error, r2_score\n",
    "from sklearn.pipeline import Pipeline\n",
    "\n",
    "%matplotlib inline"
   ]
  },
  {
   "cell_type": "markdown",
   "id": "d612bd8a",
   "metadata": {},
   "source": [
    "1.Считайте данные с помощью pandas в переменную `df`."
   ]
  },
  {
   "cell_type": "code",
   "execution_count": 2,
   "id": "ca3aeea7",
   "metadata": {
    "ExecuteTime": {
     "end_time": "2021-10-28T18:55:02.906667Z",
     "start_time": "2021-10-28T18:55:02.655414Z"
    }
   },
   "outputs": [
    {
     "data": {
      "text/html": [
       "<div>\n",
       "<style scoped>\n",
       "    .dataframe tbody tr th:only-of-type {\n",
       "        vertical-align: middle;\n",
       "    }\n",
       "\n",
       "    .dataframe tbody tr th {\n",
       "        vertical-align: top;\n",
       "    }\n",
       "\n",
       "    .dataframe thead th {\n",
       "        text-align: right;\n",
       "    }\n",
       "</style>\n",
       "<table border=\"1\" class=\"dataframe\">\n",
       "  <thead>\n",
       "    <tr style=\"text-align: right;\">\n",
       "      <th></th>\n",
       "      <th>Overall rank</th>\n",
       "      <th>Country or region</th>\n",
       "      <th>Score</th>\n",
       "      <th>GDP per capita</th>\n",
       "      <th>Social support</th>\n",
       "      <th>Healthy life expectancy</th>\n",
       "      <th>Freedom to make life choices</th>\n",
       "      <th>Generosity</th>\n",
       "      <th>Perceptions of corruption</th>\n",
       "    </tr>\n",
       "  </thead>\n",
       "  <tbody>\n",
       "    <tr>\n",
       "      <th>0</th>\n",
       "      <td>1</td>\n",
       "      <td>Finland</td>\n",
       "      <td>7.769</td>\n",
       "      <td>1.340</td>\n",
       "      <td>1.587</td>\n",
       "      <td>0.986</td>\n",
       "      <td>0.596</td>\n",
       "      <td>0.153</td>\n",
       "      <td>0.393</td>\n",
       "    </tr>\n",
       "    <tr>\n",
       "      <th>1</th>\n",
       "      <td>2</td>\n",
       "      <td>Denmark</td>\n",
       "      <td>7.600</td>\n",
       "      <td>1.383</td>\n",
       "      <td>1.573</td>\n",
       "      <td>0.996</td>\n",
       "      <td>0.592</td>\n",
       "      <td>0.252</td>\n",
       "      <td>0.410</td>\n",
       "    </tr>\n",
       "    <tr>\n",
       "      <th>2</th>\n",
       "      <td>3</td>\n",
       "      <td>Norway</td>\n",
       "      <td>7.554</td>\n",
       "      <td>1.488</td>\n",
       "      <td>1.582</td>\n",
       "      <td>1.028</td>\n",
       "      <td>0.603</td>\n",
       "      <td>0.271</td>\n",
       "      <td>0.341</td>\n",
       "    </tr>\n",
       "    <tr>\n",
       "      <th>3</th>\n",
       "      <td>4</td>\n",
       "      <td>Iceland</td>\n",
       "      <td>7.494</td>\n",
       "      <td>1.380</td>\n",
       "      <td>1.624</td>\n",
       "      <td>1.026</td>\n",
       "      <td>0.591</td>\n",
       "      <td>0.354</td>\n",
       "      <td>0.118</td>\n",
       "    </tr>\n",
       "    <tr>\n",
       "      <th>4</th>\n",
       "      <td>5</td>\n",
       "      <td>Netherlands</td>\n",
       "      <td>7.488</td>\n",
       "      <td>1.396</td>\n",
       "      <td>1.522</td>\n",
       "      <td>0.999</td>\n",
       "      <td>0.557</td>\n",
       "      <td>0.322</td>\n",
       "      <td>0.298</td>\n",
       "    </tr>\n",
       "    <tr>\n",
       "      <th>...</th>\n",
       "      <td>...</td>\n",
       "      <td>...</td>\n",
       "      <td>...</td>\n",
       "      <td>...</td>\n",
       "      <td>...</td>\n",
       "      <td>...</td>\n",
       "      <td>...</td>\n",
       "      <td>...</td>\n",
       "      <td>...</td>\n",
       "    </tr>\n",
       "    <tr>\n",
       "      <th>151</th>\n",
       "      <td>152</td>\n",
       "      <td>Rwanda</td>\n",
       "      <td>3.334</td>\n",
       "      <td>0.359</td>\n",
       "      <td>0.711</td>\n",
       "      <td>0.614</td>\n",
       "      <td>0.555</td>\n",
       "      <td>0.217</td>\n",
       "      <td>0.411</td>\n",
       "    </tr>\n",
       "    <tr>\n",
       "      <th>152</th>\n",
       "      <td>153</td>\n",
       "      <td>Tanzania</td>\n",
       "      <td>3.231</td>\n",
       "      <td>0.476</td>\n",
       "      <td>0.885</td>\n",
       "      <td>0.499</td>\n",
       "      <td>0.417</td>\n",
       "      <td>0.276</td>\n",
       "      <td>0.147</td>\n",
       "    </tr>\n",
       "    <tr>\n",
       "      <th>153</th>\n",
       "      <td>154</td>\n",
       "      <td>Afghanistan</td>\n",
       "      <td>3.203</td>\n",
       "      <td>0.350</td>\n",
       "      <td>0.517</td>\n",
       "      <td>0.361</td>\n",
       "      <td>0.000</td>\n",
       "      <td>0.158</td>\n",
       "      <td>0.025</td>\n",
       "    </tr>\n",
       "    <tr>\n",
       "      <th>154</th>\n",
       "      <td>155</td>\n",
       "      <td>Central African Republic</td>\n",
       "      <td>3.083</td>\n",
       "      <td>0.026</td>\n",
       "      <td>0.000</td>\n",
       "      <td>0.105</td>\n",
       "      <td>0.225</td>\n",
       "      <td>0.235</td>\n",
       "      <td>0.035</td>\n",
       "    </tr>\n",
       "    <tr>\n",
       "      <th>155</th>\n",
       "      <td>156</td>\n",
       "      <td>South Sudan</td>\n",
       "      <td>2.853</td>\n",
       "      <td>0.306</td>\n",
       "      <td>0.575</td>\n",
       "      <td>0.295</td>\n",
       "      <td>0.010</td>\n",
       "      <td>0.202</td>\n",
       "      <td>0.091</td>\n",
       "    </tr>\n",
       "  </tbody>\n",
       "</table>\n",
       "<p>156 rows × 9 columns</p>\n",
       "</div>"
      ],
      "text/plain": [
       "     Overall rank         Country or region  Score  GDP per capita  \\\n",
       "0               1                   Finland  7.769           1.340   \n",
       "1               2                   Denmark  7.600           1.383   \n",
       "2               3                    Norway  7.554           1.488   \n",
       "3               4                   Iceland  7.494           1.380   \n",
       "4               5               Netherlands  7.488           1.396   \n",
       "..            ...                       ...    ...             ...   \n",
       "151           152                    Rwanda  3.334           0.359   \n",
       "152           153                  Tanzania  3.231           0.476   \n",
       "153           154               Afghanistan  3.203           0.350   \n",
       "154           155  Central African Republic  3.083           0.026   \n",
       "155           156               South Sudan  2.853           0.306   \n",
       "\n",
       "     Social support  Healthy life expectancy  Freedom to make life choices  \\\n",
       "0             1.587                    0.986                         0.596   \n",
       "1             1.573                    0.996                         0.592   \n",
       "2             1.582                    1.028                         0.603   \n",
       "3             1.624                    1.026                         0.591   \n",
       "4             1.522                    0.999                         0.557   \n",
       "..              ...                      ...                           ...   \n",
       "151           0.711                    0.614                         0.555   \n",
       "152           0.885                    0.499                         0.417   \n",
       "153           0.517                    0.361                         0.000   \n",
       "154           0.000                    0.105                         0.225   \n",
       "155           0.575                    0.295                         0.010   \n",
       "\n",
       "     Generosity  Perceptions of corruption  \n",
       "0         0.153                      0.393  \n",
       "1         0.252                      0.410  \n",
       "2         0.271                      0.341  \n",
       "3         0.354                      0.118  \n",
       "4         0.322                      0.298  \n",
       "..          ...                        ...  \n",
       "151       0.217                      0.411  \n",
       "152       0.276                      0.147  \n",
       "153       0.158                      0.025  \n",
       "154       0.235                      0.035  \n",
       "155       0.202                      0.091  \n",
       "\n",
       "[156 rows x 9 columns]"
      ]
     },
     "execution_count": 2,
     "metadata": {},
     "output_type": "execute_result"
    }
   ],
   "source": [
    "DATA = Path('../data/')\n",
    "df = pd.read_csv(DATA / '2019.csv')\n",
    "df"
   ]
  },
  {
   "cell_type": "markdown",
   "id": "2b3cce20",
   "metadata": {
    "ExecuteTime": {
     "end_time": "2021-10-14T17:21:00.884611Z",
     "start_time": "2021-10-14T17:21:00.881566Z"
    }
   },
   "source": [
    "2.Выведите диаграмму рассеянья признаков 'Score' и 'GDP per capita' используя regplot в seaborn."
   ]
  },
  {
   "cell_type": "code",
   "execution_count": 3,
   "id": "fa1a32b9",
   "metadata": {
    "ExecuteTime": {
     "end_time": "2021-10-28T18:55:10.032798Z",
     "start_time": "2021-10-28T18:55:08.320727Z"
    }
   },
   "outputs": [
    {
     "data": {
      "image/png": "[encoded data removed]",
      "text/plain": [
       "<Figure size 720x576 with 1 Axes>"
      ]
     },
     "metadata": {
      "needs_background": "light"
     },
     "output_type": "display_data"
    }
   ],
   "source": [
    "score = df['Score']\n",
    "gdp_cap = df['GDP per capita']\n",
    "plt.figure(figsize=(10,8))\n",
    "sns.regplot(x=score, y=gdp_cap, label='value line');\n",
    "plt.legend(loc=2);"
   ]
  },
  {
   "cell_type": "markdown",
   "id": "fe20c4f7",
   "metadata": {},
   "source": [
    "Мы будем моделировать эту зависимость. Кажется, что она должна хорошо описываться линейной моделью."
   ]
  },
  {
   "cell_type": "markdown",
   "id": "fac2b15e",
   "metadata": {},
   "source": [
    "## Решение задачи линейной регрессии методом градиентного спуска"
   ]
  },
  {
   "cell_type": "markdown",
   "id": "b0820ce0",
   "metadata": {
    "ExecuteTime": {
     "end_time": "2021-10-08T14:31:44.843127Z",
     "start_time": "2021-10-08T14:31:44.839958Z"
    }
   },
   "source": [
    "3.Реализуйте формулу предсказания линейной регрессии в фукнции predict. Фукнция возвращает предсказание. Предскахание строится как матрица признаков умноженная на веса. "
   ]
  },
  {
   "cell_type": "code",
   "execution_count": 4,
   "id": "a9f34e8f",
   "metadata": {
    "ExecuteTime": {
     "end_time": "2021-10-28T18:55:13.265404Z",
     "start_time": "2021-10-28T18:55:13.253397Z"
    }
   },
   "outputs": [],
   "source": [
    "def predict(X, theta):\n",
    "    prdiction = X.dot(theta)\n",
    "    return prdiction"
   ]
  },
  {
   "cell_type": "markdown",
   "id": "dc68bc0e",
   "metadata": {},
   "source": [
    "4.Дополните функцию затрат, формула которой приведена в слайдах лекции о Линейной регрессии (подсказка - формула такая же, как если бы мы считали mean squared error).   \n",
    "Функция cost принимает вектор параметров theta, матрицу наших признаков X и реальные значения  целевой переменной y.\n"
   ]
  },
  {
   "cell_type": "code",
   "execution_count": 5,
   "id": "b8e63ce7",
   "metadata": {
    "ExecuteTime": {
     "end_time": "2021-10-28T18:55:14.593945Z",
     "start_time": "2021-10-28T18:55:14.578343Z"
    }
   },
   "outputs": [],
   "source": [
    "def cost(theta, X, y):\n",
    "    m = len(y)\n",
    "    predictions = predict(X, theta)\n",
    "    cost = np.power(predictions - y, 2).sum() / m\n",
    "    return cost"
   ]
  },
  {
   "cell_type": "markdown",
   "id": "64975088",
   "metadata": {},
   "source": [
    "5.Дополните функции get_gradient и gradient_descent, которые позволят реализовать  алгоритм градиетного спуска. Заполните все места, где стоят троеточия. Используйте реализованные в предыдущих заданиях функции cost и predict.\n",
    "Для поиска theta - используйте формулу обновления параметров со слайдов лекции о Линейной регресии."
   ]
  },
  {
   "cell_type": "code",
   "execution_count": 6,
   "id": "6aaba898",
   "metadata": {
    "ExecuteTime": {
     "end_time": "2021-10-28T18:55:15.869576Z",
     "start_time": "2021-10-28T18:55:15.857550Z"
    }
   },
   "outputs": [],
   "source": [
    "def get_gradient(w, x, y):\n",
    "    y_estimate = predict(x, w)\n",
    "    error = y - y_estimate\n",
    "    gradient = -(1.0/len(x)) * error.T.dot(x)\n",
    "    mean_squared_error = cost(w, x, y)\n",
    "    return gradient, mean_squared_error"
   ]
  },
  {
   "cell_type": "code",
   "execution_count": 7,
   "id": "4062f8df",
   "metadata": {
    "ExecuteTime": {
     "end_time": "2021-10-28T18:55:17.522211Z",
     "start_time": "2021-10-28T18:55:17.502213Z"
    }
   },
   "outputs": [],
   "source": [
    "def gradient_descent(X, y, theta, learning_rate, n_iterations, eps):\n",
    "    cost_history = []\n",
    "    theta_history = []\n",
    "    iterations = 1\n",
    "    while True:\n",
    "        gradient, error = get_gradient(theta, X, y)\n",
    "        cost_history.append(error)\n",
    "        new_theta = theta - learning_rate*gradient.T\n",
    "        theta_history.append(new_theta)\n",
    "        # Условие остановки\n",
    "        if np.sum(abs(theta - new_theta)) < eps:\n",
    "            print( \"Алгоритм сошёлся.\")\n",
    "            break\n",
    "        #добавил еще одно условие остановки, т.к. изначальный вариант передачи параметра iterations был бессмысленным\n",
    "        elif iterations == n_iterations:\n",
    "            print(f\"Выполнено {iterations} итераций\")\n",
    "            break\n",
    "\n",
    "        # Print error every 100 iterations\n",
    "        if iterations % 100 == 0:\n",
    "            print (\"Итерация: %d - Ошибка на трейн данных: %.4f\" %(iterations, error))\n",
    "\n",
    "        iterations += 1\n",
    "        theta = new_theta\n",
    "    return theta, cost_history, theta_history, iterations"
   ]
  },
  {
   "cell_type": "markdown",
   "id": "2cefb83e",
   "metadata": {},
   "source": [
    "Подготовим данные."
   ]
  },
  {
   "cell_type": "code",
   "execution_count": 168,
   "id": "fdbb2770",
   "metadata": {
    "ExecuteTime": {
     "end_time": "2021-10-28T20:39:26.492787Z",
     "start_time": "2021-10-28T20:39:26.478798Z"
    }
   },
   "outputs": [],
   "source": [
    "X = df['GDP per capita'].values.reshape(-1,1)\n",
    "y = df['Score'].values.reshape(-1,1)"
   ]
  },
  {
   "cell_type": "markdown",
   "id": "12fb7483",
   "metadata": {},
   "source": [
    "6.Разделите X и y на train и test подвыборки в соотношении 80/20. Поскольку у нас мало данных, validation выборку выделять не будем. Запишите результаты в X_train_df, y_train, X_test_df, y_test."
   ]
  },
  {
   "cell_type": "code",
   "execution_count": 169,
   "id": "e79d3842",
   "metadata": {
    "ExecuteTime": {
     "end_time": "2021-10-28T20:39:27.936518Z",
     "start_time": "2021-10-28T20:39:27.915539Z"
    }
   },
   "outputs": [],
   "source": [
    "test_size = 0.2\n",
    "X_train_df, X_test_df, y_train, y_test = train_test_split(X, y, test_size = test_size, shuffle = True, random_state = 42)"
   ]
  },
  {
   "cell_type": "markdown",
   "id": "f54c99e4",
   "metadata": {},
   "source": [
    "7.Реализуйте масштабирование признаков с использованием MinMaxScaler. Помните о том, как мы примеяем масштабирование признаков на train и test выборках."
   ]
  },
  {
   "cell_type": "code",
   "execution_count": 170,
   "id": "d1380c70",
   "metadata": {
    "ExecuteTime": {
     "end_time": "2021-10-28T20:39:31.964193Z",
     "start_time": "2021-10-28T20:39:31.948220Z"
    }
   },
   "outputs": [],
   "source": [
    "min_max_scaler = MinMaxScaler(feature_range=(0,1))\n",
    "min_max_scaler.fit(X_train_df)\n",
    "\n",
    "X_train_scaled = min_max_scaler.transform(X_train_df)\n",
    "X_test_scaled = min_max_scaler.transform(X_test_df)"
   ]
  },
  {
   "cell_type": "markdown",
   "id": "832cd76a",
   "metadata": {},
   "source": [
    "8.Добавьте колонку из единичек для X_train_df, X_test_df."
   ]
  },
  {
   "cell_type": "code",
   "execution_count": 171,
   "id": "6e6f988c",
   "metadata": {
    "ExecuteTime": {
     "end_time": "2021-10-28T20:39:33.435907Z",
     "start_time": "2021-10-28T20:39:33.420913Z"
    }
   },
   "outputs": [],
   "source": [
    "X_train_scaled_ones = np.hstack((np.ones_like(X_train_scaled), X_train_scaled))\n",
    "X_test_scaled_ones = np.hstack((np.ones_like(X_test_scaled), X_test_scaled))"
   ]
  },
  {
   "cell_type": "markdown",
   "id": "bf927241",
   "metadata": {},
   "source": [
    "9.Установите learning rate равный 0.01, количество итераций 1000 и запустите градиентный спуск на тренировочных данных, передав все необходимые параметры."
   ]
  },
  {
   "cell_type": "code",
   "execution_count": 12,
   "id": "b754ff65",
   "metadata": {
    "ExecuteTime": {
     "end_time": "2021-10-28T18:55:27.922920Z",
     "start_time": "2021-10-28T18:55:27.751723Z"
    }
   },
   "outputs": [
    {
     "name": "stdout",
     "output_type": "stream",
     "text": [
      "Итерация: 100 - Ошибка на трейн данных: 2.3063\n",
      "Итерация: 200 - Ошибка на трейн данных: 0.6877\n",
      "Итерация: 300 - Ошибка на трейн данных: 0.5590\n",
      "Итерация: 400 - Ошибка на трейн данных: 0.5406\n",
      "Итерация: 500 - Ошибка на трейн данных: 0.5312\n",
      "Итерация: 600 - Ошибка на трейн данных: 0.5231\n",
      "Итерация: 700 - Ошибка на трейн данных: 0.5158\n",
      "Итерация: 800 - Ошибка на трейн данных: 0.5092\n",
      "Итерация: 900 - Ошибка на трейн данных: 0.5032\n",
      "Выполнено 1000 итераций\n"
     ]
    }
   ],
   "source": [
    "theta = np.random.randn(2,1)\n",
    "learning_rate = 0.01\n",
    "n_iterations = 1000\n",
    "eps=1e-5\n",
    "\n",
    "theta, cost_history, theta_history, iterations = gradient_descent(X_train_scaled_ones, y_train, theta, \n",
    "                                                                  learning_rate, n_iterations, eps)"
   ]
  },
  {
   "cell_type": "markdown",
   "id": "763cd65b",
   "metadata": {},
   "source": [
    "10.Отобразите на линейном графике cost_history. Используйте любую библиотеку для визуализации."
   ]
  },
  {
   "cell_type": "code",
   "execution_count": 13,
   "id": "2c59977e",
   "metadata": {
    "ExecuteTime": {
     "end_time": "2021-10-28T18:55:30.606181Z",
     "start_time": "2021-10-28T18:55:29.786755Z"
    }
   },
   "outputs": [
    {
     "data": {
      "image/png": "[encoded data removed]",
      "text/plain": [
       "<Figure size 720x360 with 1 Axes>"
      ]
     },
     "metadata": {
      "needs_background": "light"
     },
     "output_type": "display_data"
    }
   ],
   "source": [
    "plt.figure(figsize=(10,5))\n",
    "sns.lineplot(data=cost_history);"
   ]
  },
  {
   "cell_type": "markdown",
   "id": "f25e7b8e",
   "metadata": {
    "ExecuteTime": {
     "end_time": "2021-10-08T14:56:41.741952Z",
     "start_time": "2021-10-08T14:56:41.738456Z"
    }
   },
   "source": [
    "Отобразите только первые 200 итераций. Похоже, после них модель мало обучается. Мы могли бы применить технику early stopping в данном случае и остановиться на некотором небольшом количестве итераций. Обычно эта техника применяется, чтоб збежать переобучения. При этом теряется немного точности на train set."
   ]
  },
  {
   "cell_type": "code",
   "execution_count": 14,
   "id": "a0faa843",
   "metadata": {
    "ExecuteTime": {
     "end_time": "2021-10-28T18:55:32.750889Z",
     "start_time": "2021-10-28T18:55:32.100900Z"
    },
    "scrolled": true
   },
   "outputs": [
    {
     "data": {
      "image/png": "[encoded data removed]",
      "text/plain": [
       "<Figure size 720x360 with 1 Axes>"
      ]
     },
     "metadata": {
      "needs_background": "light"
     },
     "output_type": "display_data"
    }
   ],
   "source": [
    "plt.figure(figsize=(10,5))\n",
    "sns.lineplot(data=cost_history[:200]);"
   ]
  },
  {
   "cell_type": "markdown",
   "id": "1b03a7de",
   "metadata": {},
   "source": [
    "Выведем полученные параметры и последнее значение функции затрат."
   ]
  },
  {
   "cell_type": "code",
   "execution_count": 15,
   "id": "a4b599fc",
   "metadata": {
    "ExecuteTime": {
     "end_time": "2021-10-28T18:55:35.272671Z",
     "start_time": "2021-10-28T18:55:35.258669Z"
    }
   },
   "outputs": [
    {
     "name": "stdout",
     "output_type": "stream",
     "text": [
      "Theta0:          3.953,\n",
      "Theta1:          2.757,\n",
      "Final cost/MSE:  0.498.\n"
     ]
    }
   ],
   "source": [
    "print('Theta0:          {:0.3f},\\nTheta1:          {:0.3f},'.format(theta[0][-1],theta[1][-1]))\n",
    "print('Final cost/MSE:  {:0.3f}.'.format(cost_history[-1]))"
   ]
  },
  {
   "cell_type": "markdown",
   "id": "cc4ed3c4",
   "metadata": {},
   "source": [
    "11.Реализуйте mean_squared_error согласно формуле в лекции (функция очень похожа на cost_function, немного дургие входящие переменные)."
   ]
  },
  {
   "cell_type": "code",
   "execution_count": 16,
   "id": "80a4c340",
   "metadata": {
    "ExecuteTime": {
     "end_time": "2021-10-28T18:55:36.895599Z",
     "start_time": "2021-10-28T18:55:36.884600Z"
    }
   },
   "outputs": [],
   "source": [
    "def my_mean_squared_error(y_true, y_predicted):\n",
    "    error =  np.power(y_predicted - y_true, 2).sum() / len(y_true)\n",
    "    return error"
   ]
  },
  {
   "cell_type": "markdown",
   "id": "4b900aa2",
   "metadata": {},
   "source": [
    "12.Найдите прогнозы на X_train_df, X_test_df и посчитайте ошибку прогнозов на обеих подвыборках."
   ]
  },
  {
   "cell_type": "code",
   "execution_count": 17,
   "id": "92c350ea",
   "metadata": {
    "ExecuteTime": {
     "end_time": "2021-10-28T18:55:38.305178Z",
     "start_time": "2021-10-28T18:55:38.293185Z"
    }
   },
   "outputs": [
    {
     "name": "stdout",
     "output_type": "stream",
     "text": [
      "Ошибка на выборке X_train_df: 0.4976486128791683\n",
      "Ошибка на выборке X_test_df: 0.5541278038029427\n"
     ]
    }
   ],
   "source": [
    "train_predict = predict(X_train_scaled_ones, theta)\n",
    "print(f\"Ошибка на выборке X_train_df: {my_mean_squared_error(y_train, train_predict)}\")\n",
    "\n",
    "test_predict = predict(X_test_scaled_ones, theta)\n",
    "print(f\"Ошибка на выборке X_test_df: {my_mean_squared_error(y_test, test_predict)}\")"
   ]
  },
  {
   "cell_type": "markdown",
   "id": "e5de21d1",
   "metadata": {
    "ExecuteTime": {
     "end_time": "2021-10-08T15:02:52.150262Z",
     "start_time": "2021-10-08T15:02:52.146946Z"
    }
   },
   "source": [
    "13.Выведите диаграмму рассеянья признаков 'Score' и 'GDP per capita' и добавьте линию прогноза модели"
   ]
  },
  {
   "cell_type": "code",
   "execution_count": 18,
   "id": "1b0761ed",
   "metadata": {
    "ExecuteTime": {
     "end_time": "2021-10-28T18:55:41.433335Z",
     "start_time": "2021-10-28T18:55:40.520475Z"
    }
   },
   "outputs": [
    {
     "data": {
      "image/png": "[encoded data removed]",
      "text/plain": [
       "<Figure size 576x576 with 1 Axes>"
      ]
     },
     "metadata": {
      "needs_background": "light"
     },
     "output_type": "display_data"
    }
   ],
   "source": [
    "#интерсепт должен бы быть чуть пониже, но на 1000 итерациях модель немного недообучается\n",
    "plt.figure(figsize=(8,8))\n",
    "plt.scatter(X_train_scaled, y_train, label='train', alpha=0.5);\n",
    "plt.plot(X_train_scaled, train_predict, label='train pred', color='r', linestyle='dotted');\n",
    "plt.scatter(X_test_scaled, y_test, label='test', alpha=0.5);\n",
    "plt.plot(X_test_scaled, test_predict, label='test pred', color='y', linestyle='dotted');\n",
    "\n",
    "plt.xlabel('GDP per capita')\n",
    "plt.ylabel('Score')\n",
    "plt.legend();"
   ]
  },
  {
   "cell_type": "markdown",
   "id": "7c55cead",
   "metadata": {},
   "source": [
    "14.Обучите линейную регрессию на тех же данных используя LinearRegression из sklearn. Внимание, в sklearn модель мы подаём данные в формате датафрейма."
   ]
  },
  {
   "cell_type": "code",
   "execution_count": 19,
   "id": "1812a15d",
   "metadata": {
    "ExecuteTime": {
     "end_time": "2021-10-28T18:55:55.212610Z",
     "start_time": "2021-10-28T18:55:55.074702Z"
    }
   },
   "outputs": [
    {
     "data": {
      "text/plain": [
       "LinearRegression()"
      ]
     },
     "execution_count": 19,
     "metadata": {},
     "output_type": "execute_result"
    }
   ],
   "source": [
    "X_train_lr = pd.DataFrame(X_train_df)\n",
    "X_test_lr = pd.DataFrame(X_test_df)\n",
    "\n",
    "lr = LinearRegression()\n",
    "lr.fit(X_train_lr, y_train)"
   ]
  },
  {
   "cell_type": "markdown",
   "id": "9ff8707d",
   "metadata": {},
   "source": [
    "Сравните ошибку на тестовой выборке линейной регрессии, написанной вами, и из sklearn. Есть ли разница в значениях?"
   ]
  },
  {
   "cell_type": "code",
   "execution_count": 21,
   "id": "e86662ec",
   "metadata": {
    "ExecuteTime": {
     "end_time": "2021-10-28T18:57:25.685149Z",
     "start_time": "2021-10-28T18:57:25.661155Z"
    }
   },
   "outputs": [
    {
     "name": "stdout",
     "output_type": "stream",
     "text": [
      "Тренировочная выборка:\n",
      "   Самописная функция: 0.4976486128791683,\n",
      "   Sklearn: 0.4417211923118578.\n",
      "\n",
      "Тестовая выборка:\n",
      "   Самописная функция: 0.5541278038029427,\n",
      "   Sklearn: 0.5079112698997723.\n"
     ]
    }
   ],
   "source": [
    "lr_train_predict = lr.predict(X_train_lr)\n",
    "lr_test_predict = lr.predict(X_test_lr)\n",
    "\n",
    "lr_train_mse = mean_squared_error(y_train, lr_train_predict)\n",
    "lr_test_mse = mean_squared_error(y_test, lr_test_predict)\n",
    "\n",
    "mse_train = my_mean_squared_error(y_train, train_predict)\n",
    "mse_test = my_mean_squared_error(y_test, test_predict)\n",
    "\n",
    "print(f\"Тренировочная выборка:\\n   Самописная функция: {mse_train},\\n   Sklearn: {lr_train_mse}.\\n\")\n",
    "print(f\"Тестовая выборка:\\n   Самописная функция: {mse_test},\\n   Sklearn: {lr_test_mse}.\")"
   ]
  },
  {
   "cell_type": "code",
   "execution_count": 51,
   "id": "5fd0fcf7",
   "metadata": {
    "ExecuteTime": {
     "end_time": "2021-10-28T19:21:32.702463Z",
     "start_time": "2021-10-28T19:21:31.595349Z"
    },
    "scrolled": true
   },
   "outputs": [
    {
     "data": {
      "image/png": "[encoded data removed]",
      "text/plain": [
       "<Figure size 576x576 with 1 Axes>"
      ]
     },
     "metadata": {
      "needs_background": "light"
     },
     "output_type": "display_data"
    }
   ],
   "source": [
    "#выводим для сравнения график рассеяния и линию предсказания на оснвоании прогноза sklearn\n",
    "plt.figure(figsize=(8,8))\n",
    "plt.scatter(X_train_lr, y_train, label='train', alpha=0.5);\n",
    "plt.plot(X_train_lr[0], lr_train_predict, label='train pred', color='r', linestyle='dashed');\n",
    "plt.scatter(X_test_lr, y_test, label='test', alpha=0.5);\n",
    "plt.plot(X_test_lr[0], lr_test_predict, label='train pred', color='y', linestyle='dashed');\n",
    "\n",
    "plt.xlabel('GDP per capita')\n",
    "plt.ylabel('Score')\n",
    "plt.legend();"
   ]
  },
  {
   "cell_type": "markdown",
   "id": "61e8299b",
   "metadata": {},
   "source": [
    "15.Давайте обучим линейную регрессию на всех данных и посмотрим, стало ли лучше."
   ]
  },
  {
   "cell_type": "markdown",
   "id": "a4e10ab5",
   "metadata": {
    "ExecuteTime": {
     "end_time": "2021-10-14T16:54:08.159686Z",
     "start_time": "2021-10-14T16:54:08.152242Z"
    }
   },
   "source": [
    "15.1.Обучите линейную регрессию из sklearn с помощью используя в качестве набора фичей 'GDP per capita', 'Social support', 'Healthy life expectancy', 'Freedom to make life choices', 'Generosity', 'Perceptions of corruption'\n",
    "\n",
    "Не забудьте:  \n",
    "    1. Разделить на train и test.  \n",
    "    2. Нормировать каждую колонку данных.  "
   ]
  },
  {
   "cell_type": "code",
   "execution_count": 185,
   "id": "dfedfbe1",
   "metadata": {
    "ExecuteTime": {
     "end_time": "2021-10-28T20:42:55.023775Z",
     "start_time": "2021-10-28T20:42:55.004799Z"
    }
   },
   "outputs": [],
   "source": [
    "#функция для получения индексов для выборок тест и трейн\n",
    "def get_subsets(X):\n",
    "    train_id, test_id = train_test_split(X.index, test_size=test_size, shuffle=True, random_state=42)\n",
    "    return train_id, test_id"
   ]
  },
  {
   "cell_type": "code",
   "execution_count": 186,
   "id": "feb00e8c",
   "metadata": {
    "ExecuteTime": {
     "end_time": "2021-10-28T20:42:56.835906Z",
     "start_time": "2021-10-28T20:42:56.818915Z"
    }
   },
   "outputs": [],
   "source": [
    "#формируем новый data frame\n",
    "features = ['GDP per capita', 'Social support', 'Healthy life expectancy', 'Freedom to make life choices', \n",
    "            'Generosity', 'Perceptions of corruption']\n",
    "X_1 = df[features]\n",
    "y_1 = df['Score']"
   ]
  },
  {
   "cell_type": "code",
   "execution_count": 187,
   "id": "97590c38",
   "metadata": {
    "ExecuteTime": {
     "end_time": "2021-10-28T20:43:01.883461Z",
     "start_time": "2021-10-28T20:43:01.869465Z"
    }
   },
   "outputs": [],
   "source": [
    "#получаем индексы для тест и трейн выборок\n",
    "test_size = 0.2\n",
    "train_id, test_id = get_subsets(X_1)"
   ]
  },
  {
   "cell_type": "code",
   "execution_count": 188,
   "id": "bc80f8fe",
   "metadata": {
    "ExecuteTime": {
     "end_time": "2021-10-28T20:43:05.765431Z",
     "start_time": "2021-10-28T20:43:05.732467Z"
    }
   },
   "outputs": [],
   "source": [
    "#скейлим данные\n",
    "min_max_scaler_1 = MinMaxScaler(feature_range=(0, 1))\n",
    "min_max_scaler_1.fit(X_1.loc[train_id])\n",
    "min_max_scaled = min_max_scaler_1.transform(X_1)\n",
    "min_max_scaled_df = pd.DataFrame(min_max_scaled, columns=X_1.columns)"
   ]
  },
  {
   "cell_type": "code",
   "execution_count": 189,
   "id": "af4cd60e",
   "metadata": {
    "ExecuteTime": {
     "end_time": "2021-10-28T20:43:37.722520Z",
     "start_time": "2021-10-28T20:43:37.695544Z"
    }
   },
   "outputs": [
    {
     "data": {
      "text/plain": [
       "LinearRegression()"
      ]
     },
     "execution_count": 189,
     "metadata": {},
     "output_type": "execute_result"
    }
   ],
   "source": [
    "#обучаем модель\n",
    "lr_1 = LinearRegression()\n",
    "lr_1.fit(min_max_scaled_df.loc[train_id], y_1.loc[train_id])"
   ]
  },
  {
   "cell_type": "code",
   "execution_count": 190,
   "id": "be2949ee",
   "metadata": {
    "ExecuteTime": {
     "end_time": "2021-10-28T20:43:45.545974Z",
     "start_time": "2021-10-28T20:43:45.523969Z"
    }
   },
   "outputs": [],
   "source": [
    "#получаем прогноз по тестовым и тренировочным выборкам\n",
    "y_train_predict = lr_1.predict(min_max_scaled_df.loc[train_id])\n",
    "y_test_predict = lr_1.predict(min_max_scaled_df.loc[test_id])"
   ]
  },
  {
   "cell_type": "markdown",
   "id": "8d8e3625",
   "metadata": {},
   "source": [
    "15.2.Выведите ошибку прогноза на train и test выборках. Сравните с результатом, полученным при обучении на одном признаке. Изменились ли метрики?"
   ]
  },
  {
   "cell_type": "code",
   "execution_count": 191,
   "id": "95591a90",
   "metadata": {
    "ExecuteTime": {
     "end_time": "2021-10-28T20:43:46.613787Z",
     "start_time": "2021-10-28T20:43:46.595792Z"
    }
   },
   "outputs": [
    {
     "name": "stdout",
     "output_type": "stream",
     "text": [
      "Ошибка на:\n",
      "   -тренировочной выборке по одному признаку: 0.4417211923118578;\n",
      "   -тренировочной выборке по 6ти признакам: 0.23646992155921964;\n",
      "   -тестовой выборке по одному признаку: 0.5079112698997723;\n",
      "   -тестовой выборке по 6ти признакам: 0.4144641383528352.\n"
     ]
    }
   ],
   "source": [
    "mse_train_1 = mean_squared_error(y_1.loc[train_id], y_train_predict)\n",
    "mse_test_1 = mean_squared_error(y_1.loc[test_id], y_test_predict)\n",
    "\n",
    "print(f\"Ошибка на:\\n   -тренировочной выборке по одному признаку: {lr_train_mse};\") \n",
    "print(f\"   -тренировочной выборке по 6ти признакам: {mse_train_1};\") \n",
    "print(f\"   -тестовой выборке по одному признаку: {lr_test_mse};\") \n",
    "print(f\"   -тестовой выборке по 6ти признакам: {mse_test_1}.\")"
   ]
  },
  {
   "cell_type": "markdown",
   "id": "f1b2b3fb",
   "metadata": {},
   "source": [
    "15.3.Выведите коэффициенты модели и определите, какие признаки имеют стоящие перед ними наибольшие коэффициенты по модулю (достаточно вывести названия признаков и коэффициенты в одном датафрейме)."
   ]
  },
  {
   "cell_type": "code",
   "execution_count": 192,
   "id": "8649e634",
   "metadata": {
    "ExecuteTime": {
     "end_time": "2021-10-28T20:43:56.943767Z",
     "start_time": "2021-10-28T20:43:56.913772Z"
    }
   },
   "outputs": [
    {
     "data": {
      "text/html": [
       "<div>\n",
       "<style scoped>\n",
       "    .dataframe tbody tr th:only-of-type {\n",
       "        vertical-align: middle;\n",
       "    }\n",
       "\n",
       "    .dataframe tbody tr th {\n",
       "        vertical-align: top;\n",
       "    }\n",
       "\n",
       "    .dataframe thead th {\n",
       "        text-align: right;\n",
       "    }\n",
       "</style>\n",
       "<table border=\"1\" class=\"dataframe\">\n",
       "  <thead>\n",
       "    <tr style=\"text-align: right;\">\n",
       "      <th></th>\n",
       "      <th>Thetas</th>\n",
       "    </tr>\n",
       "  </thead>\n",
       "  <tbody>\n",
       "    <tr>\n",
       "      <th>Social support</th>\n",
       "      <td>2.001295</td>\n",
       "    </tr>\n",
       "    <tr>\n",
       "      <th>GDP per capita</th>\n",
       "      <td>1.264207</td>\n",
       "    </tr>\n",
       "    <tr>\n",
       "      <th>Healthy life expectancy</th>\n",
       "      <td>1.062208</td>\n",
       "    </tr>\n",
       "    <tr>\n",
       "      <th>Freedom to make life choices</th>\n",
       "      <td>0.940072</td>\n",
       "    </tr>\n",
       "    <tr>\n",
       "      <th>Perceptions of corruption</th>\n",
       "      <td>0.503931</td>\n",
       "    </tr>\n",
       "    <tr>\n",
       "      <th>Generosity</th>\n",
       "      <td>0.153034</td>\n",
       "    </tr>\n",
       "  </tbody>\n",
       "</table>\n",
       "</div>"
      ],
      "text/plain": [
       "                                Thetas\n",
       "Social support                2.001295\n",
       "GDP per capita                1.264207\n",
       "Healthy life expectancy       1.062208\n",
       "Freedom to make life choices  0.940072\n",
       "Perceptions of corruption     0.503931\n",
       "Generosity                    0.153034"
      ]
     },
     "execution_count": 192,
     "metadata": {},
     "output_type": "execute_result"
    }
   ],
   "source": [
    "pd.DataFrame(data=lr_1.coef_, index=X_1.columns, columns=['Thetas']).sort_values('Thetas', ascending=False)"
   ]
  },
  {
   "cell_type": "markdown",
   "id": "21912671",
   "metadata": {},
   "source": [
    "16.Обучите модель полиномиальной регрессии со степенью 2 на тех же данных, что и в предыдущем пункте. Используйте в процессе обучения PolynomialFeatures. Исследуйте метрики качества на трейн и тест датасетах. Есть ли оверфит?"
   ]
  },
  {
   "cell_type": "code",
   "execution_count": 193,
   "id": "3cd0f022",
   "metadata": {
    "ExecuteTime": {
     "end_time": "2021-10-28T20:43:59.680158Z",
     "start_time": "2021-10-28T20:43:59.666146Z"
    }
   },
   "outputs": [],
   "source": [
    "#функция получения качества метрик модели\n",
    "def get_metrics(y_true, y_predicted):\n",
    "    params = dict(y_true=y_true, y_pred=y_predicted)\n",
    "    mse = mean_squared_error(**params)\n",
    "    r2 = r2_score(**params)\n",
    "    return dict(mse=mse, r2=r2)"
   ]
  },
  {
   "cell_type": "code",
   "execution_count": 194,
   "id": "ba8dc3c3",
   "metadata": {
    "ExecuteTime": {
     "end_time": "2021-10-28T20:44:02.218364Z",
     "start_time": "2021-10-28T20:44:02.209365Z"
    }
   },
   "outputs": [],
   "source": [
    "#функция обучения\n",
    "def poly_reg(X, y, degree):\n",
    "    polynomial_features = PolynomialFeatures(degree=degree)\n",
    "    X_train_poly = polynomial_features.fit_transform(X.loc[train_id])\n",
    "    X_test_poly = polynomial_features.fit_transform(X.loc[test_id])\n",
    "\n",
    "    poly_model = LinearRegression()\n",
    "    poly_model.fit(X_train_poly, y.loc[train_id])\n",
    "    \n",
    "    poly_train_predict = poly_model.predict(X_train_poly)\n",
    "    poly_test_predict = poly_model.predict(X_test_poly)\n",
    "    \n",
    "    return poly_train_predict, poly_test_predict, poly_model  "
   ]
  },
  {
   "cell_type": "code",
   "execution_count": 195,
   "id": "f2432d1c",
   "metadata": {
    "ExecuteTime": {
     "end_time": "2021-10-28T20:44:04.394745Z",
     "start_time": "2021-10-28T20:44:04.338748Z"
    }
   },
   "outputs": [],
   "source": [
    "degree = 2\n",
    "poly_train_predict, poly_test_predict, poly_model = poly_reg(min_max_scaled_df, y_1, degree)"
   ]
  },
  {
   "cell_type": "code",
   "execution_count": 196,
   "id": "953db32f",
   "metadata": {
    "ExecuteTime": {
     "end_time": "2021-10-28T20:44:05.883662Z",
     "start_time": "2021-10-28T20:44:05.861655Z"
    },
    "scrolled": true
   },
   "outputs": [
    {
     "name": "stdout",
     "output_type": "stream",
     "text": [
      "Train subset: {'mse': 0.3548564246786794, 'r2': 0.7226514915643878}\n",
      "Test subset: {'mse': 0.5161164057617187, 'r2': 0.5040791643968614}\n"
     ]
    }
   ],
   "source": [
    "#выводим метрики качества\n",
    "#оверфит при степени 2 отсутсвует\n",
    "print(f\"Train subset: {get_metrics(y_1.loc[train_id], poly_train_predict)}\")\n",
    "print(f\"Test subset: {get_metrics(y_1.loc[test_id], poly_test_predict)}\")"
   ]
  },
  {
   "cell_type": "markdown",
   "id": "af1ffc17",
   "metadata": {},
   "source": [
    "17.Сделайте пайплайн с шагами MinMaxScaler, PolynomialFeatures и ElasticNet. Проведите поиск оптимальных гиперпараметров на тренировочном наборе данных используя GridSearchCV, метрика качества.   \n",
    "Какие риперпараметры искать выберите на своё усмотрение, к примеру, это могут быть параметры регуляризации ElasticNet или количество степеней в PolynomialFeatures.  \n",
    "Выведите значения найденнях оптимальных гиперпараметров.  \n",
    "Лучшую модель из кросс валидации оцените на тестовом наборе данных.  \n",
    "\n",
    "\n",
    "Какая модель в домашнем задании дала лучшие значения Mean Squared Error на тестовых данных, лин. регрессия написанная самостоятельно, лин. регрессия из sklearn, полиномиальная регрессия со степенями фичей 2, модель найденная в результате поиска гиперпараметров?  "
   ]
  },
  {
   "cell_type": "code",
   "execution_count": 217,
   "id": "8b654ac1",
   "metadata": {
    "ExecuteTime": {
     "end_time": "2021-10-28T23:45:01.849744Z",
     "start_time": "2021-10-28T23:45:01.840753Z"
    }
   },
   "outputs": [],
   "source": [
    "pipeline = Pipeline([\n",
    "                    ('scaler', MinMaxScaler()),\n",
    "                    ('polynomial_features', PolynomialFeatures()),\n",
    "                    ('model', ElasticNet())\n",
    "])"
   ]
  },
  {
   "cell_type": "code",
   "execution_count": 223,
   "id": "46f7e063",
   "metadata": {
    "ExecuteTime": {
     "end_time": "2021-10-29T00:34:17.628922Z",
     "start_time": "2021-10-29T00:34:17.611931Z"
    }
   },
   "outputs": [],
   "source": [
    "param_grid = {\n",
    "    'polynomial_features__degree': np.arange(2,5,1),\n",
    "    'model__alpha': np.arange(0.0001,0.8,0.1),\n",
    "    'model__l1_ratio': np.arange(0.1,1,0.2),\n",
    "    'model__fit_intercept': [True, False]\n",
    "}\n",
    "\n",
    "search = GridSearchCV(pipeline,\n",
    "                      param_grid,\n",
    "                      cv = 5,\n",
    "                      scoring=\"neg_mean_squared_error\",\n",
    "                      verbose=0\n",
    "                     )"
   ]
  },
  {
   "cell_type": "code",
   "execution_count": 224,
   "id": "6d6634aa",
   "metadata": {
    "ExecuteTime": {
     "end_time": "2021-10-29T00:34:56.990440Z",
     "start_time": "2021-10-29T00:34:20.877393Z"
    }
   },
   "outputs": [
    {
     "name": "stderr",
     "output_type": "stream",
     "text": [
      "C:\\Users\\user\\anaconda3\\lib\\site-packages\\sklearn\\linear_model\\_coordinate_descent.py:530: ConvergenceWarning: Objective did not converge. You might want to increase the number of iterations. Duality gap: 6.406804751023673, tolerance: 0.013437523262626264\n",
      "  model = cd_fast.enet_coordinate_descent(\n",
      "C:\\Users\\user\\anaconda3\\lib\\site-packages\\sklearn\\linear_model\\_coordinate_descent.py:530: ConvergenceWarning: Objective did not converge. You might want to increase the number of iterations. Duality gap: 7.519635546349082, tolerance: 0.012134407200000003\n",
      "  model = cd_fast.enet_coordinate_descent(\n",
      "C:\\Users\\user\\anaconda3\\lib\\site-packages\\sklearn\\linear_model\\_coordinate_descent.py:530: ConvergenceWarning: Objective did not converge. You might want to increase the number of iterations. Duality gap: 6.340650703740498, tolerance: 0.01324279734141414\n",
      "  model = cd_fast.enet_coordinate_descent(\n",
      "C:\\Users\\user\\anaconda3\\lib\\site-packages\\sklearn\\linear_model\\_coordinate_descent.py:530: ConvergenceWarning: Objective did not converge. You might want to increase the number of iterations. Duality gap: 7.194197760772508, tolerance: 0.011968970563636364\n",
      "  model = cd_fast.enet_coordinate_descent(\n",
      "C:\\Users\\user\\anaconda3\\lib\\site-packages\\sklearn\\linear_model\\_coordinate_descent.py:530: ConvergenceWarning: Objective did not converge. You might want to increase the number of iterations. Duality gap: 6.928860504787588, tolerance: 0.012654043896\n",
      "  model = cd_fast.enet_coordinate_descent(\n",
      "C:\\Users\\user\\anaconda3\\lib\\site-packages\\sklearn\\linear_model\\_coordinate_descent.py:530: ConvergenceWarning: Objective did not converge. You might want to increase the number of iterations. Duality gap: 5.4394074815541265, tolerance: 0.013437523262626264\n",
      "  model = cd_fast.enet_coordinate_descent(\n",
      "C:\\Users\\user\\anaconda3\\lib\\site-packages\\sklearn\\linear_model\\_coordinate_descent.py:530: ConvergenceWarning: Objective did not converge. You might want to increase the number of iterations. Duality gap: 6.460243644825606, tolerance: 0.012134407200000003\n",
      "  model = cd_fast.enet_coordinate_descent(\n",
      "C:\\Users\\user\\anaconda3\\lib\\site-packages\\sklearn\\linear_model\\_coordinate_descent.py:530: ConvergenceWarning: Objective did not converge. You might want to increase the number of iterations. Duality gap: 5.809762042947366, tolerance: 0.01324279734141414\n",
      "  model = cd_fast.enet_coordinate_descent(\n",
      "C:\\Users\\user\\anaconda3\\lib\\site-packages\\sklearn\\linear_model\\_coordinate_descent.py:530: ConvergenceWarning: Objective did not converge. You might want to increase the number of iterations. Duality gap: 6.029772378017075, tolerance: 0.011968970563636364\n",
      "  model = cd_fast.enet_coordinate_descent(\n",
      "C:\\Users\\user\\anaconda3\\lib\\site-packages\\sklearn\\linear_model\\_coordinate_descent.py:530: ConvergenceWarning: Objective did not converge. You might want to increase the number of iterations. Duality gap: 5.81801754353253, tolerance: 0.012654043896\n",
      "  model = cd_fast.enet_coordinate_descent(\n",
      "C:\\Users\\user\\anaconda3\\lib\\site-packages\\sklearn\\linear_model\\_coordinate_descent.py:530: ConvergenceWarning: Objective did not converge. You might want to increase the number of iterations. Duality gap: 4.568599459591788, tolerance: 0.013437523262626264\n",
      "  model = cd_fast.enet_coordinate_descent(\n",
      "C:\\Users\\user\\anaconda3\\lib\\site-packages\\sklearn\\linear_model\\_coordinate_descent.py:530: ConvergenceWarning: Objective did not converge. You might want to increase the number of iterations. Duality gap: 5.704708486807915, tolerance: 0.012134407200000003\n",
      "  model = cd_fast.enet_coordinate_descent(\n",
      "C:\\Users\\user\\anaconda3\\lib\\site-packages\\sklearn\\linear_model\\_coordinate_descent.py:530: ConvergenceWarning: Objective did not converge. You might want to increase the number of iterations. Duality gap: 5.010438120350466, tolerance: 0.01324279734141414\n",
      "  model = cd_fast.enet_coordinate_descent(\n",
      "C:\\Users\\user\\anaconda3\\lib\\site-packages\\sklearn\\linear_model\\_coordinate_descent.py:530: ConvergenceWarning: Objective did not converge. You might want to increase the number of iterations. Duality gap: 5.233222417693961, tolerance: 0.011968970563636364\n",
      "  model = cd_fast.enet_coordinate_descent(\n",
      "C:\\Users\\user\\anaconda3\\lib\\site-packages\\sklearn\\linear_model\\_coordinate_descent.py:530: ConvergenceWarning: Objective did not converge. You might want to increase the number of iterations. Duality gap: 4.807535986020115, tolerance: 0.012654043896\n",
      "  model = cd_fast.enet_coordinate_descent(\n",
      "C:\\Users\\user\\anaconda3\\lib\\site-packages\\sklearn\\linear_model\\_coordinate_descent.py:530: ConvergenceWarning: Objective did not converge. You might want to increase the number of iterations. Duality gap: 5.230408416299684, tolerance: 0.013437523262626264\n",
      "  model = cd_fast.enet_coordinate_descent(\n",
      "C:\\Users\\user\\anaconda3\\lib\\site-packages\\sklearn\\linear_model\\_coordinate_descent.py:530: ConvergenceWarning: Objective did not converge. You might want to increase the number of iterations. Duality gap: 6.181148780812389, tolerance: 0.012134407200000003\n",
      "  model = cd_fast.enet_coordinate_descent(\n",
      "C:\\Users\\user\\anaconda3\\lib\\site-packages\\sklearn\\linear_model\\_coordinate_descent.py:530: ConvergenceWarning: Objective did not converge. You might want to increase the number of iterations. Duality gap: 5.136307379857314, tolerance: 0.01324279734141414\n",
      "  model = cd_fast.enet_coordinate_descent(\n",
      "C:\\Users\\user\\anaconda3\\lib\\site-packages\\sklearn\\linear_model\\_coordinate_descent.py:530: ConvergenceWarning: Objective did not converge. You might want to increase the number of iterations. Duality gap: 5.832655610936973, tolerance: 0.011968970563636364\n",
      "  model = cd_fast.enet_coordinate_descent(\n",
      "C:\\Users\\user\\anaconda3\\lib\\site-packages\\sklearn\\linear_model\\_coordinate_descent.py:530: ConvergenceWarning: Objective did not converge. You might want to increase the number of iterations. Duality gap: 5.804518522409246, tolerance: 0.012654043896\n",
      "  model = cd_fast.enet_coordinate_descent(\n",
      "C:\\Users\\user\\anaconda3\\lib\\site-packages\\sklearn\\linear_model\\_coordinate_descent.py:530: ConvergenceWarning: Objective did not converge. You might want to increase the number of iterations. Duality gap: 4.632436274314763, tolerance: 0.013437523262626264\n",
      "  model = cd_fast.enet_coordinate_descent(\n",
      "C:\\Users\\user\\anaconda3\\lib\\site-packages\\sklearn\\linear_model\\_coordinate_descent.py:530: ConvergenceWarning: Objective did not converge. You might want to increase the number of iterations. Duality gap: 5.272064555119422, tolerance: 0.012134407200000003\n",
      "  model = cd_fast.enet_coordinate_descent(\n",
      "C:\\Users\\user\\anaconda3\\lib\\site-packages\\sklearn\\linear_model\\_coordinate_descent.py:530: ConvergenceWarning: Objective did not converge. You might want to increase the number of iterations. Duality gap: 4.772531893517309, tolerance: 0.01324279734141414\n",
      "  model = cd_fast.enet_coordinate_descent(\n",
      "C:\\Users\\user\\anaconda3\\lib\\site-packages\\sklearn\\linear_model\\_coordinate_descent.py:530: ConvergenceWarning: Objective did not converge. You might want to increase the number of iterations. Duality gap: 4.874039580113672, tolerance: 0.011968970563636364\n",
      "  model = cd_fast.enet_coordinate_descent(\n",
      "C:\\Users\\user\\anaconda3\\lib\\site-packages\\sklearn\\linear_model\\_coordinate_descent.py:530: ConvergenceWarning: Objective did not converge. You might want to increase the number of iterations. Duality gap: 4.975064616635364, tolerance: 0.012654043896\n",
      "  model = cd_fast.enet_coordinate_descent(\n",
      "C:\\Users\\user\\anaconda3\\lib\\site-packages\\sklearn\\linear_model\\_coordinate_descent.py:530: ConvergenceWarning: Objective did not converge. You might want to increase the number of iterations. Duality gap: 3.735506996313812, tolerance: 0.013437523262626264\n",
      "  model = cd_fast.enet_coordinate_descent(\n",
      "C:\\Users\\user\\anaconda3\\lib\\site-packages\\sklearn\\linear_model\\_coordinate_descent.py:530: ConvergenceWarning: Objective did not converge. You might want to increase the number of iterations. Duality gap: 4.666512410925066, tolerance: 0.012134407200000003\n",
      "  model = cd_fast.enet_coordinate_descent(\n",
      "C:\\Users\\user\\anaconda3\\lib\\site-packages\\sklearn\\linear_model\\_coordinate_descent.py:530: ConvergenceWarning: Objective did not converge. You might want to increase the number of iterations. Duality gap: 3.9283845245034277, tolerance: 0.01324279734141414\n",
      "  model = cd_fast.enet_coordinate_descent(\n",
      "C:\\Users\\user\\anaconda3\\lib\\site-packages\\sklearn\\linear_model\\_coordinate_descent.py:530: ConvergenceWarning: Objective did not converge. You might want to increase the number of iterations. Duality gap: 4.332358255562546, tolerance: 0.011968970563636364\n",
      "  model = cd_fast.enet_coordinate_descent(\n"
     ]
    },
    {
     "name": "stderr",
     "output_type": "stream",
     "text": [
      "C:\\Users\\user\\anaconda3\\lib\\site-packages\\sklearn\\linear_model\\_coordinate_descent.py:530: ConvergenceWarning: Objective did not converge. You might want to increase the number of iterations. Duality gap: 3.9292014315741297, tolerance: 0.012654043896\n",
      "  model = cd_fast.enet_coordinate_descent(\n",
      "C:\\Users\\user\\anaconda3\\lib\\site-packages\\sklearn\\linear_model\\_coordinate_descent.py:530: ConvergenceWarning: Objective did not converge. You might want to increase the number of iterations. Duality gap: 4.67780570112242, tolerance: 0.013437523262626264\n",
      "  model = cd_fast.enet_coordinate_descent(\n",
      "C:\\Users\\user\\anaconda3\\lib\\site-packages\\sklearn\\linear_model\\_coordinate_descent.py:530: ConvergenceWarning: Objective did not converge. You might want to increase the number of iterations. Duality gap: 5.314850824368868, tolerance: 0.012134407200000003\n",
      "  model = cd_fast.enet_coordinate_descent(\n",
      "C:\\Users\\user\\anaconda3\\lib\\site-packages\\sklearn\\linear_model\\_coordinate_descent.py:530: ConvergenceWarning: Objective did not converge. You might want to increase the number of iterations. Duality gap: 4.82922887495514, tolerance: 0.01324279734141414\n",
      "  model = cd_fast.enet_coordinate_descent(\n",
      "C:\\Users\\user\\anaconda3\\lib\\site-packages\\sklearn\\linear_model\\_coordinate_descent.py:530: ConvergenceWarning: Objective did not converge. You might want to increase the number of iterations. Duality gap: 5.268536270650286, tolerance: 0.011968970563636364\n",
      "  model = cd_fast.enet_coordinate_descent(\n",
      "C:\\Users\\user\\anaconda3\\lib\\site-packages\\sklearn\\linear_model\\_coordinate_descent.py:530: ConvergenceWarning: Objective did not converge. You might want to increase the number of iterations. Duality gap: 5.528402917865658, tolerance: 0.012654043896\n",
      "  model = cd_fast.enet_coordinate_descent(\n",
      "C:\\Users\\user\\anaconda3\\lib\\site-packages\\sklearn\\linear_model\\_coordinate_descent.py:530: ConvergenceWarning: Objective did not converge. You might want to increase the number of iterations. Duality gap: 3.821811963586372, tolerance: 0.013437523262626264\n",
      "  model = cd_fast.enet_coordinate_descent(\n",
      "C:\\Users\\user\\anaconda3\\lib\\site-packages\\sklearn\\linear_model\\_coordinate_descent.py:530: ConvergenceWarning: Objective did not converge. You might want to increase the number of iterations. Duality gap: 4.185173916127305, tolerance: 0.012134407200000003\n",
      "  model = cd_fast.enet_coordinate_descent(\n",
      "C:\\Users\\user\\anaconda3\\lib\\site-packages\\sklearn\\linear_model\\_coordinate_descent.py:530: ConvergenceWarning: Objective did not converge. You might want to increase the number of iterations. Duality gap: 4.161656695075169, tolerance: 0.01324279734141414\n",
      "  model = cd_fast.enet_coordinate_descent(\n",
      "C:\\Users\\user\\anaconda3\\lib\\site-packages\\sklearn\\linear_model\\_coordinate_descent.py:530: ConvergenceWarning: Objective did not converge. You might want to increase the number of iterations. Duality gap: 3.9557065851120883, tolerance: 0.011968970563636364\n",
      "  model = cd_fast.enet_coordinate_descent(\n",
      "C:\\Users\\user\\anaconda3\\lib\\site-packages\\sklearn\\linear_model\\_coordinate_descent.py:530: ConvergenceWarning: Objective did not converge. You might want to increase the number of iterations. Duality gap: 4.207262674050344, tolerance: 0.012654043896\n",
      "  model = cd_fast.enet_coordinate_descent(\n",
      "C:\\Users\\user\\anaconda3\\lib\\site-packages\\sklearn\\linear_model\\_coordinate_descent.py:530: ConvergenceWarning: Objective did not converge. You might want to increase the number of iterations. Duality gap: 2.989084262846224, tolerance: 0.013437523262626264\n",
      "  model = cd_fast.enet_coordinate_descent(\n",
      "C:\\Users\\user\\anaconda3\\lib\\site-packages\\sklearn\\linear_model\\_coordinate_descent.py:530: ConvergenceWarning: Objective did not converge. You might want to increase the number of iterations. Duality gap: 3.992878297367913, tolerance: 0.012134407200000003\n",
      "  model = cd_fast.enet_coordinate_descent(\n",
      "C:\\Users\\user\\anaconda3\\lib\\site-packages\\sklearn\\linear_model\\_coordinate_descent.py:530: ConvergenceWarning: Objective did not converge. You might want to increase the number of iterations. Duality gap: 3.1667916987188724, tolerance: 0.01324279734141414\n",
      "  model = cd_fast.enet_coordinate_descent(\n",
      "C:\\Users\\user\\anaconda3\\lib\\site-packages\\sklearn\\linear_model\\_coordinate_descent.py:530: ConvergenceWarning: Objective did not converge. You might want to increase the number of iterations. Duality gap: 3.7406306704104306, tolerance: 0.011968970563636364\n",
      "  model = cd_fast.enet_coordinate_descent(\n",
      "C:\\Users\\user\\anaconda3\\lib\\site-packages\\sklearn\\linear_model\\_coordinate_descent.py:530: ConvergenceWarning: Objective did not converge. You might want to increase the number of iterations. Duality gap: 3.313856068493328, tolerance: 0.012654043896\n",
      "  model = cd_fast.enet_coordinate_descent(\n",
      "C:\\Users\\user\\anaconda3\\lib\\site-packages\\sklearn\\linear_model\\_coordinate_descent.py:530: ConvergenceWarning: Objective did not converge. You might want to increase the number of iterations. Duality gap: 4.3034041768346345, tolerance: 0.013437523262626264\n",
      "  model = cd_fast.enet_coordinate_descent(\n",
      "C:\\Users\\user\\anaconda3\\lib\\site-packages\\sklearn\\linear_model\\_coordinate_descent.py:530: ConvergenceWarning: Objective did not converge. You might want to increase the number of iterations. Duality gap: 4.491077683157712, tolerance: 0.012134407200000003\n",
      "  model = cd_fast.enet_coordinate_descent(\n",
      "C:\\Users\\user\\anaconda3\\lib\\site-packages\\sklearn\\linear_model\\_coordinate_descent.py:530: ConvergenceWarning: Objective did not converge. You might want to increase the number of iterations. Duality gap: 4.504625016785546, tolerance: 0.01324279734141414\n",
      "  model = cd_fast.enet_coordinate_descent(\n",
      "C:\\Users\\user\\anaconda3\\lib\\site-packages\\sklearn\\linear_model\\_coordinate_descent.py:530: ConvergenceWarning: Objective did not converge. You might want to increase the number of iterations. Duality gap: 5.233752726193067, tolerance: 0.011968970563636364\n",
      "  model = cd_fast.enet_coordinate_descent(\n",
      "C:\\Users\\user\\anaconda3\\lib\\site-packages\\sklearn\\linear_model\\_coordinate_descent.py:530: ConvergenceWarning: Objective did not converge. You might want to increase the number of iterations. Duality gap: 5.310216862979331, tolerance: 0.012654043896\n",
      "  model = cd_fast.enet_coordinate_descent(\n",
      "C:\\Users\\user\\anaconda3\\lib\\site-packages\\sklearn\\linear_model\\_coordinate_descent.py:530: ConvergenceWarning: Objective did not converge. You might want to increase the number of iterations. Duality gap: 3.5333952008528566, tolerance: 0.013437523262626264\n",
      "  model = cd_fast.enet_coordinate_descent(\n",
      "C:\\Users\\user\\anaconda3\\lib\\site-packages\\sklearn\\linear_model\\_coordinate_descent.py:530: ConvergenceWarning: Objective did not converge. You might want to increase the number of iterations. Duality gap: 3.5061211427924106, tolerance: 0.012134407200000003\n",
      "  model = cd_fast.enet_coordinate_descent(\n",
      "C:\\Users\\user\\anaconda3\\lib\\site-packages\\sklearn\\linear_model\\_coordinate_descent.py:530: ConvergenceWarning: Objective did not converge. You might want to increase the number of iterations. Duality gap: 3.861552725707755, tolerance: 0.01324279734141414\n",
      "  model = cd_fast.enet_coordinate_descent(\n",
      "C:\\Users\\user\\anaconda3\\lib\\site-packages\\sklearn\\linear_model\\_coordinate_descent.py:530: ConvergenceWarning: Objective did not converge. You might want to increase the number of iterations. Duality gap: 3.355451207385772, tolerance: 0.011968970563636364\n",
      "  model = cd_fast.enet_coordinate_descent(\n",
      "C:\\Users\\user\\anaconda3\\lib\\site-packages\\sklearn\\linear_model\\_coordinate_descent.py:530: ConvergenceWarning: Objective did not converge. You might want to increase the number of iterations. Duality gap: 3.5047991946468335, tolerance: 0.012654043896\n",
      "  model = cd_fast.enet_coordinate_descent(\n",
      "C:\\Users\\user\\anaconda3\\lib\\site-packages\\sklearn\\linear_model\\_coordinate_descent.py:530: ConvergenceWarning: Objective did not converge. You might want to increase the number of iterations. Duality gap: 2.3434605548871863, tolerance: 0.013437523262626264\n",
      "  model = cd_fast.enet_coordinate_descent(\n",
      "C:\\Users\\user\\anaconda3\\lib\\site-packages\\sklearn\\linear_model\\_coordinate_descent.py:530: ConvergenceWarning: Objective did not converge. You might want to increase the number of iterations. Duality gap: 3.362648888960575, tolerance: 0.012134407200000003\n",
      "  model = cd_fast.enet_coordinate_descent(\n",
      "C:\\Users\\user\\anaconda3\\lib\\site-packages\\sklearn\\linear_model\\_coordinate_descent.py:530: ConvergenceWarning: Objective did not converge. You might want to increase the number of iterations. Duality gap: 2.8756679795114133, tolerance: 0.01324279734141414\n",
      "  model = cd_fast.enet_coordinate_descent(\n"
     ]
    },
    {
     "name": "stderr",
     "output_type": "stream",
     "text": [
      "C:\\Users\\user\\anaconda3\\lib\\site-packages\\sklearn\\linear_model\\_coordinate_descent.py:530: ConvergenceWarning: Objective did not converge. You might want to increase the number of iterations. Duality gap: 3.366208658275592, tolerance: 0.011968970563636364\n",
      "  model = cd_fast.enet_coordinate_descent(\n",
      "C:\\Users\\user\\anaconda3\\lib\\site-packages\\sklearn\\linear_model\\_coordinate_descent.py:530: ConvergenceWarning: Objective did not converge. You might want to increase the number of iterations. Duality gap: 2.8607708660278397, tolerance: 0.012654043896\n",
      "  model = cd_fast.enet_coordinate_descent(\n",
      "C:\\Users\\user\\anaconda3\\lib\\site-packages\\sklearn\\linear_model\\_coordinate_descent.py:530: ConvergenceWarning: Objective did not converge. You might want to increase the number of iterations. Duality gap: 4.369691965766419, tolerance: 0.013437523262626264\n",
      "  model = cd_fast.enet_coordinate_descent(\n",
      "C:\\Users\\user\\anaconda3\\lib\\site-packages\\sklearn\\linear_model\\_coordinate_descent.py:530: ConvergenceWarning: Objective did not converge. You might want to increase the number of iterations. Duality gap: 4.005776922211803, tolerance: 0.012134407200000003\n",
      "  model = cd_fast.enet_coordinate_descent(\n",
      "C:\\Users\\user\\anaconda3\\lib\\site-packages\\sklearn\\linear_model\\_coordinate_descent.py:530: ConvergenceWarning: Objective did not converge. You might want to increase the number of iterations. Duality gap: 4.115624209234165, tolerance: 0.01324279734141414\n",
      "  model = cd_fast.enet_coordinate_descent(\n",
      "C:\\Users\\user\\anaconda3\\lib\\site-packages\\sklearn\\linear_model\\_coordinate_descent.py:530: ConvergenceWarning: Objective did not converge. You might want to increase the number of iterations. Duality gap: 5.32562977778732, tolerance: 0.011968970563636364\n",
      "  model = cd_fast.enet_coordinate_descent(\n",
      "C:\\Users\\user\\anaconda3\\lib\\site-packages\\sklearn\\linear_model\\_coordinate_descent.py:530: ConvergenceWarning: Objective did not converge. You might want to increase the number of iterations. Duality gap: 5.283460073421581, tolerance: 0.012654043896\n",
      "  model = cd_fast.enet_coordinate_descent(\n",
      "C:\\Users\\user\\anaconda3\\lib\\site-packages\\sklearn\\linear_model\\_coordinate_descent.py:530: ConvergenceWarning: Objective did not converge. You might want to increase the number of iterations. Duality gap: 3.234521256327063, tolerance: 0.013437523262626264\n",
      "  model = cd_fast.enet_coordinate_descent(\n",
      "C:\\Users\\user\\anaconda3\\lib\\site-packages\\sklearn\\linear_model\\_coordinate_descent.py:530: ConvergenceWarning: Objective did not converge. You might want to increase the number of iterations. Duality gap: 3.299026474292282, tolerance: 0.012134407200000003\n",
      "  model = cd_fast.enet_coordinate_descent(\n",
      "C:\\Users\\user\\anaconda3\\lib\\site-packages\\sklearn\\linear_model\\_coordinate_descent.py:530: ConvergenceWarning: Objective did not converge. You might want to increase the number of iterations. Duality gap: 3.4666372168131443, tolerance: 0.01324279734141414\n",
      "  model = cd_fast.enet_coordinate_descent(\n",
      "C:\\Users\\user\\anaconda3\\lib\\site-packages\\sklearn\\linear_model\\_coordinate_descent.py:530: ConvergenceWarning: Objective did not converge. You might want to increase the number of iterations. Duality gap: 3.0578235627918673, tolerance: 0.011968970563636364\n",
      "  model = cd_fast.enet_coordinate_descent(\n",
      "C:\\Users\\user\\anaconda3\\lib\\site-packages\\sklearn\\linear_model\\_coordinate_descent.py:530: ConvergenceWarning: Objective did not converge. You might want to increase the number of iterations. Duality gap: 3.2706854213220584, tolerance: 0.012654043896\n",
      "  model = cd_fast.enet_coordinate_descent(\n",
      "C:\\Users\\user\\anaconda3\\lib\\site-packages\\sklearn\\linear_model\\_coordinate_descent.py:530: ConvergenceWarning: Objective did not converge. You might want to increase the number of iterations. Duality gap: 2.1593448794006154, tolerance: 0.013437523262626264\n",
      "  model = cd_fast.enet_coordinate_descent(\n",
      "C:\\Users\\user\\anaconda3\\lib\\site-packages\\sklearn\\linear_model\\_coordinate_descent.py:530: ConvergenceWarning: Objective did not converge. You might want to increase the number of iterations. Duality gap: 2.4188018623610805, tolerance: 0.012134407200000003\n",
      "  model = cd_fast.enet_coordinate_descent(\n",
      "C:\\Users\\user\\anaconda3\\lib\\site-packages\\sklearn\\linear_model\\_coordinate_descent.py:530: ConvergenceWarning: Objective did not converge. You might want to increase the number of iterations. Duality gap: 2.4747830103247987, tolerance: 0.01324279734141414\n",
      "  model = cd_fast.enet_coordinate_descent(\n",
      "C:\\Users\\user\\anaconda3\\lib\\site-packages\\sklearn\\linear_model\\_coordinate_descent.py:530: ConvergenceWarning: Objective did not converge. You might want to increase the number of iterations. Duality gap: 2.8732369722787006, tolerance: 0.011968970563636364\n",
      "  model = cd_fast.enet_coordinate_descent(\n",
      "C:\\Users\\user\\anaconda3\\lib\\site-packages\\sklearn\\linear_model\\_coordinate_descent.py:530: ConvergenceWarning: Objective did not converge. You might want to increase the number of iterations. Duality gap: 2.564605929242882, tolerance: 0.012654043896\n",
      "  model = cd_fast.enet_coordinate_descent(\n",
      "C:\\Users\\user\\anaconda3\\lib\\site-packages\\sklearn\\linear_model\\_coordinate_descent.py:530: ConvergenceWarning: Objective did not converge. You might want to increase the number of iterations. Duality gap: 7.3234797985135955, tolerance: 0.3013045421\n",
      "  model = cd_fast.enet_coordinate_descent(\n",
      "C:\\Users\\user\\anaconda3\\lib\\site-packages\\sklearn\\linear_model\\_coordinate_descent.py:530: ConvergenceWarning: Objective did not converge. You might want to increase the number of iterations. Duality gap: 8.61543609271085, tolerance: 0.3006402347\n",
      "  model = cd_fast.enet_coordinate_descent(\n",
      "C:\\Users\\user\\anaconda3\\lib\\site-packages\\sklearn\\linear_model\\_coordinate_descent.py:530: ConvergenceWarning: Objective did not converge. You might want to increase the number of iterations. Duality gap: 7.596887806180278, tolerance: 0.3000226676\n",
      "  model = cd_fast.enet_coordinate_descent(\n",
      "C:\\Users\\user\\anaconda3\\lib\\site-packages\\sklearn\\linear_model\\_coordinate_descent.py:530: ConvergenceWarning: Objective did not converge. You might want to increase the number of iterations. Duality gap: 8.325514468724739, tolerance: 0.2971643742\n",
      "  model = cd_fast.enet_coordinate_descent(\n",
      "C:\\Users\\user\\anaconda3\\lib\\site-packages\\sklearn\\linear_model\\_coordinate_descent.py:530: ConvergenceWarning: Objective did not converge. You might want to increase the number of iterations. Duality gap: 7.908310644168244, tolerance: 0.3077767794\n",
      "  model = cd_fast.enet_coordinate_descent(\n",
      "C:\\Users\\user\\anaconda3\\lib\\site-packages\\sklearn\\linear_model\\_coordinate_descent.py:530: ConvergenceWarning: Objective did not converge. You might want to increase the number of iterations. Duality gap: 5.81440190572137, tolerance: 0.3013045421\n",
      "  model = cd_fast.enet_coordinate_descent(\n",
      "C:\\Users\\user\\anaconda3\\lib\\site-packages\\sklearn\\linear_model\\_coordinate_descent.py:530: ConvergenceWarning: Objective did not converge. You might want to increase the number of iterations. Duality gap: 7.10842146979981, tolerance: 0.3006402347\n",
      "  model = cd_fast.enet_coordinate_descent(\n",
      "C:\\Users\\user\\anaconda3\\lib\\site-packages\\sklearn\\linear_model\\_coordinate_descent.py:530: ConvergenceWarning: Objective did not converge. You might want to increase the number of iterations. Duality gap: 6.338136660809537, tolerance: 0.3000226676\n",
      "  model = cd_fast.enet_coordinate_descent(\n",
      "C:\\Users\\user\\anaconda3\\lib\\site-packages\\sklearn\\linear_model\\_coordinate_descent.py:530: ConvergenceWarning: Objective did not converge. You might want to increase the number of iterations. Duality gap: 6.532593182526999, tolerance: 0.2971643742\n",
      "  model = cd_fast.enet_coordinate_descent(\n",
      "C:\\Users\\user\\anaconda3\\lib\\site-packages\\sklearn\\linear_model\\_coordinate_descent.py:530: ConvergenceWarning: Objective did not converge. You might want to increase the number of iterations. Duality gap: 6.344538073542939, tolerance: 0.3077767794\n",
      "  model = cd_fast.enet_coordinate_descent(\n",
      "C:\\Users\\user\\anaconda3\\lib\\site-packages\\sklearn\\linear_model\\_coordinate_descent.py:530: ConvergenceWarning: Objective did not converge. You might want to increase the number of iterations. Duality gap: 4.985861953856126, tolerance: 0.3013045421\n",
      "  model = cd_fast.enet_coordinate_descent(\n",
      "C:\\Users\\user\\anaconda3\\lib\\site-packages\\sklearn\\linear_model\\_coordinate_descent.py:530: ConvergenceWarning: Objective did not converge. You might want to increase the number of iterations. Duality gap: 6.432988146167009, tolerance: 0.3006402347\n",
      "  model = cd_fast.enet_coordinate_descent(\n"
     ]
    },
    {
     "name": "stderr",
     "output_type": "stream",
     "text": [
      "C:\\Users\\user\\anaconda3\\lib\\site-packages\\sklearn\\linear_model\\_coordinate_descent.py:530: ConvergenceWarning: Objective did not converge. You might want to increase the number of iterations. Duality gap: 5.588549030449308, tolerance: 0.3000226676\n",
      "  model = cd_fast.enet_coordinate_descent(\n",
      "C:\\Users\\user\\anaconda3\\lib\\site-packages\\sklearn\\linear_model\\_coordinate_descent.py:530: ConvergenceWarning: Objective did not converge. You might want to increase the number of iterations. Duality gap: 5.7214450417124825, tolerance: 0.2971643742\n",
      "  model = cd_fast.enet_coordinate_descent(\n",
      "C:\\Users\\user\\anaconda3\\lib\\site-packages\\sklearn\\linear_model\\_coordinate_descent.py:530: ConvergenceWarning: Objective did not converge. You might want to increase the number of iterations. Duality gap: 5.37479384445011, tolerance: 0.3077767794\n",
      "  model = cd_fast.enet_coordinate_descent(\n",
      "C:\\Users\\user\\anaconda3\\lib\\site-packages\\sklearn\\linear_model\\_coordinate_descent.py:530: ConvergenceWarning: Objective did not converge. You might want to increase the number of iterations. Duality gap: 6.991181381542217, tolerance: 0.3013045421\n",
      "  model = cd_fast.enet_coordinate_descent(\n",
      "C:\\Users\\user\\anaconda3\\lib\\site-packages\\sklearn\\linear_model\\_coordinate_descent.py:530: ConvergenceWarning: Objective did not converge. You might want to increase the number of iterations. Duality gap: 8.146600963585193, tolerance: 0.3006402347\n",
      "  model = cd_fast.enet_coordinate_descent(\n",
      "C:\\Users\\user\\anaconda3\\lib\\site-packages\\sklearn\\linear_model\\_coordinate_descent.py:530: ConvergenceWarning: Objective did not converge. You might want to increase the number of iterations. Duality gap: 7.278598571907091, tolerance: 0.3000226676\n",
      "  model = cd_fast.enet_coordinate_descent(\n",
      "C:\\Users\\user\\anaconda3\\lib\\site-packages\\sklearn\\linear_model\\_coordinate_descent.py:530: ConvergenceWarning: Objective did not converge. You might want to increase the number of iterations. Duality gap: 8.013729205442598, tolerance: 0.2971643742\n",
      "  model = cd_fast.enet_coordinate_descent(\n",
      "C:\\Users\\user\\anaconda3\\lib\\site-packages\\sklearn\\linear_model\\_coordinate_descent.py:530: ConvergenceWarning: Objective did not converge. You might want to increase the number of iterations. Duality gap: 7.557886563299703, tolerance: 0.3077767794\n",
      "  model = cd_fast.enet_coordinate_descent(\n",
      "C:\\Users\\user\\anaconda3\\lib\\site-packages\\sklearn\\linear_model\\_coordinate_descent.py:530: ConvergenceWarning: Objective did not converge. You might want to increase the number of iterations. Duality gap: 5.42608278490321, tolerance: 0.3013045421\n",
      "  model = cd_fast.enet_coordinate_descent(\n",
      "C:\\Users\\user\\anaconda3\\lib\\site-packages\\sklearn\\linear_model\\_coordinate_descent.py:530: ConvergenceWarning: Objective did not converge. You might want to increase the number of iterations. Duality gap: 6.485830544872134, tolerance: 0.3006402347\n",
      "  model = cd_fast.enet_coordinate_descent(\n",
      "C:\\Users\\user\\anaconda3\\lib\\site-packages\\sklearn\\linear_model\\_coordinate_descent.py:530: ConvergenceWarning: Objective did not converge. You might want to increase the number of iterations. Duality gap: 5.795007417133774, tolerance: 0.3000226676\n",
      "  model = cd_fast.enet_coordinate_descent(\n",
      "C:\\Users\\user\\anaconda3\\lib\\site-packages\\sklearn\\linear_model\\_coordinate_descent.py:530: ConvergenceWarning: Objective did not converge. You might want to increase the number of iterations. Duality gap: 5.9522624971521445, tolerance: 0.2971643742\n",
      "  model = cd_fast.enet_coordinate_descent(\n",
      "C:\\Users\\user\\anaconda3\\lib\\site-packages\\sklearn\\linear_model\\_coordinate_descent.py:530: ConvergenceWarning: Objective did not converge. You might want to increase the number of iterations. Duality gap: 5.854998667366606, tolerance: 0.3077767794\n",
      "  model = cd_fast.enet_coordinate_descent(\n",
      "C:\\Users\\user\\anaconda3\\lib\\site-packages\\sklearn\\linear_model\\_coordinate_descent.py:530: ConvergenceWarning: Objective did not converge. You might want to increase the number of iterations. Duality gap: 4.441700500579858, tolerance: 0.3013045421\n",
      "  model = cd_fast.enet_coordinate_descent(\n",
      "C:\\Users\\user\\anaconda3\\lib\\site-packages\\sklearn\\linear_model\\_coordinate_descent.py:530: ConvergenceWarning: Objective did not converge. You might want to increase the number of iterations. Duality gap: 6.021883863552828, tolerance: 0.3006402347\n",
      "  model = cd_fast.enet_coordinate_descent(\n",
      "C:\\Users\\user\\anaconda3\\lib\\site-packages\\sklearn\\linear_model\\_coordinate_descent.py:530: ConvergenceWarning: Objective did not converge. You might want to increase the number of iterations. Duality gap: 5.0712453501481365, tolerance: 0.3000226676\n",
      "  model = cd_fast.enet_coordinate_descent(\n",
      "C:\\Users\\user\\anaconda3\\lib\\site-packages\\sklearn\\linear_model\\_coordinate_descent.py:530: ConvergenceWarning: Objective did not converge. You might want to increase the number of iterations. Duality gap: 5.261741272272565, tolerance: 0.2971643742\n",
      "  model = cd_fast.enet_coordinate_descent(\n",
      "C:\\Users\\user\\anaconda3\\lib\\site-packages\\sklearn\\linear_model\\_coordinate_descent.py:530: ConvergenceWarning: Objective did not converge. You might want to increase the number of iterations. Duality gap: 4.981405781182828, tolerance: 0.3077767794\n",
      "  model = cd_fast.enet_coordinate_descent(\n",
      "C:\\Users\\user\\anaconda3\\lib\\site-packages\\sklearn\\linear_model\\_coordinate_descent.py:530: ConvergenceWarning: Objective did not converge. You might want to increase the number of iterations. Duality gap: 6.67260043346496, tolerance: 0.3013045421\n",
      "  model = cd_fast.enet_coordinate_descent(\n",
      "C:\\Users\\user\\anaconda3\\lib\\site-packages\\sklearn\\linear_model\\_coordinate_descent.py:530: ConvergenceWarning: Objective did not converge. You might want to increase the number of iterations. Duality gap: 7.695960476932805, tolerance: 0.3006402347\n",
      "  model = cd_fast.enet_coordinate_descent(\n",
      "C:\\Users\\user\\anaconda3\\lib\\site-packages\\sklearn\\linear_model\\_coordinate_descent.py:530: ConvergenceWarning: Objective did not converge. You might want to increase the number of iterations. Duality gap: 6.992117983125195, tolerance: 0.3000226676\n",
      "  model = cd_fast.enet_coordinate_descent(\n",
      "C:\\Users\\user\\anaconda3\\lib\\site-packages\\sklearn\\linear_model\\_coordinate_descent.py:530: ConvergenceWarning: Objective did not converge. You might want to increase the number of iterations. Duality gap: 7.733192849860988, tolerance: 0.2971643742\n",
      "  model = cd_fast.enet_coordinate_descent(\n",
      "C:\\Users\\user\\anaconda3\\lib\\site-packages\\sklearn\\linear_model\\_coordinate_descent.py:530: ConvergenceWarning: Objective did not converge. You might want to increase the number of iterations. Duality gap: 7.24640047106733, tolerance: 0.3077767794\n",
      "  model = cd_fast.enet_coordinate_descent(\n",
      "C:\\Users\\user\\anaconda3\\lib\\site-packages\\sklearn\\linear_model\\_coordinate_descent.py:530: ConvergenceWarning: Objective did not converge. You might want to increase the number of iterations. Duality gap: 5.020624746439882, tolerance: 0.3013045421\n",
      "  model = cd_fast.enet_coordinate_descent(\n",
      "C:\\Users\\user\\anaconda3\\lib\\site-packages\\sklearn\\linear_model\\_coordinate_descent.py:530: ConvergenceWarning: Objective did not converge. You might want to increase the number of iterations. Duality gap: 5.935822579775476, tolerance: 0.3006402347\n",
      "  model = cd_fast.enet_coordinate_descent(\n",
      "C:\\Users\\user\\anaconda3\\lib\\site-packages\\sklearn\\linear_model\\_coordinate_descent.py:530: ConvergenceWarning: Objective did not converge. You might want to increase the number of iterations. Duality gap: 5.264902372397297, tolerance: 0.3000226676\n",
      "  model = cd_fast.enet_coordinate_descent(\n",
      "C:\\Users\\user\\anaconda3\\lib\\site-packages\\sklearn\\linear_model\\_coordinate_descent.py:530: ConvergenceWarning: Objective did not converge. You might want to increase the number of iterations. Duality gap: 5.430564510457218, tolerance: 0.2971643742\n",
      "  model = cd_fast.enet_coordinate_descent(\n",
      "C:\\Users\\user\\anaconda3\\lib\\site-packages\\sklearn\\linear_model\\_coordinate_descent.py:530: ConvergenceWarning: Objective did not converge. You might want to increase the number of iterations. Duality gap: 5.372796216082361, tolerance: 0.3077767794\n",
      "  model = cd_fast.enet_coordinate_descent(\n",
      "C:\\Users\\user\\anaconda3\\lib\\site-packages\\sklearn\\linear_model\\_coordinate_descent.py:530: ConvergenceWarning: Objective did not converge. You might want to increase the number of iterations. Duality gap: 4.114091363963483, tolerance: 0.3013045421\n",
      "  model = cd_fast.enet_coordinate_descent(\n",
      "C:\\Users\\user\\anaconda3\\lib\\site-packages\\sklearn\\linear_model\\_coordinate_descent.py:530: ConvergenceWarning: Objective did not converge. You might want to increase the number of iterations. Duality gap: 5.661225369819844, tolerance: 0.3006402347\n",
      "  model = cd_fast.enet_coordinate_descent(\n"
     ]
    },
    {
     "name": "stderr",
     "output_type": "stream",
     "text": [
      "C:\\Users\\user\\anaconda3\\lib\\site-packages\\sklearn\\linear_model\\_coordinate_descent.py:530: ConvergenceWarning: Objective did not converge. You might want to increase the number of iterations. Duality gap: 4.588069104970777, tolerance: 0.3000226676\n",
      "  model = cd_fast.enet_coordinate_descent(\n",
      "C:\\Users\\user\\anaconda3\\lib\\site-packages\\sklearn\\linear_model\\_coordinate_descent.py:530: ConvergenceWarning: Objective did not converge. You might want to increase the number of iterations. Duality gap: 4.768098032121519, tolerance: 0.2971643742\n",
      "  model = cd_fast.enet_coordinate_descent(\n",
      "C:\\Users\\user\\anaconda3\\lib\\site-packages\\sklearn\\linear_model\\_coordinate_descent.py:530: ConvergenceWarning: Objective did not converge. You might want to increase the number of iterations. Duality gap: 4.704353014176659, tolerance: 0.3077767794\n",
      "  model = cd_fast.enet_coordinate_descent(\n",
      "C:\\Users\\user\\anaconda3\\lib\\site-packages\\sklearn\\linear_model\\_coordinate_descent.py:530: ConvergenceWarning: Objective did not converge. You might want to increase the number of iterations. Duality gap: 6.374142800428318, tolerance: 0.3013045421\n",
      "  model = cd_fast.enet_coordinate_descent(\n",
      "C:\\Users\\user\\anaconda3\\lib\\site-packages\\sklearn\\linear_model\\_coordinate_descent.py:530: ConvergenceWarning: Objective did not converge. You might want to increase the number of iterations. Duality gap: 7.257073184544673, tolerance: 0.3006402347\n",
      "  model = cd_fast.enet_coordinate_descent(\n",
      "C:\\Users\\user\\anaconda3\\lib\\site-packages\\sklearn\\linear_model\\_coordinate_descent.py:530: ConvergenceWarning: Objective did not converge. You might want to increase the number of iterations. Duality gap: 6.730300962715952, tolerance: 0.3000226676\n",
      "  model = cd_fast.enet_coordinate_descent(\n",
      "C:\\Users\\user\\anaconda3\\lib\\site-packages\\sklearn\\linear_model\\_coordinate_descent.py:530: ConvergenceWarning: Objective did not converge. You might want to increase the number of iterations. Duality gap: 7.479601312011272, tolerance: 0.2971643742\n",
      "  model = cd_fast.enet_coordinate_descent(\n",
      "C:\\Users\\user\\anaconda3\\lib\\site-packages\\sklearn\\linear_model\\_coordinate_descent.py:530: ConvergenceWarning: Objective did not converge. You might want to increase the number of iterations. Duality gap: 6.961795463586597, tolerance: 0.3077767794\n",
      "  model = cd_fast.enet_coordinate_descent(\n",
      "C:\\Users\\user\\anaconda3\\lib\\site-packages\\sklearn\\linear_model\\_coordinate_descent.py:530: ConvergenceWarning: Objective did not converge. You might want to increase the number of iterations. Duality gap: 4.624170316264484, tolerance: 0.3013045421\n",
      "  model = cd_fast.enet_coordinate_descent(\n",
      "C:\\Users\\user\\anaconda3\\lib\\site-packages\\sklearn\\linear_model\\_coordinate_descent.py:530: ConvergenceWarning: Objective did not converge. You might want to increase the number of iterations. Duality gap: 5.385961315910441, tolerance: 0.3006402347\n",
      "  model = cd_fast.enet_coordinate_descent(\n",
      "C:\\Users\\user\\anaconda3\\lib\\site-packages\\sklearn\\linear_model\\_coordinate_descent.py:530: ConvergenceWarning: Objective did not converge. You might want to increase the number of iterations. Duality gap: 4.778779647201425, tolerance: 0.3000226676\n",
      "  model = cd_fast.enet_coordinate_descent(\n",
      "C:\\Users\\user\\anaconda3\\lib\\site-packages\\sklearn\\linear_model\\_coordinate_descent.py:530: ConvergenceWarning: Objective did not converge. You might want to increase the number of iterations. Duality gap: 5.149078882460183, tolerance: 0.2971643742\n",
      "  model = cd_fast.enet_coordinate_descent(\n",
      "C:\\Users\\user\\anaconda3\\lib\\site-packages\\sklearn\\linear_model\\_coordinate_descent.py:530: ConvergenceWarning: Objective did not converge. You might want to increase the number of iterations. Duality gap: 5.1359883323093625, tolerance: 0.3077767794\n",
      "  model = cd_fast.enet_coordinate_descent(\n",
      "C:\\Users\\user\\anaconda3\\lib\\site-packages\\sklearn\\linear_model\\_coordinate_descent.py:530: ConvergenceWarning: Objective did not converge. You might want to increase the number of iterations. Duality gap: 3.536430163898265, tolerance: 0.3013045421\n",
      "  model = cd_fast.enet_coordinate_descent(\n",
      "C:\\Users\\user\\anaconda3\\lib\\site-packages\\sklearn\\linear_model\\_coordinate_descent.py:530: ConvergenceWarning: Objective did not converge. You might want to increase the number of iterations. Duality gap: 5.379806664768832, tolerance: 0.3006402347\n",
      "  model = cd_fast.enet_coordinate_descent(\n",
      "C:\\Users\\user\\anaconda3\\lib\\site-packages\\sklearn\\linear_model\\_coordinate_descent.py:530: ConvergenceWarning: Objective did not converge. You might want to increase the number of iterations. Duality gap: 4.16061453276933, tolerance: 0.3000226676\n",
      "  model = cd_fast.enet_coordinate_descent(\n",
      "C:\\Users\\user\\anaconda3\\lib\\site-packages\\sklearn\\linear_model\\_coordinate_descent.py:530: ConvergenceWarning: Objective did not converge. You might want to increase the number of iterations. Duality gap: 4.408990325356115, tolerance: 0.2971643742\n",
      "  model = cd_fast.enet_coordinate_descent(\n",
      "C:\\Users\\user\\anaconda3\\lib\\site-packages\\sklearn\\linear_model\\_coordinate_descent.py:530: ConvergenceWarning: Objective did not converge. You might want to increase the number of iterations. Duality gap: 4.417147208765431, tolerance: 0.3077767794\n",
      "  model = cd_fast.enet_coordinate_descent(\n",
      "C:\\Users\\user\\anaconda3\\lib\\site-packages\\sklearn\\linear_model\\_coordinate_descent.py:530: ConvergenceWarning: Objective did not converge. You might want to increase the number of iterations. Duality gap: 6.1871286545615245, tolerance: 0.3013045421\n",
      "  model = cd_fast.enet_coordinate_descent(\n",
      "C:\\Users\\user\\anaconda3\\lib\\site-packages\\sklearn\\linear_model\\_coordinate_descent.py:530: ConvergenceWarning: Objective did not converge. You might want to increase the number of iterations. Duality gap: 6.827987887678198, tolerance: 0.3006402347\n",
      "  model = cd_fast.enet_coordinate_descent(\n",
      "C:\\Users\\user\\anaconda3\\lib\\site-packages\\sklearn\\linear_model\\_coordinate_descent.py:530: ConvergenceWarning: Objective did not converge. You might want to increase the number of iterations. Duality gap: 6.487155099043309, tolerance: 0.3000226676\n",
      "  model = cd_fast.enet_coordinate_descent(\n",
      "C:\\Users\\user\\anaconda3\\lib\\site-packages\\sklearn\\linear_model\\_coordinate_descent.py:530: ConvergenceWarning: Objective did not converge. You might want to increase the number of iterations. Duality gap: 7.259368184861818, tolerance: 0.2971643742\n",
      "  model = cd_fast.enet_coordinate_descent(\n",
      "C:\\Users\\user\\anaconda3\\lib\\site-packages\\sklearn\\linear_model\\_coordinate_descent.py:530: ConvergenceWarning: Objective did not converge. You might want to increase the number of iterations. Duality gap: 6.698852710183611, tolerance: 0.3077767794\n",
      "  model = cd_fast.enet_coordinate_descent(\n",
      "C:\\Users\\user\\anaconda3\\lib\\site-packages\\sklearn\\linear_model\\_coordinate_descent.py:530: ConvergenceWarning: Objective did not converge. You might want to increase the number of iterations. Duality gap: 4.237273946219348, tolerance: 0.3013045421\n",
      "  model = cd_fast.enet_coordinate_descent(\n",
      "C:\\Users\\user\\anaconda3\\lib\\site-packages\\sklearn\\linear_model\\_coordinate_descent.py:530: ConvergenceWarning: Objective did not converge. You might want to increase the number of iterations. Duality gap: 4.612473038233355, tolerance: 0.3006402347\n",
      "  model = cd_fast.enet_coordinate_descent(\n",
      "C:\\Users\\user\\anaconda3\\lib\\site-packages\\sklearn\\linear_model\\_coordinate_descent.py:530: ConvergenceWarning: Objective did not converge. You might want to increase the number of iterations. Duality gap: 4.464818434157919, tolerance: 0.3000226676\n",
      "  model = cd_fast.enet_coordinate_descent(\n",
      "C:\\Users\\user\\anaconda3\\lib\\site-packages\\sklearn\\linear_model\\_coordinate_descent.py:530: ConvergenceWarning: Objective did not converge. You might want to increase the number of iterations. Duality gap: 4.904262534987312, tolerance: 0.2971643742\n",
      "  model = cd_fast.enet_coordinate_descent(\n",
      "C:\\Users\\user\\anaconda3\\lib\\site-packages\\sklearn\\linear_model\\_coordinate_descent.py:530: ConvergenceWarning: Objective did not converge. You might want to increase the number of iterations. Duality gap: 4.94822920376729, tolerance: 0.3077767794\n",
      "  model = cd_fast.enet_coordinate_descent(\n",
      "C:\\Users\\user\\anaconda3\\lib\\site-packages\\sklearn\\linear_model\\_coordinate_descent.py:530: ConvergenceWarning: Objective did not converge. You might want to increase the number of iterations. Duality gap: 3.1324505395078273, tolerance: 0.3013045421\n",
      "  model = cd_fast.enet_coordinate_descent(\n"
     ]
    },
    {
     "name": "stderr",
     "output_type": "stream",
     "text": [
      "C:\\Users\\user\\anaconda3\\lib\\site-packages\\sklearn\\linear_model\\_coordinate_descent.py:530: ConvergenceWarning: Objective did not converge. You might want to increase the number of iterations. Duality gap: 5.026245984840381, tolerance: 0.3006402347\n",
      "  model = cd_fast.enet_coordinate_descent(\n",
      "C:\\Users\\user\\anaconda3\\lib\\site-packages\\sklearn\\linear_model\\_coordinate_descent.py:530: ConvergenceWarning: Objective did not converge. You might want to increase the number of iterations. Duality gap: 3.779232523190986, tolerance: 0.3000226676\n",
      "  model = cd_fast.enet_coordinate_descent(\n",
      "C:\\Users\\user\\anaconda3\\lib\\site-packages\\sklearn\\linear_model\\_coordinate_descent.py:530: ConvergenceWarning: Objective did not converge. You might want to increase the number of iterations. Duality gap: 4.374531288195881, tolerance: 0.2971643742\n",
      "  model = cd_fast.enet_coordinate_descent(\n",
      "C:\\Users\\user\\anaconda3\\lib\\site-packages\\sklearn\\linear_model\\_coordinate_descent.py:530: ConvergenceWarning: Objective did not converge. You might want to increase the number of iterations. Duality gap: 4.121086548926124, tolerance: 0.3077767794\n",
      "  model = cd_fast.enet_coordinate_descent(\n"
     ]
    },
    {
     "data": {
      "text/plain": [
       "GridSearchCV(cv=5,\n",
       "             estimator=Pipeline(steps=[('scaler', MinMaxScaler()),\n",
       "                                       ('polynomial_features',\n",
       "                                        PolynomialFeatures()),\n",
       "                                       ('model', ElasticNet())]),\n",
       "             param_grid={'model__alpha': array([1.000e-04, 1.001e-01, 2.001e-01, 3.001e-01, 4.001e-01, 5.001e-01,\n",
       "       6.001e-01, 7.001e-01]),\n",
       "                         'model__fit_intercept': [True, False],\n",
       "                         'model__l1_ratio': array([0.1, 0.3, 0.5, 0.7, 0.9]),\n",
       "                         'polynomial_features__degree': array([2, 3, 4])},\n",
       "             scoring='neg_mean_squared_error')"
      ]
     },
     "execution_count": 224,
     "metadata": {},
     "output_type": "execute_result"
    }
   ],
   "source": [
    "search.fit(X_1.loc[train_id], y_1.loc[train_id])"
   ]
  },
  {
   "cell_type": "code",
   "execution_count": 225,
   "id": "a07997d1",
   "metadata": {
    "ExecuteTime": {
     "end_time": "2021-10-29T00:35:01.183511Z",
     "start_time": "2021-10-29T00:35:01.165536Z"
    }
   },
   "outputs": [
    {
     "data": {
      "text/plain": [
       "{'model__alpha': 0.10010000000000001,\n",
       " 'model__fit_intercept': True,\n",
       " 'model__l1_ratio': 0.1,\n",
       " 'polynomial_features__degree': 4}"
      ]
     },
     "execution_count": 225,
     "metadata": {},
     "output_type": "execute_result"
    }
   ],
   "source": [
    "search.best_params_"
   ]
  },
  {
   "cell_type": "code",
   "execution_count": 230,
   "id": "b45ab9ee",
   "metadata": {
    "ExecuteTime": {
     "end_time": "2021-10-29T00:43:08.967417Z",
     "start_time": "2021-10-29T00:43:08.935438Z"
    }
   },
   "outputs": [],
   "source": [
    "#ищем предсказание по тестовой выборке на основании подобранной модели\n",
    "best_model=search.best_estimator_\n",
    "\n",
    "test_cv_prediction = best_model.predict(X_1.loc[test_id])\n",
    "cv_metrics = get_metrics(y_1.loc[test_id], test_cv_prediction)"
   ]
  },
  {
   "cell_type": "code",
   "execution_count": 232,
   "id": "38b7be6f",
   "metadata": {
    "ExecuteTime": {
     "end_time": "2021-10-29T00:44:23.238465Z",
     "start_time": "2021-10-29T00:44:23.223472Z"
    }
   },
   "outputs": [
    {
     "name": "stdout",
     "output_type": "stream",
     "text": [
      "Линейная регрессия (mse):\n",
      "   Самописная функция: 0.5541278038029427,\n",
      "   Sklearn: 0.5079112698997723.\n",
      "Полиномиальная регрессия со степенью фичей 2: {'mse': 0.5161164057617187, 'r2': 0.5040791643968614}\n",
      "Модель, найденная в результате поиска гиперпараметров: {'mse': 0.32288404063418774, 'r2': 0.6897503713374482}\n"
     ]
    }
   ],
   "source": [
    "#сравниваем метрики по различным моделям\n",
    "print(f\"Линейная регрессия (mse):\\n   Самописная функция: {mse_test},\\n   Sklearn: {lr_test_mse}.\")\n",
    "print(f\"Полиномиальная регрессия со степенью фичей 2: {get_metrics(y_1.loc[test_id], poly_test_predict)}\")\n",
    "print(f\"Модель, найденная в результате поиска гиперпараметров: {cv_metrics}\")"
   ]
  }
 ],
 "metadata": {
  "kernelspec": {
   "display_name": "Python 3",
   "language": "python",
   "name": "python3"
  },
  "language_info": {
   "codemirror_mode": {
    "name": "ipython",
    "version": 3
   },
   "file_extension": ".py",
   "mimetype": "text/x-python",
   "name": "python",
   "nbconvert_exporter": "python",
   "pygments_lexer": "ipython3",
   "version": "3.8.8"
  },
  "toc": {
   "base_numbering": 1,
   "nav_menu": {},
   "number_sections": true,
   "sideBar": true,
   "skip_h1_title": false,
   "title_cell": "Table of Contents",
   "title_sidebar": "Contents",
   "toc_cell": false,
   "toc_position": {},
   "toc_section_display": true,
   "toc_window_display": false
  }
 },
 "nbformat": 4,
 "nbformat_minor": 5
}
