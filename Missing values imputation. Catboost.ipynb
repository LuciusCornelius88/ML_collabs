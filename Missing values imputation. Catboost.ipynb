{
 "cells": [
  {
   "cell_type": "markdown",
   "id": "9f13b206",
   "metadata": {},
   "source": [
    "В этом домашнем задании мы будем работь с набором данных, содержащим цены на дома в городе Эймс штата Айова.    \n",
    "Данные можно найти в `data/ames_house_prices/`. Описание данных - в `data/ames_house_prices/data_description.txt`. Прочитайте описание переменных перед выполнением задания.   \n",
    "Данные взяты с [соревнования](https://www.kaggle.com/c/house-prices-advanced-regression-techniques) на Kaggle.\n",
    "\n",
    "C этими данными мы уже работали, тогда мы делали EDA. Теперь мы будем заполнять отсутствующие значния и строить модели."
   ]
  },
  {
   "cell_type": "markdown",
   "id": "03e7fc12",
   "metadata": {},
   "source": [
    "Размещаем импорты вверху."
   ]
  },
  {
   "cell_type": "code",
   "execution_count": 20,
   "id": "e5b78dc4",
   "metadata": {
    "ExecuteTime": {
     "end_time": "2021-11-26T16:34:58.385776Z",
     "start_time": "2021-11-26T16:34:57.942375Z"
    }
   },
   "outputs": [],
   "source": [
    "import pandas as pd\n",
    "import numpy as np\n",
    "from matplotlib import pyplot as plt\n",
    "from pathlib import Path\n",
    "from sklearn.model_selection import train_test_split\n",
    "from catboost import CatBoostRegressor, Pool\n",
    "from sklearn.impute import SimpleImputer\n",
    "from impyute.imputation.cs import mice\n",
    "\n",
    "pd.options.mode.chained_assignment = None\n",
    "%matplotlib inline"
   ]
  },
  {
   "cell_type": "markdown",
   "id": "6ec4482b",
   "metadata": {},
   "source": [
    "0.Загрузите в переменную df данные из ames_house_prices/train.csv."
   ]
  },
  {
   "cell_type": "code",
   "execution_count": 2,
   "id": "5d51587d",
   "metadata": {
    "ExecuteTime": {
     "end_time": "2021-11-26T16:01:44.450465Z",
     "start_time": "2021-11-26T16:01:44.247354Z"
    }
   },
   "outputs": [
    {
     "data": {
      "text/html": [
       "<div>\n",
       "<style scoped>\n",
       "    .dataframe tbody tr th:only-of-type {\n",
       "        vertical-align: middle;\n",
       "    }\n",
       "\n",
       "    .dataframe tbody tr th {\n",
       "        vertical-align: top;\n",
       "    }\n",
       "\n",
       "    .dataframe thead th {\n",
       "        text-align: right;\n",
       "    }\n",
       "</style>\n",
       "<table border=\"1\" class=\"dataframe\">\n",
       "  <thead>\n",
       "    <tr style=\"text-align: right;\">\n",
       "      <th></th>\n",
       "      <th>Id</th>\n",
       "      <th>MSSubClass</th>\n",
       "      <th>MSZoning</th>\n",
       "      <th>LotFrontage</th>\n",
       "      <th>LotArea</th>\n",
       "      <th>Street</th>\n",
       "      <th>Alley</th>\n",
       "      <th>LotShape</th>\n",
       "      <th>LandContour</th>\n",
       "      <th>Utilities</th>\n",
       "      <th>...</th>\n",
       "      <th>PoolArea</th>\n",
       "      <th>PoolQC</th>\n",
       "      <th>Fence</th>\n",
       "      <th>MiscFeature</th>\n",
       "      <th>MiscVal</th>\n",
       "      <th>MoSold</th>\n",
       "      <th>YrSold</th>\n",
       "      <th>SaleType</th>\n",
       "      <th>SaleCondition</th>\n",
       "      <th>SalePrice</th>\n",
       "    </tr>\n",
       "  </thead>\n",
       "  <tbody>\n",
       "    <tr>\n",
       "      <th>0</th>\n",
       "      <td>1</td>\n",
       "      <td>60</td>\n",
       "      <td>RL</td>\n",
       "      <td>65.0</td>\n",
       "      <td>8450</td>\n",
       "      <td>Pave</td>\n",
       "      <td>NaN</td>\n",
       "      <td>Reg</td>\n",
       "      <td>Lvl</td>\n",
       "      <td>AllPub</td>\n",
       "      <td>...</td>\n",
       "      <td>0</td>\n",
       "      <td>NaN</td>\n",
       "      <td>NaN</td>\n",
       "      <td>NaN</td>\n",
       "      <td>0</td>\n",
       "      <td>2</td>\n",
       "      <td>2008</td>\n",
       "      <td>WD</td>\n",
       "      <td>Normal</td>\n",
       "      <td>208500</td>\n",
       "    </tr>\n",
       "    <tr>\n",
       "      <th>1</th>\n",
       "      <td>2</td>\n",
       "      <td>20</td>\n",
       "      <td>RL</td>\n",
       "      <td>80.0</td>\n",
       "      <td>9600</td>\n",
       "      <td>Pave</td>\n",
       "      <td>NaN</td>\n",
       "      <td>Reg</td>\n",
       "      <td>Lvl</td>\n",
       "      <td>AllPub</td>\n",
       "      <td>...</td>\n",
       "      <td>0</td>\n",
       "      <td>NaN</td>\n",
       "      <td>NaN</td>\n",
       "      <td>NaN</td>\n",
       "      <td>0</td>\n",
       "      <td>5</td>\n",
       "      <td>2007</td>\n",
       "      <td>WD</td>\n",
       "      <td>Normal</td>\n",
       "      <td>181500</td>\n",
       "    </tr>\n",
       "    <tr>\n",
       "      <th>2</th>\n",
       "      <td>3</td>\n",
       "      <td>60</td>\n",
       "      <td>RL</td>\n",
       "      <td>68.0</td>\n",
       "      <td>11250</td>\n",
       "      <td>Pave</td>\n",
       "      <td>NaN</td>\n",
       "      <td>IR1</td>\n",
       "      <td>Lvl</td>\n",
       "      <td>AllPub</td>\n",
       "      <td>...</td>\n",
       "      <td>0</td>\n",
       "      <td>NaN</td>\n",
       "      <td>NaN</td>\n",
       "      <td>NaN</td>\n",
       "      <td>0</td>\n",
       "      <td>9</td>\n",
       "      <td>2008</td>\n",
       "      <td>WD</td>\n",
       "      <td>Normal</td>\n",
       "      <td>223500</td>\n",
       "    </tr>\n",
       "    <tr>\n",
       "      <th>3</th>\n",
       "      <td>4</td>\n",
       "      <td>70</td>\n",
       "      <td>RL</td>\n",
       "      <td>60.0</td>\n",
       "      <td>9550</td>\n",
       "      <td>Pave</td>\n",
       "      <td>NaN</td>\n",
       "      <td>IR1</td>\n",
       "      <td>Lvl</td>\n",
       "      <td>AllPub</td>\n",
       "      <td>...</td>\n",
       "      <td>0</td>\n",
       "      <td>NaN</td>\n",
       "      <td>NaN</td>\n",
       "      <td>NaN</td>\n",
       "      <td>0</td>\n",
       "      <td>2</td>\n",
       "      <td>2006</td>\n",
       "      <td>WD</td>\n",
       "      <td>Abnorml</td>\n",
       "      <td>140000</td>\n",
       "    </tr>\n",
       "    <tr>\n",
       "      <th>4</th>\n",
       "      <td>5</td>\n",
       "      <td>60</td>\n",
       "      <td>RL</td>\n",
       "      <td>84.0</td>\n",
       "      <td>14260</td>\n",
       "      <td>Pave</td>\n",
       "      <td>NaN</td>\n",
       "      <td>IR1</td>\n",
       "      <td>Lvl</td>\n",
       "      <td>AllPub</td>\n",
       "      <td>...</td>\n",
       "      <td>0</td>\n",
       "      <td>NaN</td>\n",
       "      <td>NaN</td>\n",
       "      <td>NaN</td>\n",
       "      <td>0</td>\n",
       "      <td>12</td>\n",
       "      <td>2008</td>\n",
       "      <td>WD</td>\n",
       "      <td>Normal</td>\n",
       "      <td>250000</td>\n",
       "    </tr>\n",
       "    <tr>\n",
       "      <th>...</th>\n",
       "      <td>...</td>\n",
       "      <td>...</td>\n",
       "      <td>...</td>\n",
       "      <td>...</td>\n",
       "      <td>...</td>\n",
       "      <td>...</td>\n",
       "      <td>...</td>\n",
       "      <td>...</td>\n",
       "      <td>...</td>\n",
       "      <td>...</td>\n",
       "      <td>...</td>\n",
       "      <td>...</td>\n",
       "      <td>...</td>\n",
       "      <td>...</td>\n",
       "      <td>...</td>\n",
       "      <td>...</td>\n",
       "      <td>...</td>\n",
       "      <td>...</td>\n",
       "      <td>...</td>\n",
       "      <td>...</td>\n",
       "      <td>...</td>\n",
       "    </tr>\n",
       "    <tr>\n",
       "      <th>1455</th>\n",
       "      <td>1456</td>\n",
       "      <td>60</td>\n",
       "      <td>RL</td>\n",
       "      <td>62.0</td>\n",
       "      <td>7917</td>\n",
       "      <td>Pave</td>\n",
       "      <td>NaN</td>\n",
       "      <td>Reg</td>\n",
       "      <td>Lvl</td>\n",
       "      <td>AllPub</td>\n",
       "      <td>...</td>\n",
       "      <td>0</td>\n",
       "      <td>NaN</td>\n",
       "      <td>NaN</td>\n",
       "      <td>NaN</td>\n",
       "      <td>0</td>\n",
       "      <td>8</td>\n",
       "      <td>2007</td>\n",
       "      <td>WD</td>\n",
       "      <td>Normal</td>\n",
       "      <td>175000</td>\n",
       "    </tr>\n",
       "    <tr>\n",
       "      <th>1456</th>\n",
       "      <td>1457</td>\n",
       "      <td>20</td>\n",
       "      <td>RL</td>\n",
       "      <td>85.0</td>\n",
       "      <td>13175</td>\n",
       "      <td>Pave</td>\n",
       "      <td>NaN</td>\n",
       "      <td>Reg</td>\n",
       "      <td>Lvl</td>\n",
       "      <td>AllPub</td>\n",
       "      <td>...</td>\n",
       "      <td>0</td>\n",
       "      <td>NaN</td>\n",
       "      <td>MnPrv</td>\n",
       "      <td>NaN</td>\n",
       "      <td>0</td>\n",
       "      <td>2</td>\n",
       "      <td>2010</td>\n",
       "      <td>WD</td>\n",
       "      <td>Normal</td>\n",
       "      <td>210000</td>\n",
       "    </tr>\n",
       "    <tr>\n",
       "      <th>1457</th>\n",
       "      <td>1458</td>\n",
       "      <td>70</td>\n",
       "      <td>RL</td>\n",
       "      <td>66.0</td>\n",
       "      <td>9042</td>\n",
       "      <td>Pave</td>\n",
       "      <td>NaN</td>\n",
       "      <td>Reg</td>\n",
       "      <td>Lvl</td>\n",
       "      <td>AllPub</td>\n",
       "      <td>...</td>\n",
       "      <td>0</td>\n",
       "      <td>NaN</td>\n",
       "      <td>GdPrv</td>\n",
       "      <td>Shed</td>\n",
       "      <td>2500</td>\n",
       "      <td>5</td>\n",
       "      <td>2010</td>\n",
       "      <td>WD</td>\n",
       "      <td>Normal</td>\n",
       "      <td>266500</td>\n",
       "    </tr>\n",
       "    <tr>\n",
       "      <th>1458</th>\n",
       "      <td>1459</td>\n",
       "      <td>20</td>\n",
       "      <td>RL</td>\n",
       "      <td>68.0</td>\n",
       "      <td>9717</td>\n",
       "      <td>Pave</td>\n",
       "      <td>NaN</td>\n",
       "      <td>Reg</td>\n",
       "      <td>Lvl</td>\n",
       "      <td>AllPub</td>\n",
       "      <td>...</td>\n",
       "      <td>0</td>\n",
       "      <td>NaN</td>\n",
       "      <td>NaN</td>\n",
       "      <td>NaN</td>\n",
       "      <td>0</td>\n",
       "      <td>4</td>\n",
       "      <td>2010</td>\n",
       "      <td>WD</td>\n",
       "      <td>Normal</td>\n",
       "      <td>142125</td>\n",
       "    </tr>\n",
       "    <tr>\n",
       "      <th>1459</th>\n",
       "      <td>1460</td>\n",
       "      <td>20</td>\n",
       "      <td>RL</td>\n",
       "      <td>75.0</td>\n",
       "      <td>9937</td>\n",
       "      <td>Pave</td>\n",
       "      <td>NaN</td>\n",
       "      <td>Reg</td>\n",
       "      <td>Lvl</td>\n",
       "      <td>AllPub</td>\n",
       "      <td>...</td>\n",
       "      <td>0</td>\n",
       "      <td>NaN</td>\n",
       "      <td>NaN</td>\n",
       "      <td>NaN</td>\n",
       "      <td>0</td>\n",
       "      <td>6</td>\n",
       "      <td>2008</td>\n",
       "      <td>WD</td>\n",
       "      <td>Normal</td>\n",
       "      <td>147500</td>\n",
       "    </tr>\n",
       "  </tbody>\n",
       "</table>\n",
       "<p>1460 rows × 81 columns</p>\n",
       "</div>"
      ],
      "text/plain": [
       "        Id  MSSubClass MSZoning  LotFrontage  LotArea Street Alley LotShape  \\\n",
       "0        1          60       RL         65.0     8450   Pave   NaN      Reg   \n",
       "1        2          20       RL         80.0     9600   Pave   NaN      Reg   \n",
       "2        3          60       RL         68.0    11250   Pave   NaN      IR1   \n",
       "3        4          70       RL         60.0     9550   Pave   NaN      IR1   \n",
       "4        5          60       RL         84.0    14260   Pave   NaN      IR1   \n",
       "...    ...         ...      ...          ...      ...    ...   ...      ...   \n",
       "1455  1456          60       RL         62.0     7917   Pave   NaN      Reg   \n",
       "1456  1457          20       RL         85.0    13175   Pave   NaN      Reg   \n",
       "1457  1458          70       RL         66.0     9042   Pave   NaN      Reg   \n",
       "1458  1459          20       RL         68.0     9717   Pave   NaN      Reg   \n",
       "1459  1460          20       RL         75.0     9937   Pave   NaN      Reg   \n",
       "\n",
       "     LandContour Utilities  ... PoolArea PoolQC  Fence MiscFeature MiscVal  \\\n",
       "0            Lvl    AllPub  ...        0    NaN    NaN         NaN       0   \n",
       "1            Lvl    AllPub  ...        0    NaN    NaN         NaN       0   \n",
       "2            Lvl    AllPub  ...        0    NaN    NaN         NaN       0   \n",
       "3            Lvl    AllPub  ...        0    NaN    NaN         NaN       0   \n",
       "4            Lvl    AllPub  ...        0    NaN    NaN         NaN       0   \n",
       "...          ...       ...  ...      ...    ...    ...         ...     ...   \n",
       "1455         Lvl    AllPub  ...        0    NaN    NaN         NaN       0   \n",
       "1456         Lvl    AllPub  ...        0    NaN  MnPrv         NaN       0   \n",
       "1457         Lvl    AllPub  ...        0    NaN  GdPrv        Shed    2500   \n",
       "1458         Lvl    AllPub  ...        0    NaN    NaN         NaN       0   \n",
       "1459         Lvl    AllPub  ...        0    NaN    NaN         NaN       0   \n",
       "\n",
       "     MoSold YrSold  SaleType  SaleCondition  SalePrice  \n",
       "0         2   2008        WD         Normal     208500  \n",
       "1         5   2007        WD         Normal     181500  \n",
       "2         9   2008        WD         Normal     223500  \n",
       "3         2   2006        WD        Abnorml     140000  \n",
       "4        12   2008        WD         Normal     250000  \n",
       "...     ...    ...       ...            ...        ...  \n",
       "1455      8   2007        WD         Normal     175000  \n",
       "1456      2   2010        WD         Normal     210000  \n",
       "1457      5   2010        WD         Normal     266500  \n",
       "1458      4   2010        WD         Normal     142125  \n",
       "1459      6   2008        WD         Normal     147500  \n",
       "\n",
       "[1460 rows x 81 columns]"
      ]
     },
     "execution_count": 2,
     "metadata": {},
     "output_type": "execute_result"
    }
   ],
   "source": [
    "PATH = Path('../data/')\n",
    "df = pd.read_csv(PATH / 'ames_house_prices/train.csv')\n",
    "df"
   ]
  },
  {
   "cell_type": "markdown",
   "id": "6d0972b9",
   "metadata": {},
   "source": [
    "1.С помощью pandas выведите все колонки с отсутствующими значениями, необходимо вывести сколько отсутствующих значений, какой это процент от данных, и какой тип имеет эта колонка. Информация должна быть в одном dataframe, который содержит колонки dtype, n_missing, percentage_missing, а индексом выступает название колонки. Отсортируйте набор данных по убыванию значений percentage_missing и выведите на экран."
   ]
  },
  {
   "cell_type": "code",
   "execution_count": 3,
   "id": "d8ae3dca",
   "metadata": {
    "ExecuteTime": {
     "end_time": "2021-11-26T16:01:44.575563Z",
     "start_time": "2021-11-26T16:01:44.450465Z"
    }
   },
   "outputs": [
    {
     "data": {
      "text/html": [
       "<div>\n",
       "<style scoped>\n",
       "    .dataframe tbody tr th:only-of-type {\n",
       "        vertical-align: middle;\n",
       "    }\n",
       "\n",
       "    .dataframe tbody tr th {\n",
       "        vertical-align: top;\n",
       "    }\n",
       "\n",
       "    .dataframe thead th {\n",
       "        text-align: right;\n",
       "    }\n",
       "</style>\n",
       "<table border=\"1\" class=\"dataframe\">\n",
       "  <thead>\n",
       "    <tr style=\"text-align: right;\">\n",
       "      <th></th>\n",
       "      <th>dtype</th>\n",
       "      <th>n_missing</th>\n",
       "      <th>percentage_missing</th>\n",
       "    </tr>\n",
       "  </thead>\n",
       "  <tbody>\n",
       "    <tr>\n",
       "      <th>PoolQC</th>\n",
       "      <td>object</td>\n",
       "      <td>1453</td>\n",
       "      <td>0.995205</td>\n",
       "    </tr>\n",
       "    <tr>\n",
       "      <th>MiscFeature</th>\n",
       "      <td>object</td>\n",
       "      <td>1406</td>\n",
       "      <td>0.963014</td>\n",
       "    </tr>\n",
       "    <tr>\n",
       "      <th>Alley</th>\n",
       "      <td>object</td>\n",
       "      <td>1369</td>\n",
       "      <td>0.937671</td>\n",
       "    </tr>\n",
       "    <tr>\n",
       "      <th>Fence</th>\n",
       "      <td>object</td>\n",
       "      <td>1179</td>\n",
       "      <td>0.807534</td>\n",
       "    </tr>\n",
       "    <tr>\n",
       "      <th>FireplaceQu</th>\n",
       "      <td>object</td>\n",
       "      <td>690</td>\n",
       "      <td>0.472603</td>\n",
       "    </tr>\n",
       "    <tr>\n",
       "      <th>LotFrontage</th>\n",
       "      <td>float64</td>\n",
       "      <td>259</td>\n",
       "      <td>0.177397</td>\n",
       "    </tr>\n",
       "    <tr>\n",
       "      <th>GarageType</th>\n",
       "      <td>object</td>\n",
       "      <td>81</td>\n",
       "      <td>0.055479</td>\n",
       "    </tr>\n",
       "    <tr>\n",
       "      <th>GarageYrBlt</th>\n",
       "      <td>float64</td>\n",
       "      <td>81</td>\n",
       "      <td>0.055479</td>\n",
       "    </tr>\n",
       "    <tr>\n",
       "      <th>GarageFinish</th>\n",
       "      <td>object</td>\n",
       "      <td>81</td>\n",
       "      <td>0.055479</td>\n",
       "    </tr>\n",
       "    <tr>\n",
       "      <th>GarageQual</th>\n",
       "      <td>object</td>\n",
       "      <td>81</td>\n",
       "      <td>0.055479</td>\n",
       "    </tr>\n",
       "    <tr>\n",
       "      <th>GarageCond</th>\n",
       "      <td>object</td>\n",
       "      <td>81</td>\n",
       "      <td>0.055479</td>\n",
       "    </tr>\n",
       "    <tr>\n",
       "      <th>BsmtExposure</th>\n",
       "      <td>object</td>\n",
       "      <td>38</td>\n",
       "      <td>0.026027</td>\n",
       "    </tr>\n",
       "    <tr>\n",
       "      <th>BsmtFinType2</th>\n",
       "      <td>object</td>\n",
       "      <td>38</td>\n",
       "      <td>0.026027</td>\n",
       "    </tr>\n",
       "    <tr>\n",
       "      <th>BsmtFinType1</th>\n",
       "      <td>object</td>\n",
       "      <td>37</td>\n",
       "      <td>0.025342</td>\n",
       "    </tr>\n",
       "    <tr>\n",
       "      <th>BsmtCond</th>\n",
       "      <td>object</td>\n",
       "      <td>37</td>\n",
       "      <td>0.025342</td>\n",
       "    </tr>\n",
       "    <tr>\n",
       "      <th>BsmtQual</th>\n",
       "      <td>object</td>\n",
       "      <td>37</td>\n",
       "      <td>0.025342</td>\n",
       "    </tr>\n",
       "    <tr>\n",
       "      <th>MasVnrArea</th>\n",
       "      <td>float64</td>\n",
       "      <td>8</td>\n",
       "      <td>0.005479</td>\n",
       "    </tr>\n",
       "    <tr>\n",
       "      <th>MasVnrType</th>\n",
       "      <td>object</td>\n",
       "      <td>8</td>\n",
       "      <td>0.005479</td>\n",
       "    </tr>\n",
       "    <tr>\n",
       "      <th>Electrical</th>\n",
       "      <td>object</td>\n",
       "      <td>1</td>\n",
       "      <td>0.000685</td>\n",
       "    </tr>\n",
       "  </tbody>\n",
       "</table>\n",
       "</div>"
      ],
      "text/plain": [
       "                dtype  n_missing  percentage_missing\n",
       "PoolQC         object       1453            0.995205\n",
       "MiscFeature    object       1406            0.963014\n",
       "Alley          object       1369            0.937671\n",
       "Fence          object       1179            0.807534\n",
       "FireplaceQu    object        690            0.472603\n",
       "LotFrontage   float64        259            0.177397\n",
       "GarageType     object         81            0.055479\n",
       "GarageYrBlt   float64         81            0.055479\n",
       "GarageFinish   object         81            0.055479\n",
       "GarageQual     object         81            0.055479\n",
       "GarageCond     object         81            0.055479\n",
       "BsmtExposure   object         38            0.026027\n",
       "BsmtFinType2   object         38            0.026027\n",
       "BsmtFinType1   object         37            0.025342\n",
       "BsmtCond       object         37            0.025342\n",
       "BsmtQual       object         37            0.025342\n",
       "MasVnrArea    float64          8            0.005479\n",
       "MasVnrType     object          8            0.005479\n",
       "Electrical     object          1            0.000685"
      ]
     },
     "execution_count": 3,
     "metadata": {},
     "output_type": "execute_result"
    }
   ],
   "source": [
    "na_cols = df.columns[df.isna().any()]\n",
    "na_df = pd.DataFrame(\n",
    "    {\n",
    "        'dtype' : df[na_cols].dtypes,\n",
    "        'n_missing' : df[na_cols].isna().sum(),\n",
    "        'percentage_missing' : df[na_cols].isna().sum()/len(df)\n",
    "    }\n",
    ")\n",
    "\n",
    "na_df.sort_values(by='percentage_missing', ascending=False)"
   ]
  },
  {
   "cell_type": "markdown",
   "id": "dbeaec4e",
   "metadata": {
    "ExecuteTime": {
     "end_time": "2021-11-19T08:59:32.236546Z",
     "start_time": "2021-11-19T08:59:32.231330Z"
    }
   },
   "source": [
    "Сделайте вывод, какие колонки стоит удалить, а в каких мы сможем заполнить отсутствующие значения?  \n",
    "Обычно мы удаляем те колонки, которые имеют слишком много отсутствующих значений.  \n",
    "Пока только напишите вывод о том, какие колонки стоит удалить, но не удаляйте.\n"
   ]
  },
  {
   "cell_type": "code",
   "execution_count": 17,
   "id": "c8c9cd79",
   "metadata": {
    "ExecuteTime": {
     "end_time": "2021-11-26T16:18:29.570326Z",
     "start_time": "2021-11-26T16:18:29.457312Z"
    }
   },
   "outputs": [
    {
     "data": {
      "text/html": [
       "<div>\n",
       "<style scoped>\n",
       "    .dataframe tbody tr th:only-of-type {\n",
       "        vertical-align: middle;\n",
       "    }\n",
       "\n",
       "    .dataframe tbody tr th {\n",
       "        vertical-align: top;\n",
       "    }\n",
       "\n",
       "    .dataframe thead th {\n",
       "        text-align: right;\n",
       "    }\n",
       "</style>\n",
       "<table border=\"1\" class=\"dataframe\">\n",
       "  <thead>\n",
       "    <tr style=\"text-align: right;\">\n",
       "      <th></th>\n",
       "      <th>Id</th>\n",
       "      <th>MSSubClass</th>\n",
       "      <th>MSZoning</th>\n",
       "      <th>LotFrontage</th>\n",
       "      <th>LotArea</th>\n",
       "      <th>Street</th>\n",
       "      <th>LotShape</th>\n",
       "      <th>LandContour</th>\n",
       "      <th>Utilities</th>\n",
       "      <th>LotConfig</th>\n",
       "      <th>...</th>\n",
       "      <th>EnclosedPorch</th>\n",
       "      <th>3SsnPorch</th>\n",
       "      <th>ScreenPorch</th>\n",
       "      <th>PoolArea</th>\n",
       "      <th>MiscVal</th>\n",
       "      <th>MoSold</th>\n",
       "      <th>YrSold</th>\n",
       "      <th>SaleType</th>\n",
       "      <th>SaleCondition</th>\n",
       "      <th>SalePrice</th>\n",
       "    </tr>\n",
       "  </thead>\n",
       "  <tbody>\n",
       "    <tr>\n",
       "      <th>0</th>\n",
       "      <td>1</td>\n",
       "      <td>60</td>\n",
       "      <td>RL</td>\n",
       "      <td>65.0</td>\n",
       "      <td>8450</td>\n",
       "      <td>Pave</td>\n",
       "      <td>Reg</td>\n",
       "      <td>Lvl</td>\n",
       "      <td>AllPub</td>\n",
       "      <td>Inside</td>\n",
       "      <td>...</td>\n",
       "      <td>0</td>\n",
       "      <td>0</td>\n",
       "      <td>0</td>\n",
       "      <td>0</td>\n",
       "      <td>0</td>\n",
       "      <td>2</td>\n",
       "      <td>2008</td>\n",
       "      <td>WD</td>\n",
       "      <td>Normal</td>\n",
       "      <td>208500</td>\n",
       "    </tr>\n",
       "    <tr>\n",
       "      <th>1</th>\n",
       "      <td>2</td>\n",
       "      <td>20</td>\n",
       "      <td>RL</td>\n",
       "      <td>80.0</td>\n",
       "      <td>9600</td>\n",
       "      <td>Pave</td>\n",
       "      <td>Reg</td>\n",
       "      <td>Lvl</td>\n",
       "      <td>AllPub</td>\n",
       "      <td>FR2</td>\n",
       "      <td>...</td>\n",
       "      <td>0</td>\n",
       "      <td>0</td>\n",
       "      <td>0</td>\n",
       "      <td>0</td>\n",
       "      <td>0</td>\n",
       "      <td>5</td>\n",
       "      <td>2007</td>\n",
       "      <td>WD</td>\n",
       "      <td>Normal</td>\n",
       "      <td>181500</td>\n",
       "    </tr>\n",
       "    <tr>\n",
       "      <th>2</th>\n",
       "      <td>3</td>\n",
       "      <td>60</td>\n",
       "      <td>RL</td>\n",
       "      <td>68.0</td>\n",
       "      <td>11250</td>\n",
       "      <td>Pave</td>\n",
       "      <td>IR1</td>\n",
       "      <td>Lvl</td>\n",
       "      <td>AllPub</td>\n",
       "      <td>Inside</td>\n",
       "      <td>...</td>\n",
       "      <td>0</td>\n",
       "      <td>0</td>\n",
       "      <td>0</td>\n",
       "      <td>0</td>\n",
       "      <td>0</td>\n",
       "      <td>9</td>\n",
       "      <td>2008</td>\n",
       "      <td>WD</td>\n",
       "      <td>Normal</td>\n",
       "      <td>223500</td>\n",
       "    </tr>\n",
       "    <tr>\n",
       "      <th>3</th>\n",
       "      <td>4</td>\n",
       "      <td>70</td>\n",
       "      <td>RL</td>\n",
       "      <td>60.0</td>\n",
       "      <td>9550</td>\n",
       "      <td>Pave</td>\n",
       "      <td>IR1</td>\n",
       "      <td>Lvl</td>\n",
       "      <td>AllPub</td>\n",
       "      <td>Corner</td>\n",
       "      <td>...</td>\n",
       "      <td>272</td>\n",
       "      <td>0</td>\n",
       "      <td>0</td>\n",
       "      <td>0</td>\n",
       "      <td>0</td>\n",
       "      <td>2</td>\n",
       "      <td>2006</td>\n",
       "      <td>WD</td>\n",
       "      <td>Abnorml</td>\n",
       "      <td>140000</td>\n",
       "    </tr>\n",
       "    <tr>\n",
       "      <th>4</th>\n",
       "      <td>5</td>\n",
       "      <td>60</td>\n",
       "      <td>RL</td>\n",
       "      <td>84.0</td>\n",
       "      <td>14260</td>\n",
       "      <td>Pave</td>\n",
       "      <td>IR1</td>\n",
       "      <td>Lvl</td>\n",
       "      <td>AllPub</td>\n",
       "      <td>FR2</td>\n",
       "      <td>...</td>\n",
       "      <td>0</td>\n",
       "      <td>0</td>\n",
       "      <td>0</td>\n",
       "      <td>0</td>\n",
       "      <td>0</td>\n",
       "      <td>12</td>\n",
       "      <td>2008</td>\n",
       "      <td>WD</td>\n",
       "      <td>Normal</td>\n",
       "      <td>250000</td>\n",
       "    </tr>\n",
       "  </tbody>\n",
       "</table>\n",
       "<p>5 rows × 76 columns</p>\n",
       "</div>"
      ],
      "text/plain": [
       "   Id  MSSubClass MSZoning  LotFrontage  LotArea Street LotShape LandContour  \\\n",
       "0   1          60       RL         65.0     8450   Pave      Reg         Lvl   \n",
       "1   2          20       RL         80.0     9600   Pave      Reg         Lvl   \n",
       "2   3          60       RL         68.0    11250   Pave      IR1         Lvl   \n",
       "3   4          70       RL         60.0     9550   Pave      IR1         Lvl   \n",
       "4   5          60       RL         84.0    14260   Pave      IR1         Lvl   \n",
       "\n",
       "  Utilities LotConfig  ... EnclosedPorch 3SsnPorch ScreenPorch PoolArea  \\\n",
       "0    AllPub    Inside  ...             0         0           0        0   \n",
       "1    AllPub       FR2  ...             0         0           0        0   \n",
       "2    AllPub    Inside  ...             0         0           0        0   \n",
       "3    AllPub    Corner  ...           272         0           0        0   \n",
       "4    AllPub       FR2  ...             0         0           0        0   \n",
       "\n",
       "  MiscVal MoSold  YrSold  SaleType  SaleCondition  SalePrice  \n",
       "0       0      2    2008        WD         Normal     208500  \n",
       "1       0      5    2007        WD         Normal     181500  \n",
       "2       0      9    2008        WD         Normal     223500  \n",
       "3       0      2    2006        WD        Abnorml     140000  \n",
       "4       0     12    2008        WD         Normal     250000  \n",
       "\n",
       "[5 rows x 76 columns]"
      ]
     },
     "execution_count": 17,
     "metadata": {},
     "output_type": "execute_result"
    }
   ],
   "source": [
    "#удаляем колонки с более, чем 25% от длины датафрейма пропущенными значениями (делаю для демонстрации, inplace не устанавливаю)\n",
    "na_lim = len(df) * 0.25\n",
    "cols_to_drop = na_df.query('n_missing > @na_lim').index.tolist()\n",
    "df.drop(cols_to_drop, axis=1).head()"
   ]
  },
  {
   "cell_type": "markdown",
   "id": "e99d1aee",
   "metadata": {
    "ExecuteTime": {
     "end_time": "2021-11-19T09:13:38.505738Z",
     "start_time": "2021-11-19T09:13:38.502158Z"
    }
   },
   "source": [
    "2.В нашем наборе данных целевая переменная - это `SalePrice`. Выделите набор признаков Х и переменную содержащую целевые значения у. "
   ]
  },
  {
   "cell_type": "code",
   "execution_count": 5,
   "id": "65dc7d54",
   "metadata": {
    "ExecuteTime": {
     "end_time": "2021-11-26T16:01:44.784296Z",
     "start_time": "2021-11-26T16:01:44.687760Z"
    }
   },
   "outputs": [],
   "source": [
    "X = df[np.setdiff1d(df.columns, 'SalePrice')]\n",
    "y = pd.DataFrame(df['SalePrice'])"
   ]
  },
  {
   "cell_type": "markdown",
   "id": "c61e143d",
   "metadata": {},
   "source": [
    "3.В переменные num_cols, cat_cols сохраните названия колонок в наборе признаков, содержащих числовые и категориальные данные соответственно. Тут можно не делать детального анализа и трансформации переменных в зависимости от их значения в наборе данных. Суть данного ДЗ не в этом. Но если вы сделаете аккуратное преобразование типов - велика вероятность, что точности моделей у вас будут лучше."
   ]
  },
  {
   "cell_type": "code",
   "execution_count": 52,
   "id": "ed75aed3",
   "metadata": {
    "ExecuteTime": {
     "end_time": "2021-11-26T19:27:03.487009Z",
     "start_time": "2021-11-26T19:27:03.454008Z"
    }
   },
   "outputs": [],
   "source": [
    "#включаю сюда переменные качества, переменные времени (год строительства, год обновления, год и месяц продажи) не включаю\n",
    "cols_to_categorical = ['Id','MSSubClass','OverallCond','OverallQual']\n",
    "X[cols_to_categorical] = X[cols_to_categorical].astype('object')\n",
    "\n",
    "num_cols = X.select_dtypes('number').columns.tolist()\n",
    "cat_cols = X.select_dtypes('object').columns.tolist()"
   ]
  },
  {
   "cell_type": "markdown",
   "id": "a75a456d",
   "metadata": {},
   "source": [
    "4.Разделите данные на трейн и тест. В тест отведите 20% данных. Данные необходимо при разделении перемешать. Зафиксируйте разделение указав random_seed."
   ]
  },
  {
   "cell_type": "code",
   "execution_count": 7,
   "id": "3043a2d6",
   "metadata": {
    "ExecuteTime": {
     "end_time": "2021-11-26T16:01:45.021296Z",
     "start_time": "2021-11-26T16:01:44.933296Z"
    }
   },
   "outputs": [],
   "source": [
    "test_size = 0.2\n",
    "\n",
    "X_train, X_test, y_train, y_test = train_test_split(X, y, test_size=test_size, shuffle=True, random_state=42)"
   ]
  },
  {
   "cell_type": "markdown",
   "id": "76bc6672",
   "metadata": {
    "ExecuteTime": {
     "end_time": "2021-11-19T09:24:28.139865Z",
     "start_time": "2021-11-19T09:24:28.136141Z"
    }
   },
   "source": [
    "5.Обучим модель catboost. В этой модели не надо кодоировать категориальные переменные.\n",
    "5.1.Перед обучением необходимо заполнить отсутствующие значения в категориальных переменных значением строки \"None\". В таком случае catboost будет воспринимать отсутствующие значения как отдельную категорию.\n",
    "Выполните это запонение для X_train и X_test."
   ]
  },
  {
   "cell_type": "code",
   "execution_count": 8,
   "id": "3e324b5f",
   "metadata": {
    "ExecuteTime": {
     "end_time": "2021-11-26T16:01:45.188508Z",
     "start_time": "2021-11-26T16:01:45.033298Z"
    }
   },
   "outputs": [],
   "source": [
    "X_train.fillna('None', inplace=True)\n",
    "X_test.fillna('None', inplace=True)"
   ]
  },
  {
   "cell_type": "markdown",
   "id": "cbf7aed2",
   "metadata": {},
   "source": [
    "5.2.Запустите обучение регрессионной модели Catboost. Инициируйте модель с параметрами по умолчанию. При обучении необходимо передать в fit метод набор тренировочных данных, тестовых и список категориальных переменных. Также поставьте vebose=200 и plot=True. \n",
    "Для передачи данных можно использовать catboost.Pool, а можно не использовать.\n",
    "\n",
    "Обучение должно запуститься без ошибок на данном этапе, если вы всё сделали по инструкциям выше."
   ]
  },
  {
   "cell_type": "code",
   "execution_count": 9,
   "id": "211edf87",
   "metadata": {
    "ExecuteTime": {
     "end_time": "2021-11-26T16:04:11.821809Z",
     "start_time": "2021-11-26T16:01:45.188508Z"
    }
   },
   "outputs": [
    {
     "data": {
      "application/vnd.jupyter.widget-view+json": {
       "model_id": "b78daeda73494806aa8c8f1ae22e5eee",
       "version_major": 2,
       "version_minor": 0
      },
      "text/plain": [
       "MetricVisualizer(layout=Layout(align_self='stretch', height='500px'))"
      ]
     },
     "metadata": {},
     "output_type": "display_data"
    },
    {
     "name": "stdout",
     "output_type": "stream",
     "text": [
      "Learning rate set to 0.052178\n",
      "0:\tlearn: 74706.0148723\ttest: 85037.2475015\tbest: 85037.2475015 (0)\ttotal: 293ms\tremaining: 4m 53s\n",
      "200:\tlearn: 16226.3845628\ttest: 27018.9303201\tbest: 27018.9303201 (200)\ttotal: 27.7s\tremaining: 1m 50s\n",
      "400:\tlearn: 11992.7501023\ttest: 26157.3891427\tbest: 26152.0198454 (399)\ttotal: 56.2s\tremaining: 1m 24s\n",
      "600:\tlearn: 9717.2147664\ttest: 25882.6095877\tbest: 25880.3565163 (593)\ttotal: 1m 24s\tremaining: 56.4s\n",
      "800:\tlearn: 8239.8058981\ttest: 25778.9990968\tbest: 25778.2840537 (799)\ttotal: 1m 55s\tremaining: 28.8s\n",
      "999:\tlearn: 7127.8047573\ttest: 25674.9105426\tbest: 25664.3385526 (926)\ttotal: 2m 25s\tremaining: 0us\n",
      "\n",
      "bestTest = 25664.33855\n",
      "bestIteration = 926\n",
      "\n",
      "Shrink model to first 927 iterations.\n"
     ]
    }
   ],
   "source": [
    "cb = CatBoostRegressor()\n",
    "train_pool = Pool(X_train, y_train, cat_features=cat_cols)\n",
    "test_pool = Pool(X_test, y_test, cat_features=cat_cols)\n",
    "cb.fit(train_pool, eval_set=test_pool, verbose=200, plot=True);"
   ]
  },
  {
   "cell_type": "markdown",
   "id": "3669a5c1",
   "metadata": {
    "ExecuteTime": {
     "end_time": "2021-11-19T09:29:42.568217Z",
     "start_time": "2021-11-19T09:29:42.565006Z"
    }
   },
   "source": [
    "5.3.Выведите изменение лосса в модели для тренировочного и тестового набора данных также с помощью matplotlib. Это позволит сохранить график при перезакгрузке нотубука.  \n",
    "Подсказка: пример был в лекции."
   ]
  },
  {
   "cell_type": "code",
   "execution_count": 10,
   "id": "2bad4e94",
   "metadata": {
    "ExecuteTime": {
     "end_time": "2021-11-26T16:04:12.551459Z",
     "start_time": "2021-11-26T16:04:11.821809Z"
    }
   },
   "outputs": [
    {
     "data": {
      "image/png": "[encoded data removed]",
      "text/plain": [
       "<Figure size 432x288 with 1 Axes>"
      ]
     },
     "metadata": {
      "needs_background": "light"
     },
     "output_type": "display_data"
    }
   ],
   "source": [
    "plt.plot(cb.get_evals_result()['learn']['RMSE'], label='train loss')\n",
    "plt.plot(cb.get_evals_result()['validation']['RMSE'], label='val loss')\n",
    "plt.legend()\n",
    "plt.show()"
   ]
  },
  {
   "cell_type": "markdown",
   "id": "b52ab055",
   "metadata": {},
   "source": [
    "5.4.Выведите лучшее значение ошибки модели на тренировочных и тестовых данных."
   ]
  },
  {
   "cell_type": "code",
   "execution_count": 11,
   "id": "f21969ee",
   "metadata": {
    "ExecuteTime": {
     "end_time": "2021-11-26T16:04:12.582441Z",
     "start_time": "2021-11-26T16:04:12.556452Z"
    }
   },
   "outputs": [
    {
     "data": {
      "text/plain": [
       "dict_keys(['learn', 'validation'])"
      ]
     },
     "execution_count": 11,
     "metadata": {},
     "output_type": "execute_result"
    }
   ],
   "source": [
    "cb.get_best_score().keys()"
   ]
  },
  {
   "cell_type": "code",
   "execution_count": 12,
   "id": "eae37744",
   "metadata": {
    "ExecuteTime": {
     "end_time": "2021-11-26T16:04:12.717693Z",
     "start_time": "2021-11-26T16:04:12.588450Z"
    }
   },
   "outputs": [
    {
     "name": "stdout",
     "output_type": "stream",
     "text": [
      "Train set RMSE: 7127.804757277984\n",
      "Test set RMSE: 25664.338552625577\n"
     ]
    }
   ],
   "source": [
    "print('Train set RMSE: {}\\nTest set RMSE: {}'.format(cb.get_best_score()['learn']['RMSE'], \n",
    "                                                      cb.get_best_score()['validation']['RMSE']))"
   ]
  },
  {
   "cell_type": "markdown",
   "id": "c31ee21a",
   "metadata": {},
   "source": [
    "5.5.Выведите топ 10 важных признаков для модели визуально в виде barplot, где столбцы расположены горизонтально.  \n",
    "Подсказка: пример был в лекции."
   ]
  },
  {
   "cell_type": "code",
   "execution_count": 13,
   "id": "e7f3c7e2",
   "metadata": {
    "ExecuteTime": {
     "end_time": "2021-11-26T16:04:12.859224Z",
     "start_time": "2021-11-26T16:04:12.718596Z"
    }
   },
   "outputs": [],
   "source": [
    "def feature_importance_plot(model, dataset, n_features=None):\n",
    "    lim_n_features = n_features or len(dataset.get_feature_names())\n",
    "    sorted_feature_importance = model.feature_importances_.argsort()\n",
    "    \n",
    "    sorted_features = np.array(dataset.get_feature_names())[sorted_feature_importance]\n",
    "    sorted_importances = model.feature_importances_[sorted_feature_importance]\n",
    "    \n",
    "    plt.figure(figsize=(14, 10))\n",
    "    plt.barh(sorted_features[-lim_n_features:], sorted_importances[-lim_n_features:], color='lightgreen')\n",
    "    plt.xlabel(\"CatBoost Feature Importance\")\n",
    "    \n",
    "    plt.show()"
   ]
  },
  {
   "cell_type": "code",
   "execution_count": 14,
   "id": "b07b8893",
   "metadata": {
    "ExecuteTime": {
     "end_time": "2021-11-26T16:04:13.575836Z",
     "start_time": "2021-11-26T16:04:12.859224Z"
    }
   },
   "outputs": [
    {
     "data": {
      "image/png": "[encoded data removed]",
      "text/plain": [
       "<Figure size 1008x720 with 1 Axes>"
      ]
     },
     "metadata": {
      "needs_background": "light"
     },
     "output_type": "display_data"
    }
   ],
   "source": [
    "feature_importance_plot(cb, train_pool, n_features=10)"
   ]
  },
  {
   "cell_type": "markdown",
   "id": "8610a2a0",
   "metadata": {},
   "source": [
    "6.Теперь давайте заполним отсутствующие значения. Потом мы ещё раз натренируем CatBoost модель и сравним качество."
   ]
  },
  {
   "cell_type": "markdown",
   "id": "5261537c",
   "metadata": {
    "ExecuteTime": {
     "end_time": "2021-11-19T09:43:26.211680Z",
     "start_time": "2021-11-19T09:43:26.208473Z"
    }
   },
   "source": [
    "6.1.Удалите из df те колонки, которые вы ранее написали, что следует удалить. \n",
    "Результат запишите в новый датафрейм df_drop."
   ]
  },
  {
   "cell_type": "code",
   "execution_count": 53,
   "id": "71061a61",
   "metadata": {
    "ExecuteTime": {
     "end_time": "2021-11-26T19:27:21.369079Z",
     "start_time": "2021-11-26T19:27:21.323080Z"
    }
   },
   "outputs": [],
   "source": [
    "df_drop = df.drop(cols_to_drop, axis=1)"
   ]
  },
  {
   "cell_type": "markdown",
   "id": "a1f23774",
   "metadata": {},
   "source": [
    "6.2.Выделите Х и у из df_drop, и разделите данные на train и test точно так же, как мы делали это выше. При разделении данных на train/test используйте те же настройки, что и ранее (процентовку теста и random_state)."
   ]
  },
  {
   "cell_type": "code",
   "execution_count": 54,
   "id": "9576fb03",
   "metadata": {
    "ExecuteTime": {
     "end_time": "2021-11-26T19:27:22.069958Z",
     "start_time": "2021-11-26T19:27:22.029963Z"
    }
   },
   "outputs": [],
   "source": [
    "X_drop = df_drop[np.setdiff1d(df_drop.columns, 'SalePrice')]\n",
    "y_drop = df_drop.SalePrice\n",
    "\n",
    "X_drop_train, X_drop_test, y_drop_train, y_drop_test = train_test_split(X_drop, y_drop, test_size=test_size, \n",
    "                                                                        shuffle=True, random_state=42)"
   ]
  },
  {
   "cell_type": "markdown",
   "id": "e89e778e",
   "metadata": {},
   "source": [
    "6.3.С помощью MICE заполните отсутствующие значения в числовых колонках X_train, X_test. После заполнения результат должен быть преобразован снова в dataframe с соответствующими названиями колонок."
   ]
  },
  {
   "cell_type": "code",
   "execution_count": 55,
   "id": "aaee2554",
   "metadata": {
    "ExecuteTime": {
     "end_time": "2021-11-26T19:27:24.366031Z",
     "start_time": "2021-11-26T19:27:23.601408Z"
    }
   },
   "outputs": [],
   "source": [
    "#Adrop = after NaN-features were droped\n",
    "num_cols_Adrop = X_drop_train.select_dtypes('number').columns.to_list()\n",
    "\n",
    "mice_imputer_train = mice(X_drop_train[num_cols_Adrop].values)\n",
    "mice_imputer_test = mice(X_drop_test[num_cols_Adrop].values)"
   ]
  },
  {
   "cell_type": "code",
   "execution_count": 56,
   "id": "90cadf66",
   "metadata": {
    "ExecuteTime": {
     "end_time": "2021-11-26T19:27:25.350851Z",
     "start_time": "2021-11-26T19:27:25.333852Z"
    }
   },
   "outputs": [],
   "source": [
    "imputed_num_train_df = pd.DataFrame(mice_imputer_train, columns=num_cols_Adrop)\n",
    "imputed_num_test_df = pd.DataFrame(mice_imputer_test, columns=num_cols_Adrop)"
   ]
  },
  {
   "cell_type": "markdown",
   "id": "24403d2d",
   "metadata": {
    "ExecuteTime": {
     "end_time": "2021-11-19T09:56:22.197418Z",
     "start_time": "2021-11-19T09:56:22.194379Z"
    }
   },
   "source": [
    "7.Теперь заполните отсутствующие значения в категориальных колонках самым частотным по колонке. Используйте для этого SimpleImputer из Sklearn.\n",
    "Тренируем метод на тренировочных данных, применяем к тренировочным и тестовым."
   ]
  },
  {
   "cell_type": "code",
   "execution_count": 57,
   "id": "812cc974",
   "metadata": {
    "ExecuteTime": {
     "end_time": "2021-11-26T19:27:26.472804Z",
     "start_time": "2021-11-26T19:27:26.430825Z"
    }
   },
   "outputs": [
    {
     "data": {
      "text/plain": [
       "SimpleImputer(strategy='most_frequent')"
      ]
     },
     "execution_count": 57,
     "metadata": {},
     "output_type": "execute_result"
    }
   ],
   "source": [
    "cat_cols_Adrop = X_drop_train.select_dtypes('object').columns.to_list()\n",
    "\n",
    "simple_imputer_freq = SimpleImputer(strategy='most_frequent')\n",
    "simple_imputer_freq.fit(X_drop_train[cat_cols_Adrop])"
   ]
  },
  {
   "cell_type": "code",
   "execution_count": 58,
   "id": "1bccd4d9",
   "metadata": {
    "ExecuteTime": {
     "end_time": "2021-11-26T19:27:29.355478Z",
     "start_time": "2021-11-26T19:27:29.310477Z"
    }
   },
   "outputs": [],
   "source": [
    "imputed_cat_train_df = pd.DataFrame(simple_imputer_freq.transform(X_drop_train[cat_cols_Adrop]), columns=cat_cols_Adrop)\n",
    "imputed_cat_test_df = pd.DataFrame(simple_imputer_freq.transform(X_drop_test[cat_cols_Adrop]), columns=cat_cols_Adrop)"
   ]
  },
  {
   "cell_type": "code",
   "execution_count": 59,
   "id": "10c335ba",
   "metadata": {
    "ExecuteTime": {
     "end_time": "2021-11-26T19:27:30.272384Z",
     "start_time": "2021-11-26T19:27:30.255371Z"
    }
   },
   "outputs": [],
   "source": [
    "#склеиваем обратно фреймы с численными и категориальными переменными\n",
    "imputed_train_df = pd.concat([imputed_num_train_df, imputed_cat_train_df], axis=1)\n",
    "imputed_test_df = pd.concat([imputed_num_test_df, imputed_cat_test_df], axis=1)"
   ]
  },
  {
   "cell_type": "markdown",
   "id": "42852522",
   "metadata": {},
   "source": [
    "8.Запустите модель catboost, так же как и ранее, с параметрами по умолчанию, передав новые тренировочные и тестовые данные. \n",
    "\n",
    "Выведите графики уменьшения лосса на тестовых и трен. данных, стала ли модель обучаться лучше?  \n",
    "Выведите метрику качества лучшей модели на трен. и тест. данных, как изменилась метрика?  \n",
    "Выведите топ 10 самых важных признаков на графике. Изменился ли их набор?"
   ]
  },
  {
   "cell_type": "code",
   "execution_count": 60,
   "id": "a83466d2",
   "metadata": {
    "ExecuteTime": {
     "end_time": "2021-11-26T19:30:55.097834Z",
     "start_time": "2021-11-26T19:28:42.474492Z"
    }
   },
   "outputs": [
    {
     "data": {
      "application/vnd.jupyter.widget-view+json": {
       "model_id": "c1d7689b30a04dd5964acdbf1897a856",
       "version_major": 2,
       "version_minor": 0
      },
      "text/plain": [
       "MetricVisualizer(layout=Layout(align_self='stretch', height='500px'))"
      ]
     },
     "metadata": {},
     "output_type": "display_data"
    },
    {
     "name": "stdout",
     "output_type": "stream",
     "text": [
      "Learning rate set to 0.052178\n",
      "0:\tlearn: 74561.1091911\ttest: 84830.4002011\tbest: 84830.4002011 (0)\ttotal: 126ms\tremaining: 2m 6s\n",
      "200:\tlearn: 16366.8078557\ttest: 27245.2976788\tbest: 27245.2976788 (200)\ttotal: 25.4s\tremaining: 1m 41s\n",
      "400:\tlearn: 12079.0804146\ttest: 26528.1161477\tbest: 26517.3749060 (395)\ttotal: 51.4s\tremaining: 1m 16s\n",
      "600:\tlearn: 9245.3523360\ttest: 26215.7067871\tbest: 26215.4099792 (599)\ttotal: 1m 17s\tremaining: 51.2s\n",
      "800:\tlearn: 7469.0824917\ttest: 26107.6935462\tbest: 26095.2668123 (763)\ttotal: 1m 43s\tremaining: 25.8s\n",
      "999:\tlearn: 6282.6853171\ttest: 26085.1286502\tbest: 26081.0923460 (996)\ttotal: 2m 11s\tremaining: 0us\n",
      "\n",
      "bestTest = 26081.09235\n",
      "bestIteration = 996\n",
      "\n",
      "Shrink model to first 997 iterations.\n"
     ]
    }
   ],
   "source": [
    "cb_imputed = CatBoostRegressor()\n",
    "imputed_train_pool = Pool(imputed_train_df, y_drop_train, cat_features=cat_cols_Adrop)\n",
    "imputed_test_pool = Pool(imputed_test_df, y_drop_test, cat_features=cat_cols_Adrop)\n",
    "\n",
    "cb_imputed.fit(imputed_train_pool, eval_set=imputed_test_pool, verbose=200, plot=True);"
   ]
  },
  {
   "cell_type": "code",
   "execution_count": 61,
   "id": "ebe605d2",
   "metadata": {
    "ExecuteTime": {
     "end_time": "2021-11-26T19:34:37.690820Z",
     "start_time": "2021-11-26T19:34:37.102075Z"
    }
   },
   "outputs": [
    {
     "data": {
      "image/png": "[encoded data removed]",
      "text/plain": [
       "<Figure size 432x288 with 1 Axes>"
      ]
     },
     "metadata": {
      "needs_background": "light"
     },
     "output_type": "display_data"
    }
   ],
   "source": [
    "plt.plot(cb_imputed.get_evals_result()['learn']['RMSE'], label='train loss')\n",
    "plt.plot(cb_imputed.get_evals_result()['validation']['RMSE'], label='val loss')\n",
    "plt.legend()\n",
    "plt.show()"
   ]
  },
  {
   "cell_type": "code",
   "execution_count": 62,
   "id": "c48ee4ae",
   "metadata": {
    "ExecuteTime": {
     "end_time": "2021-11-26T19:35:12.233011Z",
     "start_time": "2021-11-26T19:35:12.224003Z"
    }
   },
   "outputs": [
    {
     "name": "stdout",
     "output_type": "stream",
     "text": [
      "Train set RMSE: 6282.685317101127\n",
      "Test set RMSE: 26081.092346037545\n"
     ]
    }
   ],
   "source": [
    "print('Train set RMSE: {}\\nTest set RMSE: {}'.format(cb_imputed.get_best_score()['learn']['RMSE'], \n",
    "                                                      cb_imputed.get_best_score()['validation']['RMSE']))"
   ]
  },
  {
   "cell_type": "code",
   "execution_count": 63,
   "id": "682792ea",
   "metadata": {
    "ExecuteTime": {
     "end_time": "2021-11-26T19:36:04.857722Z",
     "start_time": "2021-11-26T19:36:04.223296Z"
    },
    "scrolled": true
   },
   "outputs": [
    {
     "data": {
      "image/png": "[encoded data removed]",
      "text/plain": [
       "<Figure size 1008x720 with 1 Axes>"
      ]
     },
     "metadata": {
      "needs_background": "light"
     },
     "output_type": "display_data"
    }
   ],
   "source": [
    "feature_importance_plot(cb_imputed, imputed_train_pool, n_features=10)"
   ]
  },
  {
   "cell_type": "markdown",
   "id": "1fcf34e7",
   "metadata": {},
   "source": [
    "**Выводы:**  \n",
    "- метрика качества для тренировочного набора улучшилась, а для тестового наоборот - ухудшилась (возможно, небольшое переобучение)  \n",
    "- сильно изменилось распределение значимости признаков; интуитивно данные, полученные после алгоритмического заполнения пропущенных значений, хуже, чем после простого заполнения пропущенных значений строкой 'NoN'. Но, вероятно, стоило бы глубже изучить данные"
   ]
  }
 ],
 "metadata": {
  "kernelspec": {
   "display_name": "Python 3",
   "language": "python",
   "name": "python3"
  },
  "language_info": {
   "codemirror_mode": {
    "name": "ipython",
    "version": 3
   },
   "file_extension": ".py",
   "mimetype": "text/x-python",
   "name": "python",
   "nbconvert_exporter": "python",
   "pygments_lexer": "ipython3",
   "version": "3.8.8"
  },
  "toc": {
   "base_numbering": 1,
   "nav_menu": {},
   "number_sections": true,
   "sideBar": true,
   "skip_h1_title": false,
   "title_cell": "Table of Contents",
   "title_sidebar": "Contents",
   "toc_cell": false,
   "toc_position": {},
   "toc_section_display": true,
   "toc_window_display": false
  }
 },
 "nbformat": 4,
 "nbformat_minor": 5
}
