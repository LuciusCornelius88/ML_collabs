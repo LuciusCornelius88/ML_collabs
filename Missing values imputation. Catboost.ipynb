{
 "cells": [
  {
   "cell_type": "markdown",
   "id": "685f5f8d",
   "metadata": {},
   "source": [
    "Working with the [Ames House Price](https://www.kaggle.com/c/house-prices-advanced-regression-techniques) dataset from Kaggle. The task is to train the multiclass prediction model of the house prices using Catboost regression. Also the task is to compare the training efficiency when using data with and without missing values."
   ]
  },
  {
   "cell_type": "code",
   "execution_count": 2,
   "id": "dd3dc1ea",
   "metadata": {
    "ExecuteTime": {
     "end_time": "2024-05-10T14:36:55.610324Z",
     "start_time": "2024-05-10T14:36:48.061609Z"
    }
   },
   "outputs": [],
   "source": [
    "import pandas as pd\n",
    "import numpy as np\n",
    "\n",
    "from pathlib import Path\n",
    "from matplotlib import pyplot as plt\n",
    "\n",
    "from sklearn.model_selection import train_test_split\n",
    "from sklearn.impute import SimpleImputer\n",
    "\n",
    "from catboost import CatBoostRegressor, Pool\n",
    "from impyute.imputation.cs import mice\n",
    "\n",
    "pd.options.mode.chained_assignment = None\n",
    "%matplotlib inline"
   ]
  },
  {
   "cell_type": "code",
   "execution_count": 3,
   "id": "5d59a9d7",
   "metadata": {
    "ExecuteTime": {
     "end_time": "2024-05-10T14:36:55.627463Z",
     "start_time": "2024-05-10T14:36:55.618643Z"
    }
   },
   "outputs": [],
   "source": [
    "DATA_PATH = Path(r'C:\\Users\\natal\\OneDrive\\Рабочий стол\\ML_notebooks\\data\\ames_house_prices')"
   ]
  },
  {
   "cell_type": "code",
   "execution_count": 4,
   "id": "830884ce",
   "metadata": {
    "ExecuteTime": {
     "end_time": "2024-05-10T14:36:55.754370Z",
     "start_time": "2024-05-10T14:36:55.637373Z"
    }
   },
   "outputs": [
    {
     "data": {
      "text/html": [
       "<div>\n",
       "<style scoped>\n",
       "    .dataframe tbody tr th:only-of-type {\n",
       "        vertical-align: middle;\n",
       "    }\n",
       "\n",
       "    .dataframe tbody tr th {\n",
       "        vertical-align: top;\n",
       "    }\n",
       "\n",
       "    .dataframe thead th {\n",
       "        text-align: right;\n",
       "    }\n",
       "</style>\n",
       "<table border=\"1\" class=\"dataframe\">\n",
       "  <thead>\n",
       "    <tr style=\"text-align: right;\">\n",
       "      <th></th>\n",
       "      <th>Id</th>\n",
       "      <th>MSSubClass</th>\n",
       "      <th>MSZoning</th>\n",
       "      <th>LotFrontage</th>\n",
       "      <th>LotArea</th>\n",
       "      <th>Street</th>\n",
       "      <th>Alley</th>\n",
       "      <th>LotShape</th>\n",
       "      <th>LandContour</th>\n",
       "      <th>Utilities</th>\n",
       "      <th>...</th>\n",
       "      <th>PoolArea</th>\n",
       "      <th>PoolQC</th>\n",
       "      <th>Fence</th>\n",
       "      <th>MiscFeature</th>\n",
       "      <th>MiscVal</th>\n",
       "      <th>MoSold</th>\n",
       "      <th>YrSold</th>\n",
       "      <th>SaleType</th>\n",
       "      <th>SaleCondition</th>\n",
       "      <th>SalePrice</th>\n",
       "    </tr>\n",
       "  </thead>\n",
       "  <tbody>\n",
       "    <tr>\n",
       "      <th>1</th>\n",
       "      <td>1</td>\n",
       "      <td>60</td>\n",
       "      <td>RL</td>\n",
       "      <td>65.0</td>\n",
       "      <td>8450</td>\n",
       "      <td>Pave</td>\n",
       "      <td>NaN</td>\n",
       "      <td>Reg</td>\n",
       "      <td>Lvl</td>\n",
       "      <td>AllPub</td>\n",
       "      <td>...</td>\n",
       "      <td>0</td>\n",
       "      <td>NaN</td>\n",
       "      <td>NaN</td>\n",
       "      <td>NaN</td>\n",
       "      <td>0</td>\n",
       "      <td>2</td>\n",
       "      <td>2008</td>\n",
       "      <td>WD</td>\n",
       "      <td>Normal</td>\n",
       "      <td>208500</td>\n",
       "    </tr>\n",
       "    <tr>\n",
       "      <th>2</th>\n",
       "      <td>2</td>\n",
       "      <td>20</td>\n",
       "      <td>RL</td>\n",
       "      <td>80.0</td>\n",
       "      <td>9600</td>\n",
       "      <td>Pave</td>\n",
       "      <td>NaN</td>\n",
       "      <td>Reg</td>\n",
       "      <td>Lvl</td>\n",
       "      <td>AllPub</td>\n",
       "      <td>...</td>\n",
       "      <td>0</td>\n",
       "      <td>NaN</td>\n",
       "      <td>NaN</td>\n",
       "      <td>NaN</td>\n",
       "      <td>0</td>\n",
       "      <td>5</td>\n",
       "      <td>2007</td>\n",
       "      <td>WD</td>\n",
       "      <td>Normal</td>\n",
       "      <td>181500</td>\n",
       "    </tr>\n",
       "    <tr>\n",
       "      <th>3</th>\n",
       "      <td>3</td>\n",
       "      <td>60</td>\n",
       "      <td>RL</td>\n",
       "      <td>68.0</td>\n",
       "      <td>11250</td>\n",
       "      <td>Pave</td>\n",
       "      <td>NaN</td>\n",
       "      <td>IR1</td>\n",
       "      <td>Lvl</td>\n",
       "      <td>AllPub</td>\n",
       "      <td>...</td>\n",
       "      <td>0</td>\n",
       "      <td>NaN</td>\n",
       "      <td>NaN</td>\n",
       "      <td>NaN</td>\n",
       "      <td>0</td>\n",
       "      <td>9</td>\n",
       "      <td>2008</td>\n",
       "      <td>WD</td>\n",
       "      <td>Normal</td>\n",
       "      <td>223500</td>\n",
       "    </tr>\n",
       "    <tr>\n",
       "      <th>4</th>\n",
       "      <td>4</td>\n",
       "      <td>70</td>\n",
       "      <td>RL</td>\n",
       "      <td>60.0</td>\n",
       "      <td>9550</td>\n",
       "      <td>Pave</td>\n",
       "      <td>NaN</td>\n",
       "      <td>IR1</td>\n",
       "      <td>Lvl</td>\n",
       "      <td>AllPub</td>\n",
       "      <td>...</td>\n",
       "      <td>0</td>\n",
       "      <td>NaN</td>\n",
       "      <td>NaN</td>\n",
       "      <td>NaN</td>\n",
       "      <td>0</td>\n",
       "      <td>2</td>\n",
       "      <td>2006</td>\n",
       "      <td>WD</td>\n",
       "      <td>Abnorml</td>\n",
       "      <td>140000</td>\n",
       "    </tr>\n",
       "    <tr>\n",
       "      <th>5</th>\n",
       "      <td>5</td>\n",
       "      <td>60</td>\n",
       "      <td>RL</td>\n",
       "      <td>84.0</td>\n",
       "      <td>14260</td>\n",
       "      <td>Pave</td>\n",
       "      <td>NaN</td>\n",
       "      <td>IR1</td>\n",
       "      <td>Lvl</td>\n",
       "      <td>AllPub</td>\n",
       "      <td>...</td>\n",
       "      <td>0</td>\n",
       "      <td>NaN</td>\n",
       "      <td>NaN</td>\n",
       "      <td>NaN</td>\n",
       "      <td>0</td>\n",
       "      <td>12</td>\n",
       "      <td>2008</td>\n",
       "      <td>WD</td>\n",
       "      <td>Normal</td>\n",
       "      <td>250000</td>\n",
       "    </tr>\n",
       "  </tbody>\n",
       "</table>\n",
       "<p>5 rows × 81 columns</p>\n",
       "</div>"
      ],
      "text/plain": [
       "   Id  MSSubClass MSZoning  LotFrontage  LotArea Street Alley LotShape  \\\n",
       "1   1          60       RL         65.0     8450   Pave   NaN      Reg   \n",
       "2   2          20       RL         80.0     9600   Pave   NaN      Reg   \n",
       "3   3          60       RL         68.0    11250   Pave   NaN      IR1   \n",
       "4   4          70       RL         60.0     9550   Pave   NaN      IR1   \n",
       "5   5          60       RL         84.0    14260   Pave   NaN      IR1   \n",
       "\n",
       "  LandContour Utilities  ... PoolArea PoolQC Fence MiscFeature MiscVal MoSold  \\\n",
       "1         Lvl    AllPub  ...        0    NaN   NaN         NaN       0      2   \n",
       "2         Lvl    AllPub  ...        0    NaN   NaN         NaN       0      5   \n",
       "3         Lvl    AllPub  ...        0    NaN   NaN         NaN       0      9   \n",
       "4         Lvl    AllPub  ...        0    NaN   NaN         NaN       0      2   \n",
       "5         Lvl    AllPub  ...        0    NaN   NaN         NaN       0     12   \n",
       "\n",
       "  YrSold  SaleType  SaleCondition  SalePrice  \n",
       "1   2008        WD         Normal     208500  \n",
       "2   2007        WD         Normal     181500  \n",
       "3   2008        WD         Normal     223500  \n",
       "4   2006        WD        Abnorml     140000  \n",
       "5   2008        WD         Normal     250000  \n",
       "\n",
       "[5 rows x 81 columns]"
      ]
     },
     "execution_count": 4,
     "metadata": {},
     "output_type": "execute_result"
    }
   ],
   "source": [
    "df = pd.read_csv(DATA_PATH / 'train.csv')\n",
    "df.index += 1\n",
    "df.head()"
   ]
  },
  {
   "cell_type": "markdown",
   "id": "046d38d5",
   "metadata": {},
   "source": [
    "Displaying all columns with missing values sorted in descending order of percentage_missing values"
   ]
  },
  {
   "cell_type": "code",
   "execution_count": 5,
   "id": "2a45b444",
   "metadata": {
    "ExecuteTime": {
     "end_time": "2024-05-10T14:36:55.815974Z",
     "start_time": "2024-05-10T14:36:55.761665Z"
    }
   },
   "outputs": [
    {
     "data": {
      "text/html": [
       "<div>\n",
       "<style scoped>\n",
       "    .dataframe tbody tr th:only-of-type {\n",
       "        vertical-align: middle;\n",
       "    }\n",
       "\n",
       "    .dataframe tbody tr th {\n",
       "        vertical-align: top;\n",
       "    }\n",
       "\n",
       "    .dataframe thead th {\n",
       "        text-align: right;\n",
       "    }\n",
       "</style>\n",
       "<table border=\"1\" class=\"dataframe\">\n",
       "  <thead>\n",
       "    <tr style=\"text-align: right;\">\n",
       "      <th></th>\n",
       "      <th>dtype</th>\n",
       "      <th>n_missing</th>\n",
       "      <th>percentage_missing</th>\n",
       "    </tr>\n",
       "  </thead>\n",
       "  <tbody>\n",
       "    <tr>\n",
       "      <th>PoolQC</th>\n",
       "      <td>object</td>\n",
       "      <td>1453</td>\n",
       "      <td>0.995205</td>\n",
       "    </tr>\n",
       "    <tr>\n",
       "      <th>MiscFeature</th>\n",
       "      <td>object</td>\n",
       "      <td>1406</td>\n",
       "      <td>0.963014</td>\n",
       "    </tr>\n",
       "    <tr>\n",
       "      <th>Alley</th>\n",
       "      <td>object</td>\n",
       "      <td>1369</td>\n",
       "      <td>0.937671</td>\n",
       "    </tr>\n",
       "    <tr>\n",
       "      <th>Fence</th>\n",
       "      <td>object</td>\n",
       "      <td>1179</td>\n",
       "      <td>0.807534</td>\n",
       "    </tr>\n",
       "    <tr>\n",
       "      <th>MasVnrType</th>\n",
       "      <td>object</td>\n",
       "      <td>872</td>\n",
       "      <td>0.597260</td>\n",
       "    </tr>\n",
       "    <tr>\n",
       "      <th>FireplaceQu</th>\n",
       "      <td>object</td>\n",
       "      <td>690</td>\n",
       "      <td>0.472603</td>\n",
       "    </tr>\n",
       "    <tr>\n",
       "      <th>LotFrontage</th>\n",
       "      <td>float64</td>\n",
       "      <td>259</td>\n",
       "      <td>0.177397</td>\n",
       "    </tr>\n",
       "    <tr>\n",
       "      <th>GarageType</th>\n",
       "      <td>object</td>\n",
       "      <td>81</td>\n",
       "      <td>0.055479</td>\n",
       "    </tr>\n",
       "    <tr>\n",
       "      <th>GarageYrBlt</th>\n",
       "      <td>float64</td>\n",
       "      <td>81</td>\n",
       "      <td>0.055479</td>\n",
       "    </tr>\n",
       "    <tr>\n",
       "      <th>GarageFinish</th>\n",
       "      <td>object</td>\n",
       "      <td>81</td>\n",
       "      <td>0.055479</td>\n",
       "    </tr>\n",
       "    <tr>\n",
       "      <th>GarageQual</th>\n",
       "      <td>object</td>\n",
       "      <td>81</td>\n",
       "      <td>0.055479</td>\n",
       "    </tr>\n",
       "    <tr>\n",
       "      <th>GarageCond</th>\n",
       "      <td>object</td>\n",
       "      <td>81</td>\n",
       "      <td>0.055479</td>\n",
       "    </tr>\n",
       "    <tr>\n",
       "      <th>BsmtFinType2</th>\n",
       "      <td>object</td>\n",
       "      <td>38</td>\n",
       "      <td>0.026027</td>\n",
       "    </tr>\n",
       "    <tr>\n",
       "      <th>BsmtExposure</th>\n",
       "      <td>object</td>\n",
       "      <td>38</td>\n",
       "      <td>0.026027</td>\n",
       "    </tr>\n",
       "    <tr>\n",
       "      <th>BsmtFinType1</th>\n",
       "      <td>object</td>\n",
       "      <td>37</td>\n",
       "      <td>0.025342</td>\n",
       "    </tr>\n",
       "    <tr>\n",
       "      <th>BsmtCond</th>\n",
       "      <td>object</td>\n",
       "      <td>37</td>\n",
       "      <td>0.025342</td>\n",
       "    </tr>\n",
       "    <tr>\n",
       "      <th>BsmtQual</th>\n",
       "      <td>object</td>\n",
       "      <td>37</td>\n",
       "      <td>0.025342</td>\n",
       "    </tr>\n",
       "    <tr>\n",
       "      <th>MasVnrArea</th>\n",
       "      <td>float64</td>\n",
       "      <td>8</td>\n",
       "      <td>0.005479</td>\n",
       "    </tr>\n",
       "    <tr>\n",
       "      <th>Electrical</th>\n",
       "      <td>object</td>\n",
       "      <td>1</td>\n",
       "      <td>0.000685</td>\n",
       "    </tr>\n",
       "  </tbody>\n",
       "</table>\n",
       "</div>"
      ],
      "text/plain": [
       "                dtype  n_missing  percentage_missing\n",
       "PoolQC         object       1453            0.995205\n",
       "MiscFeature    object       1406            0.963014\n",
       "Alley          object       1369            0.937671\n",
       "Fence          object       1179            0.807534\n",
       "MasVnrType     object        872            0.597260\n",
       "FireplaceQu    object        690            0.472603\n",
       "LotFrontage   float64        259            0.177397\n",
       "GarageType     object         81            0.055479\n",
       "GarageYrBlt   float64         81            0.055479\n",
       "GarageFinish   object         81            0.055479\n",
       "GarageQual     object         81            0.055479\n",
       "GarageCond     object         81            0.055479\n",
       "BsmtFinType2   object         38            0.026027\n",
       "BsmtExposure   object         38            0.026027\n",
       "BsmtFinType1   object         37            0.025342\n",
       "BsmtCond       object         37            0.025342\n",
       "BsmtQual       object         37            0.025342\n",
       "MasVnrArea    float64          8            0.005479\n",
       "Electrical     object          1            0.000685"
      ]
     },
     "execution_count": 5,
     "metadata": {},
     "output_type": "execute_result"
    }
   ],
   "source": [
    "na_cols = df.columns[df.isna().any()]\n",
    "na_df = pd.DataFrame(\n",
    "    {\n",
    "        'dtype' : df[na_cols].dtypes,\n",
    "        'n_missing' : df[na_cols].isna().sum(),\n",
    "        'percentage_missing' : df[na_cols].isna().sum()/len(df)\n",
    "    }\n",
    ")\n",
    "\n",
    "na_df.sort_values(by='percentage_missing', ascending=False)"
   ]
  },
  {
   "cell_type": "markdown",
   "id": "bbcfc406",
   "metadata": {
    "ExecuteTime": {
     "end_time": "2021-11-19T08:59:32.236546Z",
     "start_time": "2021-11-19T08:59:32.231330Z"
    }
   },
   "source": [
    "Test remove of the columns with more than 25% of the dataframe length as missing values\n"
   ]
  },
  {
   "cell_type": "code",
   "execution_count": 6,
   "id": "88ffbd17",
   "metadata": {
    "ExecuteTime": {
     "end_time": "2024-05-10T14:36:55.882817Z",
     "start_time": "2024-05-10T14:36:55.821681Z"
    }
   },
   "outputs": [
    {
     "data": {
      "text/html": [
       "<div>\n",
       "<style scoped>\n",
       "    .dataframe tbody tr th:only-of-type {\n",
       "        vertical-align: middle;\n",
       "    }\n",
       "\n",
       "    .dataframe tbody tr th {\n",
       "        vertical-align: top;\n",
       "    }\n",
       "\n",
       "    .dataframe thead th {\n",
       "        text-align: right;\n",
       "    }\n",
       "</style>\n",
       "<table border=\"1\" class=\"dataframe\">\n",
       "  <thead>\n",
       "    <tr style=\"text-align: right;\">\n",
       "      <th></th>\n",
       "      <th>Id</th>\n",
       "      <th>MSSubClass</th>\n",
       "      <th>MSZoning</th>\n",
       "      <th>LotFrontage</th>\n",
       "      <th>LotArea</th>\n",
       "      <th>Street</th>\n",
       "      <th>LotShape</th>\n",
       "      <th>LandContour</th>\n",
       "      <th>Utilities</th>\n",
       "      <th>LotConfig</th>\n",
       "      <th>...</th>\n",
       "      <th>EnclosedPorch</th>\n",
       "      <th>3SsnPorch</th>\n",
       "      <th>ScreenPorch</th>\n",
       "      <th>PoolArea</th>\n",
       "      <th>MiscVal</th>\n",
       "      <th>MoSold</th>\n",
       "      <th>YrSold</th>\n",
       "      <th>SaleType</th>\n",
       "      <th>SaleCondition</th>\n",
       "      <th>SalePrice</th>\n",
       "    </tr>\n",
       "  </thead>\n",
       "  <tbody>\n",
       "    <tr>\n",
       "      <th>1</th>\n",
       "      <td>1</td>\n",
       "      <td>60</td>\n",
       "      <td>RL</td>\n",
       "      <td>65.0</td>\n",
       "      <td>8450</td>\n",
       "      <td>Pave</td>\n",
       "      <td>Reg</td>\n",
       "      <td>Lvl</td>\n",
       "      <td>AllPub</td>\n",
       "      <td>Inside</td>\n",
       "      <td>...</td>\n",
       "      <td>0</td>\n",
       "      <td>0</td>\n",
       "      <td>0</td>\n",
       "      <td>0</td>\n",
       "      <td>0</td>\n",
       "      <td>2</td>\n",
       "      <td>2008</td>\n",
       "      <td>WD</td>\n",
       "      <td>Normal</td>\n",
       "      <td>208500</td>\n",
       "    </tr>\n",
       "    <tr>\n",
       "      <th>2</th>\n",
       "      <td>2</td>\n",
       "      <td>20</td>\n",
       "      <td>RL</td>\n",
       "      <td>80.0</td>\n",
       "      <td>9600</td>\n",
       "      <td>Pave</td>\n",
       "      <td>Reg</td>\n",
       "      <td>Lvl</td>\n",
       "      <td>AllPub</td>\n",
       "      <td>FR2</td>\n",
       "      <td>...</td>\n",
       "      <td>0</td>\n",
       "      <td>0</td>\n",
       "      <td>0</td>\n",
       "      <td>0</td>\n",
       "      <td>0</td>\n",
       "      <td>5</td>\n",
       "      <td>2007</td>\n",
       "      <td>WD</td>\n",
       "      <td>Normal</td>\n",
       "      <td>181500</td>\n",
       "    </tr>\n",
       "    <tr>\n",
       "      <th>3</th>\n",
       "      <td>3</td>\n",
       "      <td>60</td>\n",
       "      <td>RL</td>\n",
       "      <td>68.0</td>\n",
       "      <td>11250</td>\n",
       "      <td>Pave</td>\n",
       "      <td>IR1</td>\n",
       "      <td>Lvl</td>\n",
       "      <td>AllPub</td>\n",
       "      <td>Inside</td>\n",
       "      <td>...</td>\n",
       "      <td>0</td>\n",
       "      <td>0</td>\n",
       "      <td>0</td>\n",
       "      <td>0</td>\n",
       "      <td>0</td>\n",
       "      <td>9</td>\n",
       "      <td>2008</td>\n",
       "      <td>WD</td>\n",
       "      <td>Normal</td>\n",
       "      <td>223500</td>\n",
       "    </tr>\n",
       "    <tr>\n",
       "      <th>4</th>\n",
       "      <td>4</td>\n",
       "      <td>70</td>\n",
       "      <td>RL</td>\n",
       "      <td>60.0</td>\n",
       "      <td>9550</td>\n",
       "      <td>Pave</td>\n",
       "      <td>IR1</td>\n",
       "      <td>Lvl</td>\n",
       "      <td>AllPub</td>\n",
       "      <td>Corner</td>\n",
       "      <td>...</td>\n",
       "      <td>272</td>\n",
       "      <td>0</td>\n",
       "      <td>0</td>\n",
       "      <td>0</td>\n",
       "      <td>0</td>\n",
       "      <td>2</td>\n",
       "      <td>2006</td>\n",
       "      <td>WD</td>\n",
       "      <td>Abnorml</td>\n",
       "      <td>140000</td>\n",
       "    </tr>\n",
       "    <tr>\n",
       "      <th>5</th>\n",
       "      <td>5</td>\n",
       "      <td>60</td>\n",
       "      <td>RL</td>\n",
       "      <td>84.0</td>\n",
       "      <td>14260</td>\n",
       "      <td>Pave</td>\n",
       "      <td>IR1</td>\n",
       "      <td>Lvl</td>\n",
       "      <td>AllPub</td>\n",
       "      <td>FR2</td>\n",
       "      <td>...</td>\n",
       "      <td>0</td>\n",
       "      <td>0</td>\n",
       "      <td>0</td>\n",
       "      <td>0</td>\n",
       "      <td>0</td>\n",
       "      <td>12</td>\n",
       "      <td>2008</td>\n",
       "      <td>WD</td>\n",
       "      <td>Normal</td>\n",
       "      <td>250000</td>\n",
       "    </tr>\n",
       "  </tbody>\n",
       "</table>\n",
       "<p>5 rows × 75 columns</p>\n",
       "</div>"
      ],
      "text/plain": [
       "   Id  MSSubClass MSZoning  LotFrontage  LotArea Street LotShape LandContour  \\\n",
       "1   1          60       RL         65.0     8450   Pave      Reg         Lvl   \n",
       "2   2          20       RL         80.0     9600   Pave      Reg         Lvl   \n",
       "3   3          60       RL         68.0    11250   Pave      IR1         Lvl   \n",
       "4   4          70       RL         60.0     9550   Pave      IR1         Lvl   \n",
       "5   5          60       RL         84.0    14260   Pave      IR1         Lvl   \n",
       "\n",
       "  Utilities LotConfig  ... EnclosedPorch 3SsnPorch ScreenPorch PoolArea  \\\n",
       "1    AllPub    Inside  ...             0         0           0        0   \n",
       "2    AllPub       FR2  ...             0         0           0        0   \n",
       "3    AllPub    Inside  ...             0         0           0        0   \n",
       "4    AllPub    Corner  ...           272         0           0        0   \n",
       "5    AllPub       FR2  ...             0         0           0        0   \n",
       "\n",
       "  MiscVal MoSold  YrSold  SaleType  SaleCondition  SalePrice  \n",
       "1       0      2    2008        WD         Normal     208500  \n",
       "2       0      5    2007        WD         Normal     181500  \n",
       "3       0      9    2008        WD         Normal     223500  \n",
       "4       0      2    2006        WD        Abnorml     140000  \n",
       "5       0     12    2008        WD         Normal     250000  \n",
       "\n",
       "[5 rows x 75 columns]"
      ]
     },
     "execution_count": 6,
     "metadata": {},
     "output_type": "execute_result"
    }
   ],
   "source": [
    "na_lim = len(df) * 0.25\n",
    "cols_to_drop = na_df.query('n_missing > @na_lim').index.tolist()\n",
    "df.drop(cols_to_drop, axis=1).head()"
   ]
  },
  {
   "cell_type": "markdown",
   "id": "2e3c671c",
   "metadata": {},
   "source": [
    "Split dataframe into unbound and target samples"
   ]
  },
  {
   "cell_type": "markdown",
   "id": "2819c3a9",
   "metadata": {},
   "source": [
    "## Train the Catboost model with a DF with missing values"
   ]
  },
  {
   "cell_type": "code",
   "execution_count": 7,
   "id": "d3e35d5e",
   "metadata": {
    "ExecuteTime": {
     "end_time": "2024-05-10T14:36:55.902098Z",
     "start_time": "2024-05-10T14:36:55.882817Z"
    }
   },
   "outputs": [],
   "source": [
    "X = df[np.setdiff1d(df.columns, 'SalePrice')]\n",
    "y = pd.DataFrame(df['SalePrice'])"
   ]
  },
  {
   "cell_type": "markdown",
   "id": "5ad72d44",
   "metadata": {},
   "source": [
    "Create variables for numerical and categorical features"
   ]
  },
  {
   "cell_type": "code",
   "execution_count": 8,
   "id": "10457c31",
   "metadata": {
    "ExecuteTime": {
     "end_time": "2024-05-10T14:36:55.936376Z",
     "start_time": "2024-05-10T14:36:55.906662Z"
    }
   },
   "outputs": [],
   "source": [
    "cols_to_categorical = ['Id','MSSubClass','OverallCond','OverallQual']\n",
    "X[cols_to_categorical] = X[cols_to_categorical].astype('object')\n",
    "\n",
    "num_cols = X.select_dtypes('number').columns.tolist()\n",
    "cat_cols = X.select_dtypes('object').columns.tolist()"
   ]
  },
  {
   "cell_type": "markdown",
   "id": "f55d5580",
   "metadata": {},
   "source": [
    "Split data into train and test in proportion 80/20 and shuffle"
   ]
  },
  {
   "cell_type": "code",
   "execution_count": 9,
   "id": "d4429634",
   "metadata": {
    "ExecuteTime": {
     "end_time": "2024-05-10T14:36:55.959120Z",
     "start_time": "2024-05-10T14:36:55.941547Z"
    }
   },
   "outputs": [],
   "source": [
    "test_size = 0.2\n",
    "\n",
    "X_train, X_test, y_train, y_test = train_test_split(X, y, test_size=test_size, shuffle=True, random_state=42)"
   ]
  },
  {
   "cell_type": "markdown",
   "id": "57c46104",
   "metadata": {},
   "source": [
    "Fill in the missing values"
   ]
  },
  {
   "cell_type": "code",
   "execution_count": 10,
   "id": "7e76f96c",
   "metadata": {
    "ExecuteTime": {
     "end_time": "2024-05-10T14:36:55.971398Z",
     "start_time": "2024-05-10T14:36:55.961770Z"
    }
   },
   "outputs": [],
   "source": [
    "X_train.fillna(value='missing', inplace=True)\n",
    "X_test.fillna(value='missing', inplace=True)"
   ]
  },
  {
   "cell_type": "code",
   "execution_count": null,
   "id": "3507fec3",
   "metadata": {
    "ExecuteTime": {
     "end_time": "2024-05-10T14:36:56.028559Z",
     "start_time": "2024-05-10T14:36:55.981693Z"
    }
   },
   "outputs": [],
   "source": [
    "# X_train.fillna('None', inplace=True)\n",
    "# X_test.fillna('None', inplace=True)"
   ]
  },
  {
   "cell_type": "markdown",
   "id": "00126c69",
   "metadata": {},
   "source": [
    "Launch the training of the catboost regression model with data with missing values"
   ]
  },
  {
   "cell_type": "code",
   "execution_count": 12,
   "id": "e3776c5b",
   "metadata": {
    "ExecuteTime": {
     "end_time": "2024-05-10T14:39:03.822682Z",
     "start_time": "2024-05-10T14:36:56.031684Z"
    }
   },
   "outputs": [
    {
     "data": {
      "application/vnd.jupyter.widget-view+json": {
       "model_id": "15a25311461041cbb449d512b9b10bbb",
       "version_major": 2,
       "version_minor": 0
      },
      "text/plain": [
       "MetricVisualizer(layout=Layout(align_self='stretch', height='500px'))"
      ]
     },
     "metadata": {},
     "output_type": "display_data"
    },
    {
     "name": "stdout",
     "output_type": "stream",
     "text": [
      "Learning rate set to 0.052178\n",
      "0:\tlearn: 74706.0148723\ttest: 85037.2475015\tbest: 85037.2475015 (0)\ttotal: 249ms\tremaining: 4m 8s\n",
      "200:\tlearn: 16226.3845628\ttest: 27018.9303201\tbest: 27018.9303201 (200)\ttotal: 25s\tremaining: 1m 39s\n",
      "400:\tlearn: 11992.7501023\ttest: 26157.3891427\tbest: 26152.0198454 (399)\ttotal: 50.1s\tremaining: 1m 14s\n",
      "600:\tlearn: 9717.2147664\ttest: 25882.6095877\tbest: 25880.3565163 (593)\ttotal: 1m 15s\tremaining: 49.9s\n",
      "800:\tlearn: 8239.8058981\ttest: 25778.9990968\tbest: 25778.2840537 (799)\ttotal: 1m 41s\tremaining: 25.3s\n",
      "999:\tlearn: 7127.8047573\ttest: 25674.9105426\tbest: 25664.3385526 (926)\ttotal: 2m 6s\tremaining: 0us\n",
      "\n",
      "bestTest = 25664.33855\n",
      "bestIteration = 926\n",
      "\n",
      "Shrink model to first 927 iterations.\n"
     ]
    }
   ],
   "source": [
    "cb = CatBoostRegressor()\n",
    "train_pool = Pool(X_train, y_train, cat_features=cat_cols)\n",
    "test_pool = Pool(X_test, y_test, cat_features=cat_cols)\n",
    "cb.fit(train_pool, eval_set=test_pool, verbose=200, plot=True);"
   ]
  },
  {
   "cell_type": "markdown",
   "id": "2e898e9d",
   "metadata": {},
   "source": [
    "Plotting the loss values of the model for train and test samples"
   ]
  },
  {
   "cell_type": "code",
   "execution_count": 13,
   "id": "e0f95e2f",
   "metadata": {
    "ExecuteTime": {
     "end_time": "2024-05-10T14:39:04.389240Z",
     "start_time": "2024-05-10T14:39:03.833507Z"
    }
   },
   "outputs": [
    {
     "data": {
      "image/png": "[encoded data removed]",
      "text/plain": [
       "<Figure size 640x480 with 1 Axes>"
      ]
     },
     "metadata": {},
     "output_type": "display_data"
    }
   ],
   "source": [
    "plt.plot(cb.get_evals_result()['learn']['RMSE'], label='train loss')\n",
    "plt.plot(cb.get_evals_result()['validation']['RMSE'], label='val loss')\n",
    "plt.legend()\n",
    "plt.show()"
   ]
  },
  {
   "cell_type": "markdown",
   "id": "c59e1bdb",
   "metadata": {},
   "source": [
    "Getting the best loss scores of the model\n"
   ]
  },
  {
   "cell_type": "code",
   "execution_count": 14,
   "id": "e174b432",
   "metadata": {
    "ExecuteTime": {
     "end_time": "2024-05-10T14:39:04.410759Z",
     "start_time": "2024-05-10T14:39:04.393844Z"
    }
   },
   "outputs": [
    {
     "data": {
      "text/plain": [
       "{'learn': {'RMSE': 7127.804757277984},\n",
       " 'validation': {'RMSE': 25664.338552625577}}"
      ]
     },
     "execution_count": 14,
     "metadata": {},
     "output_type": "execute_result"
    }
   ],
   "source": [
    "cb.get_best_score()"
   ]
  },
  {
   "cell_type": "markdown",
   "id": "ea9ee709",
   "metadata": {},
   "source": [
    "Top-10 important features plotted with barplot"
   ]
  },
  {
   "cell_type": "code",
   "execution_count": 15,
   "id": "e22d0c20",
   "metadata": {
    "ExecuteTime": {
     "end_time": "2024-05-10T14:39:04.870644Z",
     "start_time": "2024-05-10T14:39:04.415421Z"
    }
   },
   "outputs": [
    {
     "data": {
      "image/png": "[encoded data removed]",
      "text/plain": [
       "<Figure size 1400x1000 with 1 Axes>"
      ]
     },
     "metadata": {},
     "output_type": "display_data"
    }
   ],
   "source": [
    "def feature_importance_plot(model, dataset, n_features=None):\n",
    "    lim_n_features = n_features or len(dataset.get_feature_names())\n",
    "    sorted_feature_importance = model.feature_importances_.argsort()\n",
    "    \n",
    "    sorted_features = np.array(dataset.get_feature_names())[sorted_feature_importance]\n",
    "    sorted_importances = model.feature_importances_[sorted_feature_importance]\n",
    "    \n",
    "    plt.figure(figsize=(14, 10))\n",
    "    plt.barh(sorted_features[-lim_n_features:], sorted_importances[-lim_n_features:], color='lightgreen')\n",
    "    plt.xlabel(\"CatBoost Feature Importance\")\n",
    "    \n",
    "    plt.show()\n",
    "    \n",
    "feature_importance_plot(cb, train_pool, n_features=10)"
   ]
  },
  {
   "cell_type": "markdown",
   "id": "97104f1a",
   "metadata": {},
   "source": [
    "## Train the Catboost model with a DF without missing values"
   ]
  },
  {
   "cell_type": "markdown",
   "id": "cc0e90cd",
   "metadata": {
    "ExecuteTime": {
     "end_time": "2021-11-19T09:43:26.211680Z",
     "start_time": "2021-11-19T09:43:26.208473Z"
    }
   },
   "source": [
    "Drop the None / missing values"
   ]
  },
  {
   "cell_type": "code",
   "execution_count": 16,
   "id": "5eae7c02",
   "metadata": {
    "ExecuteTime": {
     "end_time": "2024-05-10T14:39:04.888451Z",
     "start_time": "2024-05-10T14:39:04.871691Z"
    }
   },
   "outputs": [],
   "source": [
    "df_drop = df.drop(cols_to_drop, axis=1)"
   ]
  },
  {
   "cell_type": "markdown",
   "id": "55365264",
   "metadata": {},
   "source": [
    "Split data into train and test in proportion 80/20 and shuffle"
   ]
  },
  {
   "cell_type": "code",
   "execution_count": 17,
   "id": "a61ccf65",
   "metadata": {
    "ExecuteTime": {
     "end_time": "2024-05-10T14:39:04.917984Z",
     "start_time": "2024-05-10T14:39:04.894720Z"
    }
   },
   "outputs": [],
   "source": [
    "X_drop = df_drop[np.setdiff1d(df_drop.columns, 'SalePrice')]\n",
    "y_drop = df_drop.SalePrice\n",
    "\n",
    "X_drop_train, X_drop_test, y_drop_train, y_drop_test = train_test_split(X_drop, y_drop, test_size=test_size, \n",
    "                                                                        shuffle=True, random_state=42)"
   ]
  },
  {
   "cell_type": "markdown",
   "id": "225ec61e",
   "metadata": {},
   "source": [
    "Using MICE, fill in the missing values in the numeric columns X_train, X_test. Once filled, the result must be converted back into a dataframe with appropriate column names"
   ]
  },
  {
   "cell_type": "code",
   "execution_count": 18,
   "id": "9ef2487e",
   "metadata": {
    "ExecuteTime": {
     "end_time": "2024-05-10T14:39:05.781626Z",
     "start_time": "2024-05-10T14:39:04.928819Z"
    }
   },
   "outputs": [],
   "source": [
    "num_cols_Adrop = X_drop_train.select_dtypes('number').columns.to_list()\n",
    "\n",
    "mice_imputer_train = mice(X_drop_train[num_cols_Adrop].values)\n",
    "mice_imputer_test = mice(X_drop_test[num_cols_Adrop].values)"
   ]
  },
  {
   "cell_type": "code",
   "execution_count": 19,
   "id": "3d08b74d",
   "metadata": {
    "ExecuteTime": {
     "end_time": "2024-05-10T14:39:05.795092Z",
     "start_time": "2024-05-10T14:39:05.785805Z"
    }
   },
   "outputs": [],
   "source": [
    "imputed_num_train_df = pd.DataFrame(mice_imputer_train, columns=num_cols_Adrop)\n",
    "imputed_num_test_df = pd.DataFrame(mice_imputer_test, columns=num_cols_Adrop)"
   ]
  },
  {
   "cell_type": "markdown",
   "id": "812db5eb",
   "metadata": {
    "ExecuteTime": {
     "end_time": "2021-11-19T09:56:22.197418Z",
     "start_time": "2021-11-19T09:56:22.194379Z"
    }
   },
   "source": [
    "Fill in the missing values in the categorical columns with the highest frequency in the column using SimpleImputer from Sklearn."
   ]
  },
  {
   "cell_type": "code",
   "execution_count": 20,
   "id": "f95fccd3",
   "metadata": {
    "ExecuteTime": {
     "end_time": "2024-05-10T14:39:05.846432Z",
     "start_time": "2024-05-10T14:39:05.801909Z"
    }
   },
   "outputs": [
    {
     "data": {
      "text/html": [
       "<style>#sk-container-id-1 {\n",
       "  /* Definition of color scheme common for light and dark mode */\n",
       "  --sklearn-color-text: black;\n",
       "  --sklearn-color-line: gray;\n",
       "  /* Definition of color scheme for unfitted estimators */\n",
       "  --sklearn-color-unfitted-level-0: #fff5e6;\n",
       "  --sklearn-color-unfitted-level-1: #f6e4d2;\n",
       "  --sklearn-color-unfitted-level-2: #ffe0b3;\n",
       "  --sklearn-color-unfitted-level-3: chocolate;\n",
       "  /* Definition of color scheme for fitted estimators */\n",
       "  --sklearn-color-fitted-level-0: #f0f8ff;\n",
       "  --sklearn-color-fitted-level-1: #d4ebff;\n",
       "  --sklearn-color-fitted-level-2: #b3dbfd;\n",
       "  --sklearn-color-fitted-level-3: cornflowerblue;\n",
       "\n",
       "  /* Specific color for light theme */\n",
       "  --sklearn-color-text-on-default-background: var(--sg-text-color, var(--theme-code-foreground, var(--jp-content-font-color1, black)));\n",
       "  --sklearn-color-background: var(--sg-background-color, var(--theme-background, var(--jp-layout-color0, white)));\n",
       "  --sklearn-color-border-box: var(--sg-text-color, var(--theme-code-foreground, var(--jp-content-font-color1, black)));\n",
       "  --sklearn-color-icon: #696969;\n",
       "\n",
       "  @media (prefers-color-scheme: dark) {\n",
       "    /* Redefinition of color scheme for dark theme */\n",
       "    --sklearn-color-text-on-default-background: var(--sg-text-color, var(--theme-code-foreground, var(--jp-content-font-color1, white)));\n",
       "    --sklearn-color-background: var(--sg-background-color, var(--theme-background, var(--jp-layout-color0, #111)));\n",
       "    --sklearn-color-border-box: var(--sg-text-color, var(--theme-code-foreground, var(--jp-content-font-color1, white)));\n",
       "    --sklearn-color-icon: #878787;\n",
       "  }\n",
       "}\n",
       "\n",
       "#sk-container-id-1 {\n",
       "  color: var(--sklearn-color-text);\n",
       "}\n",
       "\n",
       "#sk-container-id-1 pre {\n",
       "  padding: 0;\n",
       "}\n",
       "\n",
       "#sk-container-id-1 input.sk-hidden--visually {\n",
       "  border: 0;\n",
       "  clip: rect(1px 1px 1px 1px);\n",
       "  clip: rect(1px, 1px, 1px, 1px);\n",
       "  height: 1px;\n",
       "  margin: -1px;\n",
       "  overflow: hidden;\n",
       "  padding: 0;\n",
       "  position: absolute;\n",
       "  width: 1px;\n",
       "}\n",
       "\n",
       "#sk-container-id-1 div.sk-dashed-wrapped {\n",
       "  border: 1px dashed var(--sklearn-color-line);\n",
       "  margin: 0 0.4em 0.5em 0.4em;\n",
       "  box-sizing: border-box;\n",
       "  padding-bottom: 0.4em;\n",
       "  background-color: var(--sklearn-color-background);\n",
       "}\n",
       "\n",
       "#sk-container-id-1 div.sk-container {\n",
       "  /* jupyter's `normalize.less` sets `[hidden] { display: none; }`\n",
       "     but bootstrap.min.css set `[hidden] { display: none !important; }`\n",
       "     so we also need the `!important` here to be able to override the\n",
       "     default hidden behavior on the sphinx rendered scikit-learn.org.\n",
       "     See: https://github.com/scikit-learn/scikit-learn/issues/21755 */\n",
       "  display: inline-block !important;\n",
       "  position: relative;\n",
       "}\n",
       "\n",
       "#sk-container-id-1 div.sk-text-repr-fallback {\n",
       "  display: none;\n",
       "}\n",
       "\n",
       "div.sk-parallel-item,\n",
       "div.sk-serial,\n",
       "div.sk-item {\n",
       "  /* draw centered vertical line to link estimators */\n",
       "  background-image: linear-gradient(var(--sklearn-color-text-on-default-background), var(--sklearn-color-text-on-default-background));\n",
       "  background-size: 2px 100%;\n",
       "  background-repeat: no-repeat;\n",
       "  background-position: center center;\n",
       "}\n",
       "\n",
       "/* Parallel-specific style estimator block */\n",
       "\n",
       "#sk-container-id-1 div.sk-parallel-item::after {\n",
       "  content: \"\";\n",
       "  width: 100%;\n",
       "  border-bottom: 2px solid var(--sklearn-color-text-on-default-background);\n",
       "  flex-grow: 1;\n",
       "}\n",
       "\n",
       "#sk-container-id-1 div.sk-parallel {\n",
       "  display: flex;\n",
       "  align-items: stretch;\n",
       "  justify-content: center;\n",
       "  background-color: var(--sklearn-color-background);\n",
       "  position: relative;\n",
       "}\n",
       "\n",
       "#sk-container-id-1 div.sk-parallel-item {\n",
       "  display: flex;\n",
       "  flex-direction: column;\n",
       "}\n",
       "\n",
       "#sk-container-id-1 div.sk-parallel-item:first-child::after {\n",
       "  align-self: flex-end;\n",
       "  width: 50%;\n",
       "}\n",
       "\n",
       "#sk-container-id-1 div.sk-parallel-item:last-child::after {\n",
       "  align-self: flex-start;\n",
       "  width: 50%;\n",
       "}\n",
       "\n",
       "#sk-container-id-1 div.sk-parallel-item:only-child::after {\n",
       "  width: 0;\n",
       "}\n",
       "\n",
       "/* Serial-specific style estimator block */\n",
       "\n",
       "#sk-container-id-1 div.sk-serial {\n",
       "  display: flex;\n",
       "  flex-direction: column;\n",
       "  align-items: center;\n",
       "  background-color: var(--sklearn-color-background);\n",
       "  padding-right: 1em;\n",
       "  padding-left: 1em;\n",
       "}\n",
       "\n",
       "\n",
       "/* Toggleable style: style used for estimator/Pipeline/ColumnTransformer box that is\n",
       "clickable and can be expanded/collapsed.\n",
       "- Pipeline and ColumnTransformer use this feature and define the default style\n",
       "- Estimators will overwrite some part of the style using the `sk-estimator` class\n",
       "*/\n",
       "\n",
       "/* Pipeline and ColumnTransformer style (default) */\n",
       "\n",
       "#sk-container-id-1 div.sk-toggleable {\n",
       "  /* Default theme specific background. It is overwritten whether we have a\n",
       "  specific estimator or a Pipeline/ColumnTransformer */\n",
       "  background-color: var(--sklearn-color-background);\n",
       "}\n",
       "\n",
       "/* Toggleable label */\n",
       "#sk-container-id-1 label.sk-toggleable__label {\n",
       "  cursor: pointer;\n",
       "  display: block;\n",
       "  width: 100%;\n",
       "  margin-bottom: 0;\n",
       "  padding: 0.5em;\n",
       "  box-sizing: border-box;\n",
       "  text-align: center;\n",
       "}\n",
       "\n",
       "#sk-container-id-1 label.sk-toggleable__label-arrow:before {\n",
       "  /* Arrow on the left of the label */\n",
       "  content: \"▸\";\n",
       "  float: left;\n",
       "  margin-right: 0.25em;\n",
       "  color: var(--sklearn-color-icon);\n",
       "}\n",
       "\n",
       "#sk-container-id-1 label.sk-toggleable__label-arrow:hover:before {\n",
       "  color: var(--sklearn-color-text);\n",
       "}\n",
       "\n",
       "/* Toggleable content - dropdown */\n",
       "\n",
       "#sk-container-id-1 div.sk-toggleable__content {\n",
       "  max-height: 0;\n",
       "  max-width: 0;\n",
       "  overflow: hidden;\n",
       "  text-align: left;\n",
       "  /* unfitted */\n",
       "  background-color: var(--sklearn-color-unfitted-level-0);\n",
       "}\n",
       "\n",
       "#sk-container-id-1 div.sk-toggleable__content.fitted {\n",
       "  /* fitted */\n",
       "  background-color: var(--sklearn-color-fitted-level-0);\n",
       "}\n",
       "\n",
       "#sk-container-id-1 div.sk-toggleable__content pre {\n",
       "  margin: 0.2em;\n",
       "  border-radius: 0.25em;\n",
       "  color: var(--sklearn-color-text);\n",
       "  /* unfitted */\n",
       "  background-color: var(--sklearn-color-unfitted-level-0);\n",
       "}\n",
       "\n",
       "#sk-container-id-1 div.sk-toggleable__content.fitted pre {\n",
       "  /* unfitted */\n",
       "  background-color: var(--sklearn-color-fitted-level-0);\n",
       "}\n",
       "\n",
       "#sk-container-id-1 input.sk-toggleable__control:checked~div.sk-toggleable__content {\n",
       "  /* Expand drop-down */\n",
       "  max-height: 200px;\n",
       "  max-width: 100%;\n",
       "  overflow: auto;\n",
       "}\n",
       "\n",
       "#sk-container-id-1 input.sk-toggleable__control:checked~label.sk-toggleable__label-arrow:before {\n",
       "  content: \"▾\";\n",
       "}\n",
       "\n",
       "/* Pipeline/ColumnTransformer-specific style */\n",
       "\n",
       "#sk-container-id-1 div.sk-label input.sk-toggleable__control:checked~label.sk-toggleable__label {\n",
       "  color: var(--sklearn-color-text);\n",
       "  background-color: var(--sklearn-color-unfitted-level-2);\n",
       "}\n",
       "\n",
       "#sk-container-id-1 div.sk-label.fitted input.sk-toggleable__control:checked~label.sk-toggleable__label {\n",
       "  background-color: var(--sklearn-color-fitted-level-2);\n",
       "}\n",
       "\n",
       "/* Estimator-specific style */\n",
       "\n",
       "/* Colorize estimator box */\n",
       "#sk-container-id-1 div.sk-estimator input.sk-toggleable__control:checked~label.sk-toggleable__label {\n",
       "  /* unfitted */\n",
       "  background-color: var(--sklearn-color-unfitted-level-2);\n",
       "}\n",
       "\n",
       "#sk-container-id-1 div.sk-estimator.fitted input.sk-toggleable__control:checked~label.sk-toggleable__label {\n",
       "  /* fitted */\n",
       "  background-color: var(--sklearn-color-fitted-level-2);\n",
       "}\n",
       "\n",
       "#sk-container-id-1 div.sk-label label.sk-toggleable__label,\n",
       "#sk-container-id-1 div.sk-label label {\n",
       "  /* The background is the default theme color */\n",
       "  color: var(--sklearn-color-text-on-default-background);\n",
       "}\n",
       "\n",
       "/* On hover, darken the color of the background */\n",
       "#sk-container-id-1 div.sk-label:hover label.sk-toggleable__label {\n",
       "  color: var(--sklearn-color-text);\n",
       "  background-color: var(--sklearn-color-unfitted-level-2);\n",
       "}\n",
       "\n",
       "/* Label box, darken color on hover, fitted */\n",
       "#sk-container-id-1 div.sk-label.fitted:hover label.sk-toggleable__label.fitted {\n",
       "  color: var(--sklearn-color-text);\n",
       "  background-color: var(--sklearn-color-fitted-level-2);\n",
       "}\n",
       "\n",
       "/* Estimator label */\n",
       "\n",
       "#sk-container-id-1 div.sk-label label {\n",
       "  font-family: monospace;\n",
       "  font-weight: bold;\n",
       "  display: inline-block;\n",
       "  line-height: 1.2em;\n",
       "}\n",
       "\n",
       "#sk-container-id-1 div.sk-label-container {\n",
       "  text-align: center;\n",
       "}\n",
       "\n",
       "/* Estimator-specific */\n",
       "#sk-container-id-1 div.sk-estimator {\n",
       "  font-family: monospace;\n",
       "  border: 1px dotted var(--sklearn-color-border-box);\n",
       "  border-radius: 0.25em;\n",
       "  box-sizing: border-box;\n",
       "  margin-bottom: 0.5em;\n",
       "  /* unfitted */\n",
       "  background-color: var(--sklearn-color-unfitted-level-0);\n",
       "}\n",
       "\n",
       "#sk-container-id-1 div.sk-estimator.fitted {\n",
       "  /* fitted */\n",
       "  background-color: var(--sklearn-color-fitted-level-0);\n",
       "}\n",
       "\n",
       "/* on hover */\n",
       "#sk-container-id-1 div.sk-estimator:hover {\n",
       "  /* unfitted */\n",
       "  background-color: var(--sklearn-color-unfitted-level-2);\n",
       "}\n",
       "\n",
       "#sk-container-id-1 div.sk-estimator.fitted:hover {\n",
       "  /* fitted */\n",
       "  background-color: var(--sklearn-color-fitted-level-2);\n",
       "}\n",
       "\n",
       "/* Specification for estimator info (e.g. \"i\" and \"?\") */\n",
       "\n",
       "/* Common style for \"i\" and \"?\" */\n",
       "\n",
       ".sk-estimator-doc-link,\n",
       "a:link.sk-estimator-doc-link,\n",
       "a:visited.sk-estimator-doc-link {\n",
       "  float: right;\n",
       "  font-size: smaller;\n",
       "  line-height: 1em;\n",
       "  font-family: monospace;\n",
       "  background-color: var(--sklearn-color-background);\n",
       "  border-radius: 1em;\n",
       "  height: 1em;\n",
       "  width: 1em;\n",
       "  text-decoration: none !important;\n",
       "  margin-left: 1ex;\n",
       "  /* unfitted */\n",
       "  border: var(--sklearn-color-unfitted-level-1) 1pt solid;\n",
       "  color: var(--sklearn-color-unfitted-level-1);\n",
       "}\n",
       "\n",
       ".sk-estimator-doc-link.fitted,\n",
       "a:link.sk-estimator-doc-link.fitted,\n",
       "a:visited.sk-estimator-doc-link.fitted {\n",
       "  /* fitted */\n",
       "  border: var(--sklearn-color-fitted-level-1) 1pt solid;\n",
       "  color: var(--sklearn-color-fitted-level-1);\n",
       "}\n",
       "\n",
       "/* On hover */\n",
       "div.sk-estimator:hover .sk-estimator-doc-link:hover,\n",
       ".sk-estimator-doc-link:hover,\n",
       "div.sk-label-container:hover .sk-estimator-doc-link:hover,\n",
       ".sk-estimator-doc-link:hover {\n",
       "  /* unfitted */\n",
       "  background-color: var(--sklearn-color-unfitted-level-3);\n",
       "  color: var(--sklearn-color-background);\n",
       "  text-decoration: none;\n",
       "}\n",
       "\n",
       "div.sk-estimator.fitted:hover .sk-estimator-doc-link.fitted:hover,\n",
       ".sk-estimator-doc-link.fitted:hover,\n",
       "div.sk-label-container:hover .sk-estimator-doc-link.fitted:hover,\n",
       ".sk-estimator-doc-link.fitted:hover {\n",
       "  /* fitted */\n",
       "  background-color: var(--sklearn-color-fitted-level-3);\n",
       "  color: var(--sklearn-color-background);\n",
       "  text-decoration: none;\n",
       "}\n",
       "\n",
       "/* Span, style for the box shown on hovering the info icon */\n",
       ".sk-estimator-doc-link span {\n",
       "  display: none;\n",
       "  z-index: 9999;\n",
       "  position: relative;\n",
       "  font-weight: normal;\n",
       "  right: .2ex;\n",
       "  padding: .5ex;\n",
       "  margin: .5ex;\n",
       "  width: min-content;\n",
       "  min-width: 20ex;\n",
       "  max-width: 50ex;\n",
       "  color: var(--sklearn-color-text);\n",
       "  box-shadow: 2pt 2pt 4pt #999;\n",
       "  /* unfitted */\n",
       "  background: var(--sklearn-color-unfitted-level-0);\n",
       "  border: .5pt solid var(--sklearn-color-unfitted-level-3);\n",
       "}\n",
       "\n",
       ".sk-estimator-doc-link.fitted span {\n",
       "  /* fitted */\n",
       "  background: var(--sklearn-color-fitted-level-0);\n",
       "  border: var(--sklearn-color-fitted-level-3);\n",
       "}\n",
       "\n",
       ".sk-estimator-doc-link:hover span {\n",
       "  display: block;\n",
       "}\n",
       "\n",
       "/* \"?\"-specific style due to the `<a>` HTML tag */\n",
       "\n",
       "#sk-container-id-1 a.estimator_doc_link {\n",
       "  float: right;\n",
       "  font-size: 1rem;\n",
       "  line-height: 1em;\n",
       "  font-family: monospace;\n",
       "  background-color: var(--sklearn-color-background);\n",
       "  border-radius: 1rem;\n",
       "  height: 1rem;\n",
       "  width: 1rem;\n",
       "  text-decoration: none;\n",
       "  /* unfitted */\n",
       "  color: var(--sklearn-color-unfitted-level-1);\n",
       "  border: var(--sklearn-color-unfitted-level-1) 1pt solid;\n",
       "}\n",
       "\n",
       "#sk-container-id-1 a.estimator_doc_link.fitted {\n",
       "  /* fitted */\n",
       "  border: var(--sklearn-color-fitted-level-1) 1pt solid;\n",
       "  color: var(--sklearn-color-fitted-level-1);\n",
       "}\n",
       "\n",
       "/* On hover */\n",
       "#sk-container-id-1 a.estimator_doc_link:hover {\n",
       "  /* unfitted */\n",
       "  background-color: var(--sklearn-color-unfitted-level-3);\n",
       "  color: var(--sklearn-color-background);\n",
       "  text-decoration: none;\n",
       "}\n",
       "\n",
       "#sk-container-id-1 a.estimator_doc_link.fitted:hover {\n",
       "  /* fitted */\n",
       "  background-color: var(--sklearn-color-fitted-level-3);\n",
       "}\n",
       "</style><div id=\"sk-container-id-1\" class=\"sk-top-container\"><div class=\"sk-text-repr-fallback\"><pre>SimpleImputer(strategy=&#x27;most_frequent&#x27;)</pre><b>In a Jupyter environment, please rerun this cell to show the HTML representation or trust the notebook. <br />On GitHub, the HTML representation is unable to render, please try loading this page with nbviewer.org.</b></div><div class=\"sk-container\" hidden><div class=\"sk-item\"><div class=\"sk-estimator fitted sk-toggleable\"><input class=\"sk-toggleable__control sk-hidden--visually\" id=\"sk-estimator-id-1\" type=\"checkbox\" checked><label for=\"sk-estimator-id-1\" class=\"sk-toggleable__label fitted sk-toggleable__label-arrow fitted\">&nbsp;&nbsp;SimpleImputer<a class=\"sk-estimator-doc-link fitted\" rel=\"noreferrer\" target=\"_blank\" href=\"https://scikit-learn.org/1.4/modules/generated/sklearn.impute.SimpleImputer.html\">?<span>Documentation for SimpleImputer</span></a><span class=\"sk-estimator-doc-link fitted\">i<span>Fitted</span></span></label><div class=\"sk-toggleable__content fitted\"><pre>SimpleImputer(strategy=&#x27;most_frequent&#x27;)</pre></div> </div></div></div></div>"
      ],
      "text/plain": [
       "SimpleImputer(strategy='most_frequent')"
      ]
     },
     "execution_count": 20,
     "metadata": {},
     "output_type": "execute_result"
    }
   ],
   "source": [
    "cat_cols_Adrop = X_drop_train.select_dtypes('object').columns.to_list()\n",
    "\n",
    "simple_imputer_freq = SimpleImputer(strategy='most_frequent')\n",
    "simple_imputer_freq.fit(X_drop_train[cat_cols_Adrop])"
   ]
  },
  {
   "cell_type": "code",
   "execution_count": 21,
   "id": "09129401",
   "metadata": {
    "ExecuteTime": {
     "end_time": "2024-05-10T14:39:05.884572Z",
     "start_time": "2024-05-10T14:39:05.853936Z"
    }
   },
   "outputs": [],
   "source": [
    "imputed_cat_train_df = pd.DataFrame(simple_imputer_freq.transform(X_drop_train[cat_cols_Adrop]), columns=cat_cols_Adrop)\n",
    "imputed_cat_test_df = pd.DataFrame(simple_imputer_freq.transform(X_drop_test[cat_cols_Adrop]), columns=cat_cols_Adrop)"
   ]
  },
  {
   "cell_type": "markdown",
   "id": "0fe5a523",
   "metadata": {
    "ExecuteTime": {
     "end_time": "2024-05-10T14:40:58.009392Z",
     "start_time": "2024-05-10T14:40:58.009392Z"
    }
   },
   "source": [
    "Concat the DFs with numerical and categorical features"
   ]
  },
  {
   "cell_type": "code",
   "execution_count": 22,
   "id": "621bc2b9",
   "metadata": {
    "ExecuteTime": {
     "end_time": "2024-05-10T14:39:05.907571Z",
     "start_time": "2024-05-10T14:39:05.891577Z"
    }
   },
   "outputs": [],
   "source": [
    "imputed_train_df = pd.concat([imputed_num_train_df, imputed_cat_train_df], axis=1)\n",
    "imputed_test_df = pd.concat([imputed_num_test_df, imputed_cat_test_df], axis=1)"
   ]
  },
  {
   "cell_type": "markdown",
   "id": "00250a1e",
   "metadata": {},
   "source": [
    "Launch the training of the catboost regression model with data without missing values "
   ]
  },
  {
   "cell_type": "code",
   "execution_count": 23,
   "id": "529a68da",
   "metadata": {
    "ExecuteTime": {
     "end_time": "2024-05-10T14:40:52.960073Z",
     "start_time": "2024-05-10T14:39:05.911725Z"
    }
   },
   "outputs": [
    {
     "data": {
      "application/vnd.jupyter.widget-view+json": {
       "model_id": "2bb14e1edda34ce1a48643c0a20c659d",
       "version_major": 2,
       "version_minor": 0
      },
      "text/plain": [
       "MetricVisualizer(layout=Layout(align_self='stretch', height='500px'))"
      ]
     },
     "metadata": {},
     "output_type": "display_data"
    },
    {
     "name": "stdout",
     "output_type": "stream",
     "text": [
      "Learning rate set to 0.052178\n",
      "0:\tlearn: 74703.6722666\ttest: 85116.0028767\tbest: 85116.0028767 (0)\ttotal: 115ms\tremaining: 1m 54s\n",
      "200:\tlearn: 16041.6270302\ttest: 27324.2944991\tbest: 27324.2944991 (200)\ttotal: 20.4s\tremaining: 1m 20s\n",
      "400:\tlearn: 11805.3187907\ttest: 26444.7490424\tbest: 26431.4427922 (396)\ttotal: 41.8s\tremaining: 1m 2s\n",
      "600:\tlearn: 9354.5675616\ttest: 26069.7244925\tbest: 26064.7866567 (586)\ttotal: 1m 3s\tremaining: 42s\n",
      "800:\tlearn: 7625.9352376\ttest: 25884.9842475\tbest: 25881.3062074 (798)\ttotal: 1m 24s\tremaining: 21s\n",
      "999:\tlearn: 6474.8605256\ttest: 25851.4351449\tbest: 25839.8350644 (991)\ttotal: 1m 46s\tremaining: 0us\n",
      "\n",
      "bestTest = 25839.83506\n",
      "bestIteration = 991\n",
      "\n",
      "Shrink model to first 992 iterations.\n"
     ]
    }
   ],
   "source": [
    "cb_imputed = CatBoostRegressor()\n",
    "imputed_train_pool = Pool(imputed_train_df, y_drop_train, cat_features=cat_cols_Adrop)\n",
    "imputed_test_pool = Pool(imputed_test_df, y_drop_test, cat_features=cat_cols_Adrop)\n",
    "\n",
    "cb_imputed.fit(imputed_train_pool, eval_set=imputed_test_pool, verbose=200, plot=True);"
   ]
  },
  {
   "cell_type": "markdown",
   "id": "d6ec43ed",
   "metadata": {},
   "source": [
    "Plotting the loss values of the model for train and test samples"
   ]
  },
  {
   "cell_type": "code",
   "execution_count": 24,
   "id": "36f916af",
   "metadata": {
    "ExecuteTime": {
     "end_time": "2024-05-10T14:40:53.379623Z",
     "start_time": "2024-05-10T14:40:52.961688Z"
    }
   },
   "outputs": [
    {
     "data": {
      "image/png": "[encoded data removed]",
      "text/plain": [
       "<Figure size 640x480 with 1 Axes>"
      ]
     },
     "metadata": {},
     "output_type": "display_data"
    }
   ],
   "source": [
    "plt.plot(cb_imputed.get_evals_result()['learn']['RMSE'], label='train loss')\n",
    "plt.plot(cb_imputed.get_evals_result()['validation']['RMSE'], label='val loss')\n",
    "plt.legend()\n",
    "plt.show()"
   ]
  },
  {
   "cell_type": "code",
   "execution_count": 25,
   "id": "1d21b97c",
   "metadata": {
    "ExecuteTime": {
     "end_time": "2024-05-10T14:40:53.406144Z",
     "start_time": "2024-05-10T14:40:53.385451Z"
    }
   },
   "outputs": [
    {
     "name": "stdout",
     "output_type": "stream",
     "text": [
      "Train set RMSE: 6474.8605255541\n",
      "Test set RMSE: 25839.835064388786\n"
     ]
    }
   ],
   "source": [
    "print('Train set RMSE: {}\\nTest set RMSE: {}'.format(cb_imputed.get_best_score()['learn']['RMSE'], \n",
    "                                                      cb_imputed.get_best_score()['validation']['RMSE']))"
   ]
  },
  {
   "cell_type": "markdown",
   "id": "fd0169e2",
   "metadata": {},
   "source": [
    "Top-10 important features plotted with barplot"
   ]
  },
  {
   "cell_type": "code",
   "execution_count": 27,
   "id": "097c3081",
   "metadata": {
    "ExecuteTime": {
     "end_time": "2024-05-10T14:42:51.569758Z",
     "start_time": "2024-05-10T14:42:51.160260Z"
    },
    "scrolled": true
   },
   "outputs": [
    {
     "data": {
      "image/png": "[encoded data removed]",
      "text/plain": [
       "<Figure size 1400x1000 with 1 Axes>"
      ]
     },
     "metadata": {},
     "output_type": "display_data"
    }
   ],
   "source": [
    "feature_importance_plot(cb_imputed, imputed_train_pool, n_features=10)"
   ]
  },
  {
   "cell_type": "markdown",
   "id": "4e6c53ea",
   "metadata": {},
   "source": [
    "**Conclusions:**\n",
    "- the quality metric for the training set has improved, but for the test set, on the contrary, it has worsened (possibly a slight overfitting)\n",
    "- the distribution of the significance of features has changed significantly; Intuitively, the data obtained after algorithmically filling missing values is worse than simply filling missing values with the string 'NA'. But it would probably be worth looking deeper into the data"
   ]
  }
 ],
 "metadata": {
  "kernelspec": {
   "display_name": "ds_kernel",
   "language": "python",
   "name": "ds_kernel"
  },
  "language_info": {
   "codemirror_mode": {
    "name": "ipython",
    "version": 3
   },
   "file_extension": ".py",
   "mimetype": "text/x-python",
   "name": "python",
   "nbconvert_exporter": "python",
   "pygments_lexer": "ipython3",
   "version": "3.12.3"
  },
  "toc": {
   "base_numbering": 1,
   "nav_menu": {},
   "number_sections": true,
   "sideBar": true,
   "skip_h1_title": false,
   "title_cell": "Table of Contents",
   "title_sidebar": "Contents",
   "toc_cell": false,
   "toc_position": {},
   "toc_section_display": true,
   "toc_window_display": false
  },
  "varInspector": {
   "cols": {
    "lenName": 16,
    "lenType": 16,
    "lenVar": 40
   },
   "kernels_config": {
    "python": {
     "delete_cmd_postfix": "",
     "delete_cmd_prefix": "del ",
     "library": "var_list.py",
     "varRefreshCmd": "print(var_dic_list())"
    },
    "r": {
     "delete_cmd_postfix": ") ",
     "delete_cmd_prefix": "rm(",
     "library": "var_list.r",
     "varRefreshCmd": "cat(var_dic_list()) "
    }
   },
   "types_to_exclude": [
    "module",
    "function",
    "builtin_function_or_method",
    "instance",
    "_Feature"
   ],
   "window_display": false
  }
 },
 "nbformat": 4,
 "nbformat_minor": 5
}
