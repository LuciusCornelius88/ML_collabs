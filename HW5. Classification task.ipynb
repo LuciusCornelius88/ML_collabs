{
 "cells": [
  {
   "cell_type": "markdown",
   "metadata": {
    "ExecuteTime": {
     "end_time": "2021-11-01T17:11:01.482618Z",
     "start_time": "2021-11-01T17:11:01.480643Z"
    }
   },
   "source": [
    "# Мультиклассовая классификация"
   ]
  },
  {
   "cell_type": "markdown",
   "metadata": {
    "ExecuteTime": {
     "end_time": "2021-11-01T16:54:15.788550Z",
     "start_time": "2021-11-01T16:54:15.785275Z"
    }
   },
   "source": [
    "В этом ДЗ будем работать со следующим набором данных:\n",
    "https://archive.ics.uci.edu/ml/datasets/car+evaluation\n",
    "\n",
    "Будем предсказывать класс автомобиля по его характеристикам. Класс может быть unacceptable, acceptable, good, very good\n",
    "\n",
    "Набор данных загружаем из .csv, предоставленного Вам для выполнения ДЗ."
   ]
  },
  {
   "cell_type": "markdown",
   "metadata": {},
   "source": [
    "0. Расположите все импорты под этой клеткой"
   ]
  },
  {
   "cell_type": "code",
   "execution_count": 76,
   "metadata": {
    "ExecuteTime": {
     "end_time": "2021-11-16T01:21:20.200726Z",
     "start_time": "2021-11-16T01:21:20.168729Z"
    }
   },
   "outputs": [],
   "source": [
    "import numpy as np\n",
    "import pandas as pd\n",
    "import seaborn as sns\n",
    "import pydotplus\n",
    "import warnings\n",
    "from matplotlib import pyplot as plt\n",
    "from pathlib import Path\n",
    "from six import StringIO \n",
    "from sklearn.tree import export_graphviz, DecisionTreeClassifier\n",
    "from sklearn.model_selection import GridSearchCV, train_test_split\n",
    "from sklearn.preprocessing import OrdinalEncoder\n",
    "from sklearn.linear_model import LogisticRegression\n",
    "from sklearn.metrics import confusion_matrix, ConfusionMatrixDisplay, classification_report\n",
    "from sklearn.pipeline import Pipeline\n",
    "from IPython.display import Image  \n",
    "\n",
    "warnings.filterwarnings('ignore')\n",
    "%matplotlib inline"
   ]
  },
  {
   "cell_type": "markdown",
   "metadata": {},
   "source": [
    "1.1.Загрузите набор данных в переменную df с помощью Pandas. Выведите первые 5 записей и форму набора данных."
   ]
  },
  {
   "cell_type": "code",
   "execution_count": 2,
   "metadata": {
    "ExecuteTime": {
     "end_time": "2021-11-15T22:37:21.116125Z",
     "start_time": "2021-11-15T22:37:20.738127Z"
    },
    "code_folding": []
   },
   "outputs": [
    {
     "data": {
      "text/html": [
       "<div>\n",
       "<style scoped>\n",
       "    .dataframe tbody tr th:only-of-type {\n",
       "        vertical-align: middle;\n",
       "    }\n",
       "\n",
       "    .dataframe tbody tr th {\n",
       "        vertical-align: top;\n",
       "    }\n",
       "\n",
       "    .dataframe thead th {\n",
       "        text-align: right;\n",
       "    }\n",
       "</style>\n",
       "<table border=\"1\" class=\"dataframe\">\n",
       "  <thead>\n",
       "    <tr style=\"text-align: right;\">\n",
       "      <th></th>\n",
       "      <th>vhigh</th>\n",
       "      <th>vhigh.1</th>\n",
       "      <th>2</th>\n",
       "      <th>2.1</th>\n",
       "      <th>small</th>\n",
       "      <th>low</th>\n",
       "      <th>unacc</th>\n",
       "    </tr>\n",
       "  </thead>\n",
       "  <tbody>\n",
       "    <tr>\n",
       "      <th>0</th>\n",
       "      <td>vhigh</td>\n",
       "      <td>vhigh</td>\n",
       "      <td>2</td>\n",
       "      <td>2</td>\n",
       "      <td>small</td>\n",
       "      <td>med</td>\n",
       "      <td>unacc</td>\n",
       "    </tr>\n",
       "    <tr>\n",
       "      <th>1</th>\n",
       "      <td>vhigh</td>\n",
       "      <td>vhigh</td>\n",
       "      <td>2</td>\n",
       "      <td>2</td>\n",
       "      <td>small</td>\n",
       "      <td>high</td>\n",
       "      <td>unacc</td>\n",
       "    </tr>\n",
       "    <tr>\n",
       "      <th>2</th>\n",
       "      <td>vhigh</td>\n",
       "      <td>vhigh</td>\n",
       "      <td>2</td>\n",
       "      <td>2</td>\n",
       "      <td>med</td>\n",
       "      <td>low</td>\n",
       "      <td>unacc</td>\n",
       "    </tr>\n",
       "    <tr>\n",
       "      <th>3</th>\n",
       "      <td>vhigh</td>\n",
       "      <td>vhigh</td>\n",
       "      <td>2</td>\n",
       "      <td>2</td>\n",
       "      <td>med</td>\n",
       "      <td>med</td>\n",
       "      <td>unacc</td>\n",
       "    </tr>\n",
       "    <tr>\n",
       "      <th>4</th>\n",
       "      <td>vhigh</td>\n",
       "      <td>vhigh</td>\n",
       "      <td>2</td>\n",
       "      <td>2</td>\n",
       "      <td>med</td>\n",
       "      <td>high</td>\n",
       "      <td>unacc</td>\n",
       "    </tr>\n",
       "    <tr>\n",
       "      <th>...</th>\n",
       "      <td>...</td>\n",
       "      <td>...</td>\n",
       "      <td>...</td>\n",
       "      <td>...</td>\n",
       "      <td>...</td>\n",
       "      <td>...</td>\n",
       "      <td>...</td>\n",
       "    </tr>\n",
       "    <tr>\n",
       "      <th>1722</th>\n",
       "      <td>low</td>\n",
       "      <td>low</td>\n",
       "      <td>5more</td>\n",
       "      <td>more</td>\n",
       "      <td>med</td>\n",
       "      <td>med</td>\n",
       "      <td>good</td>\n",
       "    </tr>\n",
       "    <tr>\n",
       "      <th>1723</th>\n",
       "      <td>low</td>\n",
       "      <td>low</td>\n",
       "      <td>5more</td>\n",
       "      <td>more</td>\n",
       "      <td>med</td>\n",
       "      <td>high</td>\n",
       "      <td>vgood</td>\n",
       "    </tr>\n",
       "    <tr>\n",
       "      <th>1724</th>\n",
       "      <td>low</td>\n",
       "      <td>low</td>\n",
       "      <td>5more</td>\n",
       "      <td>more</td>\n",
       "      <td>big</td>\n",
       "      <td>low</td>\n",
       "      <td>unacc</td>\n",
       "    </tr>\n",
       "    <tr>\n",
       "      <th>1725</th>\n",
       "      <td>low</td>\n",
       "      <td>low</td>\n",
       "      <td>5more</td>\n",
       "      <td>more</td>\n",
       "      <td>big</td>\n",
       "      <td>med</td>\n",
       "      <td>good</td>\n",
       "    </tr>\n",
       "    <tr>\n",
       "      <th>1726</th>\n",
       "      <td>low</td>\n",
       "      <td>low</td>\n",
       "      <td>5more</td>\n",
       "      <td>more</td>\n",
       "      <td>big</td>\n",
       "      <td>high</td>\n",
       "      <td>vgood</td>\n",
       "    </tr>\n",
       "  </tbody>\n",
       "</table>\n",
       "<p>1727 rows × 7 columns</p>\n",
       "</div>"
      ],
      "text/plain": [
       "      vhigh vhigh.1      2   2.1  small   low  unacc\n",
       "0     vhigh   vhigh      2     2  small   med  unacc\n",
       "1     vhigh   vhigh      2     2  small  high  unacc\n",
       "2     vhigh   vhigh      2     2    med   low  unacc\n",
       "3     vhigh   vhigh      2     2    med   med  unacc\n",
       "4     vhigh   vhigh      2     2    med  high  unacc\n",
       "...     ...     ...    ...   ...    ...   ...    ...\n",
       "1722    low     low  5more  more    med   med   good\n",
       "1723    low     low  5more  more    med  high  vgood\n",
       "1724    low     low  5more  more    big   low  unacc\n",
       "1725    low     low  5more  more    big   med   good\n",
       "1726    low     low  5more  more    big  high  vgood\n",
       "\n",
       "[1727 rows x 7 columns]"
      ]
     },
     "execution_count": 2,
     "metadata": {},
     "output_type": "execute_result"
    }
   ],
   "source": [
    "DATA = Path('../data/')\n",
    "df = pd.read_csv(DATA / 'cars_evaluation_data.csv')\n",
    "df"
   ]
  },
  {
   "cell_type": "markdown",
   "metadata": {
    "ExecuteTime": {
     "end_time": "2021-11-01T17:00:14.372550Z",
     "start_time": "2021-11-01T17:00:14.369472Z"
    }
   },
   "source": [
    "1.2.В наборе данных нет названий колонок. Дайте следующие названия колонкам:\n",
    "`['buying', 'maint', 'doors', 'persons', 'lug_boot', 'safety', 'class']`"
   ]
  },
  {
   "cell_type": "code",
   "execution_count": 3,
   "metadata": {
    "ExecuteTime": {
     "end_time": "2021-11-15T22:37:21.196136Z",
     "start_time": "2021-11-15T22:37:21.126128Z"
    }
   },
   "outputs": [
    {
     "data": {
      "text/html": [
       "<div>\n",
       "<style scoped>\n",
       "    .dataframe tbody tr th:only-of-type {\n",
       "        vertical-align: middle;\n",
       "    }\n",
       "\n",
       "    .dataframe tbody tr th {\n",
       "        vertical-align: top;\n",
       "    }\n",
       "\n",
       "    .dataframe thead th {\n",
       "        text-align: right;\n",
       "    }\n",
       "</style>\n",
       "<table border=\"1\" class=\"dataframe\">\n",
       "  <thead>\n",
       "    <tr style=\"text-align: right;\">\n",
       "      <th></th>\n",
       "      <th>buying</th>\n",
       "      <th>maint</th>\n",
       "      <th>doors</th>\n",
       "      <th>persons</th>\n",
       "      <th>lug_boot</th>\n",
       "      <th>safety</th>\n",
       "      <th>class</th>\n",
       "    </tr>\n",
       "  </thead>\n",
       "  <tbody>\n",
       "    <tr>\n",
       "      <th>0</th>\n",
       "      <td>vhigh</td>\n",
       "      <td>vhigh</td>\n",
       "      <td>2</td>\n",
       "      <td>2</td>\n",
       "      <td>small</td>\n",
       "      <td>med</td>\n",
       "      <td>unacc</td>\n",
       "    </tr>\n",
       "    <tr>\n",
       "      <th>1</th>\n",
       "      <td>vhigh</td>\n",
       "      <td>vhigh</td>\n",
       "      <td>2</td>\n",
       "      <td>2</td>\n",
       "      <td>small</td>\n",
       "      <td>high</td>\n",
       "      <td>unacc</td>\n",
       "    </tr>\n",
       "    <tr>\n",
       "      <th>2</th>\n",
       "      <td>vhigh</td>\n",
       "      <td>vhigh</td>\n",
       "      <td>2</td>\n",
       "      <td>2</td>\n",
       "      <td>med</td>\n",
       "      <td>low</td>\n",
       "      <td>unacc</td>\n",
       "    </tr>\n",
       "    <tr>\n",
       "      <th>3</th>\n",
       "      <td>vhigh</td>\n",
       "      <td>vhigh</td>\n",
       "      <td>2</td>\n",
       "      <td>2</td>\n",
       "      <td>med</td>\n",
       "      <td>med</td>\n",
       "      <td>unacc</td>\n",
       "    </tr>\n",
       "    <tr>\n",
       "      <th>4</th>\n",
       "      <td>vhigh</td>\n",
       "      <td>vhigh</td>\n",
       "      <td>2</td>\n",
       "      <td>2</td>\n",
       "      <td>med</td>\n",
       "      <td>high</td>\n",
       "      <td>unacc</td>\n",
       "    </tr>\n",
       "    <tr>\n",
       "      <th>...</th>\n",
       "      <td>...</td>\n",
       "      <td>...</td>\n",
       "      <td>...</td>\n",
       "      <td>...</td>\n",
       "      <td>...</td>\n",
       "      <td>...</td>\n",
       "      <td>...</td>\n",
       "    </tr>\n",
       "    <tr>\n",
       "      <th>1722</th>\n",
       "      <td>low</td>\n",
       "      <td>low</td>\n",
       "      <td>5more</td>\n",
       "      <td>more</td>\n",
       "      <td>med</td>\n",
       "      <td>med</td>\n",
       "      <td>good</td>\n",
       "    </tr>\n",
       "    <tr>\n",
       "      <th>1723</th>\n",
       "      <td>low</td>\n",
       "      <td>low</td>\n",
       "      <td>5more</td>\n",
       "      <td>more</td>\n",
       "      <td>med</td>\n",
       "      <td>high</td>\n",
       "      <td>vgood</td>\n",
       "    </tr>\n",
       "    <tr>\n",
       "      <th>1724</th>\n",
       "      <td>low</td>\n",
       "      <td>low</td>\n",
       "      <td>5more</td>\n",
       "      <td>more</td>\n",
       "      <td>big</td>\n",
       "      <td>low</td>\n",
       "      <td>unacc</td>\n",
       "    </tr>\n",
       "    <tr>\n",
       "      <th>1725</th>\n",
       "      <td>low</td>\n",
       "      <td>low</td>\n",
       "      <td>5more</td>\n",
       "      <td>more</td>\n",
       "      <td>big</td>\n",
       "      <td>med</td>\n",
       "      <td>good</td>\n",
       "    </tr>\n",
       "    <tr>\n",
       "      <th>1726</th>\n",
       "      <td>low</td>\n",
       "      <td>low</td>\n",
       "      <td>5more</td>\n",
       "      <td>more</td>\n",
       "      <td>big</td>\n",
       "      <td>high</td>\n",
       "      <td>vgood</td>\n",
       "    </tr>\n",
       "  </tbody>\n",
       "</table>\n",
       "<p>1727 rows × 7 columns</p>\n",
       "</div>"
      ],
      "text/plain": [
       "     buying  maint  doors persons lug_boot safety  class\n",
       "0     vhigh  vhigh      2       2    small    med  unacc\n",
       "1     vhigh  vhigh      2       2    small   high  unacc\n",
       "2     vhigh  vhigh      2       2      med    low  unacc\n",
       "3     vhigh  vhigh      2       2      med    med  unacc\n",
       "4     vhigh  vhigh      2       2      med   high  unacc\n",
       "...     ...    ...    ...     ...      ...    ...    ...\n",
       "1722    low    low  5more    more      med    med   good\n",
       "1723    low    low  5more    more      med   high  vgood\n",
       "1724    low    low  5more    more      big    low  unacc\n",
       "1725    low    low  5more    more      big    med   good\n",
       "1726    low    low  5more    more      big   high  vgood\n",
       "\n",
       "[1727 rows x 7 columns]"
      ]
     },
     "execution_count": 3,
     "metadata": {},
     "output_type": "execute_result"
    }
   ],
   "source": [
    "df_cols = ['buying', 'maint', 'doors', 'persons', 'lug_boot', 'safety', 'class']\n",
    "df.columns = df_cols\n",
    "df"
   ]
  },
  {
   "cell_type": "markdown",
   "metadata": {},
   "source": [
    "2. Выведите программно количество встречаний каждого значения каждой из независимых переменных. Формат числовой, не визуальный. Пример ответа для одной колонки:\n",
    "```\n",
    "med      432\n",
    "high     432\n",
    "vhigh    432\n",
    "low      432\n",
    "Name: buying, dtype: int64\n",
    "```\n",
    "Обязательно, чтоб были названия колонок, названия значений и количество строк с этим значением."
   ]
  },
  {
   "cell_type": "code",
   "execution_count": 4,
   "metadata": {
    "ExecuteTime": {
     "end_time": "2021-11-15T22:37:21.516127Z",
     "start_time": "2021-11-15T22:37:21.202128Z"
    }
   },
   "outputs": [
    {
     "name": "stdout",
     "output_type": "stream",
     "text": [
      "low      432\n",
      "high     432\n",
      "med      432\n",
      "vhigh    431\n",
      "Name: buying, dtype: int64\n",
      "\n",
      "low      432\n",
      "high     432\n",
      "med      432\n",
      "vhigh    431\n",
      "Name: maint, dtype: int64\n",
      "\n",
      "4        432\n",
      "3        432\n",
      "5more    432\n",
      "2        431\n",
      "Name: doors, dtype: int64\n",
      "\n",
      "4       576\n",
      "more    576\n",
      "2       575\n",
      "Name: persons, dtype: int64\n",
      "\n",
      "med      576\n",
      "big      576\n",
      "small    575\n",
      "Name: lug_boot, dtype: int64\n",
      "\n",
      "high    576\n",
      "med     576\n",
      "low     575\n",
      "Name: safety, dtype: int64\n",
      "\n"
     ]
    }
   ],
   "source": [
    "[print(f\"{df.loc[:,col].value_counts()}\\n\") for col in df.columns if col != 'class'];"
   ]
  },
  {
   "cell_type": "markdown",
   "metadata": {},
   "source": [
    "3.Выведите сколько строк соответствуют каждому из значений целевой переменной. Дайте ответы на два следующих вопроса:   \n",
    "3.1. Данная переменная ординальная (порядковая) или номинальная? Почему?  \n",
    "3.2. Классификация в данном случае будет сбалансированная или несбалансированная? Почему?"
   ]
  },
  {
   "cell_type": "code",
   "execution_count": 5,
   "metadata": {
    "ExecuteTime": {
     "end_time": "2021-11-15T22:37:21.675119Z",
     "start_time": "2021-11-15T22:37:21.522125Z"
    }
   },
   "outputs": [
    {
     "data": {
      "text/plain": [
       "unacc    1209\n",
       "acc       384\n",
       "good       69\n",
       "vgood      65\n",
       "Name: class, dtype: int64"
      ]
     },
     "execution_count": 5,
     "metadata": {},
     "output_type": "execute_result"
    }
   ],
   "source": [
    "df.loc[:,'class'].value_counts()"
   ]
  },
  {
   "cell_type": "markdown",
   "metadata": {
    "ExecuteTime": {
     "end_time": "2021-11-04T12:03:08.941741Z",
     "start_time": "2021-11-04T12:03:08.938107Z"
    }
   },
   "source": [
    "3.1. Это ординальная переменная, поскольку ее значения (степень \"приемлемости\" авто) могут быть естественным образом упорядочены в порядке возрастания/убывания и промаркированы.  \n",
    "3.2. Классификация несбалансированная из-за явного наличия мажоритарного (unacc) и миноритарного (good, vgood) классов"
   ]
  },
  {
   "cell_type": "markdown",
   "metadata": {},
   "source": [
    "4.Проверьте, есть ли отсутствующие значения во всех переменных загруженного набора данных."
   ]
  },
  {
   "cell_type": "code",
   "execution_count": 6,
   "metadata": {
    "ExecuteTime": {
     "end_time": "2021-11-15T22:37:21.802122Z",
     "start_time": "2021-11-15T22:37:21.680130Z"
    }
   },
   "outputs": [
    {
     "data": {
      "text/plain": [
       "buying      0\n",
       "maint       0\n",
       "doors       0\n",
       "persons     0\n",
       "lug_boot    0\n",
       "safety      0\n",
       "class       0\n",
       "dtype: int64"
      ]
     },
     "execution_count": 6,
     "metadata": {},
     "output_type": "execute_result"
    }
   ],
   "source": [
    "df.isna().sum()"
   ]
  },
  {
   "cell_type": "markdown",
   "metadata": {},
   "source": [
    "5.1.Запишите в переменную X все независимые переменные, в переменную y - целевую."
   ]
  },
  {
   "cell_type": "code",
   "execution_count": 7,
   "metadata": {
    "ExecuteTime": {
     "end_time": "2021-11-15T22:37:21.898134Z",
     "start_time": "2021-11-15T22:37:21.809124Z"
    }
   },
   "outputs": [],
   "source": [
    "feature_columns = np.setdiff1d(df.columns, 'class')\n",
    "X = df[feature_columns]\n",
    "y = df['class']"
   ]
  },
  {
   "cell_type": "markdown",
   "metadata": {},
   "source": [
    "5.2.Разбейте данные на тренировочный и тестовый наборы (мы снова игнорируем валидационных для упрощения задания). Определите random_state равным 42 и test_size равным 0.33."
   ]
  },
  {
   "cell_type": "code",
   "execution_count": 8,
   "metadata": {
    "ExecuteTime": {
     "end_time": "2021-11-15T22:37:21.994151Z",
     "start_time": "2021-11-15T22:37:21.906127Z"
    }
   },
   "outputs": [],
   "source": [
    "test_size = 0.33\n",
    "X_train_df, X_test_df, y_train, y_test = train_test_split (X, y, test_size = test_size, shuffle = True, random_state=42) "
   ]
  },
  {
   "cell_type": "markdown",
   "metadata": {
    "ExecuteTime": {
     "end_time": "2021-11-01T17:19:56.837872Z",
     "start_time": "2021-11-01T17:19:56.834773Z"
    }
   },
   "source": [
    "5.3.Выведите форму и первые 5 записей полученных X_train_df, X_test_df."
   ]
  },
  {
   "cell_type": "code",
   "execution_count": 9,
   "metadata": {
    "ExecuteTime": {
     "end_time": "2021-11-15T22:37:22.106133Z",
     "start_time": "2021-11-15T22:37:22.001157Z"
    }
   },
   "outputs": [
    {
     "name": "stdout",
     "output_type": "stream",
     "text": [
      "X_train shape = (1157, 6)\n"
     ]
    },
    {
     "data": {
      "text/html": [
       "<div>\n",
       "<style scoped>\n",
       "    .dataframe tbody tr th:only-of-type {\n",
       "        vertical-align: middle;\n",
       "    }\n",
       "\n",
       "    .dataframe tbody tr th {\n",
       "        vertical-align: top;\n",
       "    }\n",
       "\n",
       "    .dataframe thead th {\n",
       "        text-align: right;\n",
       "    }\n",
       "</style>\n",
       "<table border=\"1\" class=\"dataframe\">\n",
       "  <thead>\n",
       "    <tr style=\"text-align: right;\">\n",
       "      <th></th>\n",
       "      <th>buying</th>\n",
       "      <th>doors</th>\n",
       "      <th>lug_boot</th>\n",
       "      <th>maint</th>\n",
       "      <th>persons</th>\n",
       "      <th>safety</th>\n",
       "    </tr>\n",
       "  </thead>\n",
       "  <tbody>\n",
       "    <tr>\n",
       "      <th>83</th>\n",
       "      <td>vhigh</td>\n",
       "      <td>5more</td>\n",
       "      <td>med</td>\n",
       "      <td>vhigh</td>\n",
       "      <td>2</td>\n",
       "      <td>low</td>\n",
       "    </tr>\n",
       "    <tr>\n",
       "      <th>48</th>\n",
       "      <td>vhigh</td>\n",
       "      <td>3</td>\n",
       "      <td>med</td>\n",
       "      <td>vhigh</td>\n",
       "      <td>more</td>\n",
       "      <td>med</td>\n",
       "    </tr>\n",
       "    <tr>\n",
       "      <th>468</th>\n",
       "      <td>high</td>\n",
       "      <td>3</td>\n",
       "      <td>small</td>\n",
       "      <td>vhigh</td>\n",
       "      <td>4</td>\n",
       "      <td>med</td>\n",
       "    </tr>\n",
       "    <tr>\n",
       "      <th>155</th>\n",
       "      <td>vhigh</td>\n",
       "      <td>3</td>\n",
       "      <td>med</td>\n",
       "      <td>high</td>\n",
       "      <td>more</td>\n",
       "      <td>low</td>\n",
       "    </tr>\n",
       "    <tr>\n",
       "      <th>1043</th>\n",
       "      <td>med</td>\n",
       "      <td>4</td>\n",
       "      <td>small</td>\n",
       "      <td>high</td>\n",
       "      <td>more</td>\n",
       "      <td>low</td>\n",
       "    </tr>\n",
       "  </tbody>\n",
       "</table>\n",
       "</div>"
      ],
      "text/plain": [
       "     buying  doors lug_boot  maint persons safety\n",
       "83    vhigh  5more      med  vhigh       2    low\n",
       "48    vhigh      3      med  vhigh    more    med\n",
       "468    high      3    small  vhigh       4    med\n",
       "155   vhigh      3      med   high    more    low\n",
       "1043    med      4    small   high    more    low"
      ]
     },
     "execution_count": 9,
     "metadata": {},
     "output_type": "execute_result"
    }
   ],
   "source": [
    "#X_train_df\n",
    "print(f\"X_train shape = {X_train_df.shape}\")\n",
    "X_train_df.head()"
   ]
  },
  {
   "cell_type": "code",
   "execution_count": 10,
   "metadata": {
    "ExecuteTime": {
     "end_time": "2021-11-15T22:37:22.282142Z",
     "start_time": "2021-11-15T22:37:22.112126Z"
    }
   },
   "outputs": [
    {
     "name": "stdout",
     "output_type": "stream",
     "text": [
      "X_test shape = (570, 6)\n"
     ]
    },
    {
     "data": {
      "text/html": [
       "<div>\n",
       "<style scoped>\n",
       "    .dataframe tbody tr th:only-of-type {\n",
       "        vertical-align: middle;\n",
       "    }\n",
       "\n",
       "    .dataframe tbody tr th {\n",
       "        vertical-align: top;\n",
       "    }\n",
       "\n",
       "    .dataframe thead th {\n",
       "        text-align: right;\n",
       "    }\n",
       "</style>\n",
       "<table border=\"1\" class=\"dataframe\">\n",
       "  <thead>\n",
       "    <tr style=\"text-align: right;\">\n",
       "      <th></th>\n",
       "      <th>buying</th>\n",
       "      <th>doors</th>\n",
       "      <th>lug_boot</th>\n",
       "      <th>maint</th>\n",
       "      <th>persons</th>\n",
       "      <th>safety</th>\n",
       "    </tr>\n",
       "  </thead>\n",
       "  <tbody>\n",
       "    <tr>\n",
       "      <th>599</th>\n",
       "      <td>high</td>\n",
       "      <td>4</td>\n",
       "      <td>big</td>\n",
       "      <td>high</td>\n",
       "      <td>2</td>\n",
       "      <td>low</td>\n",
       "    </tr>\n",
       "    <tr>\n",
       "      <th>932</th>\n",
       "      <td>med</td>\n",
       "      <td>4</td>\n",
       "      <td>big</td>\n",
       "      <td>vhigh</td>\n",
       "      <td>4</td>\n",
       "      <td>low</td>\n",
       "    </tr>\n",
       "    <tr>\n",
       "      <th>628</th>\n",
       "      <td>high</td>\n",
       "      <td>5more</td>\n",
       "      <td>big</td>\n",
       "      <td>high</td>\n",
       "      <td>2</td>\n",
       "      <td>high</td>\n",
       "    </tr>\n",
       "    <tr>\n",
       "      <th>1497</th>\n",
       "      <td>low</td>\n",
       "      <td>5more</td>\n",
       "      <td>med</td>\n",
       "      <td>high</td>\n",
       "      <td>4</td>\n",
       "      <td>med</td>\n",
       "    </tr>\n",
       "    <tr>\n",
       "      <th>1262</th>\n",
       "      <td>med</td>\n",
       "      <td>4</td>\n",
       "      <td>med</td>\n",
       "      <td>low</td>\n",
       "      <td>more</td>\n",
       "      <td>low</td>\n",
       "    </tr>\n",
       "  </tbody>\n",
       "</table>\n",
       "</div>"
      ],
      "text/plain": [
       "     buying  doors lug_boot  maint persons safety\n",
       "599    high      4      big   high       2    low\n",
       "932     med      4      big  vhigh       4    low\n",
       "628    high  5more      big   high       2   high\n",
       "1497    low  5more      med   high       4    med\n",
       "1262    med      4      med    low    more    low"
      ]
     },
     "execution_count": 10,
     "metadata": {},
     "output_type": "execute_result"
    }
   ],
   "source": [
    "#X_test_df\n",
    "print(f\"X_test shape = {X_test_df.shape}\")\n",
    "X_test_df.head()"
   ]
  },
  {
   "cell_type": "markdown",
   "metadata": {},
   "source": [
    "6.1.Выведите типы данных всех переменных в X_train."
   ]
  },
  {
   "cell_type": "code",
   "execution_count": 11,
   "metadata": {
    "ExecuteTime": {
     "end_time": "2021-11-15T22:37:22.458138Z",
     "start_time": "2021-11-15T22:37:22.287130Z"
    }
   },
   "outputs": [
    {
     "data": {
      "text/plain": [
       "buying      object\n",
       "doors       object\n",
       "lug_boot    object\n",
       "maint       object\n",
       "persons     object\n",
       "safety      object\n",
       "dtype: object"
      ]
     },
     "execution_count": 11,
     "metadata": {},
     "output_type": "execute_result"
    }
   ],
   "source": [
    "X_train_df.dtypes"
   ]
  },
  {
   "cell_type": "markdown",
   "metadata": {},
   "source": [
    "6.1. Все независимые переменные у нас ординальные. Закодируйте все независимые переменные используя подходящий метод из sklearn.preprocessing.  \n",
    "Вам необходимо задать правильный порядок значений для каждой переменной при кодировке так, чтоб значения после кодирования были упорядочены в порядке возрастания.  \n",
    "Кодирование значений {'high':1,'low':2,'med':3} будет считаться неправильным выполнением задания.\n",
    "Подумайте, как корректно применять энкодер на трен. и тест. данных.\n",
    "Результат кодирования X_train_df и X_test_df запишите соответственно в X_train, X_test."
   ]
  },
  {
   "cell_type": "code",
   "execution_count": 45,
   "metadata": {
    "ExecuteTime": {
     "end_time": "2021-11-16T01:09:44.107716Z",
     "start_time": "2021-11-16T01:09:44.060623Z"
    }
   },
   "outputs": [],
   "source": [
    "low_vhigh_cat = ['low', 'med', 'high', 'vhigh']\n",
    "doors_cat = ['2', '3', '4', '5more']\n",
    "pers_cat = ['2', '4', 'more']\n",
    "small_big_cat = ['small', 'med', 'big']\n",
    "\n",
    "enc_categories = [low_vhigh_cat, doors_cat, small_big_cat, low_vhigh_cat, pers_cat, low_vhigh_cat]\n",
    "\n",
    "ordinal_encoder = OrdinalEncoder(categories=enc_categories)\n",
    "\n",
    "ordinal_encoder.fit(X_train_df)\n",
    "\n",
    "X_train = ordinal_encoder.transform(X_train_df)\n",
    "X_test = ordinal_encoder.transform(X_test_df)"
   ]
  },
  {
   "cell_type": "markdown",
   "metadata": {},
   "source": [
    "6.2.Выведите первые 5 записей X_train, X_test."
   ]
  },
  {
   "cell_type": "code",
   "execution_count": 46,
   "metadata": {
    "ExecuteTime": {
     "end_time": "2021-11-16T01:09:48.235565Z",
     "start_time": "2021-11-16T01:09:48.208576Z"
    }
   },
   "outputs": [
    {
     "data": {
      "text/plain": [
       "(array([[3., 3., 1., 3., 0., 0.],\n",
       "        [3., 1., 1., 3., 2., 1.],\n",
       "        [2., 1., 0., 3., 1., 1.],\n",
       "        [3., 1., 1., 2., 2., 0.],\n",
       "        [1., 2., 0., 2., 2., 0.]]),\n",
       " array([[2., 2., 2., 2., 0., 0.],\n",
       "        [1., 2., 2., 3., 1., 0.],\n",
       "        [2., 3., 2., 2., 0., 2.],\n",
       "        [0., 3., 1., 2., 1., 1.],\n",
       "        [1., 2., 1., 0., 2., 0.]]))"
      ]
     },
     "execution_count": 46,
     "metadata": {},
     "output_type": "execute_result"
    }
   ],
   "source": [
    "X_train[:5], X_test[:5]"
   ]
  },
  {
   "cell_type": "markdown",
   "metadata": {},
   "source": [
    "6.3.Выведите полученные категории энкодера."
   ]
  },
  {
   "cell_type": "code",
   "execution_count": 47,
   "metadata": {
    "ExecuteTime": {
     "end_time": "2021-11-16T01:09:52.385384Z",
     "start_time": "2021-11-16T01:09:52.360375Z"
    }
   },
   "outputs": [
    {
     "data": {
      "text/plain": [
       "[array(['low', 'med', 'high', 'vhigh'], dtype=object),\n",
       " array(['2', '3', '4', '5more'], dtype=object),\n",
       " array(['small', 'med', 'big'], dtype=object),\n",
       " array(['low', 'med', 'high', 'vhigh'], dtype=object),\n",
       " array(['2', '4', 'more'], dtype=object),\n",
       " array(['low', 'med', 'high', 'vhigh'], dtype=object)]"
      ]
     },
     "execution_count": 47,
     "metadata": {},
     "output_type": "execute_result"
    }
   ],
   "source": [
    "encoder.categories_"
   ]
  },
  {
   "cell_type": "markdown",
   "metadata": {},
   "source": [
    "7.1.Обучите на полученных данных логистическую регрессию c параметрами по умолчанию. "
   ]
  },
  {
   "cell_type": "code",
   "execution_count": 62,
   "metadata": {
    "ExecuteTime": {
     "end_time": "2021-11-16T01:20:09.017376Z",
     "start_time": "2021-11-16T01:20:08.816211Z"
    }
   },
   "outputs": [],
   "source": [
    "log_r = LogisticRegression(random_state=42).fit(X_train, y_train)"
   ]
  },
  {
   "cell_type": "markdown",
   "metadata": {},
   "source": [
    "7.2.Сделайте предсказания с помощью полученной модели. "
   ]
  },
  {
   "cell_type": "code",
   "execution_count": 63,
   "metadata": {
    "ExecuteTime": {
     "end_time": "2021-11-16T01:20:10.295303Z",
     "start_time": "2021-11-16T01:20:10.279305Z"
    }
   },
   "outputs": [],
   "source": [
    "train_predict = log_r.predict(X_train)\n",
    "test_predict = log_r.predict(X_test)"
   ]
  },
  {
   "cell_type": "markdown",
   "metadata": {},
   "source": [
    "7.3. Выведите метрики качества с помощью classification_report."
   ]
  },
  {
   "cell_type": "code",
   "execution_count": 64,
   "metadata": {
    "ExecuteTime": {
     "end_time": "2021-11-16T01:20:11.224469Z",
     "start_time": "2021-11-16T01:20:11.061984Z"
    }
   },
   "outputs": [
    {
     "name": "stdout",
     "output_type": "stream",
     "text": [
      "Train set:\n",
      "              precision    recall  f1-score   support\n",
      "\n",
      "         acc       0.67      0.58      0.62       257\n",
      "        good       0.56      0.43      0.49        51\n",
      "       unacc       0.88      0.93      0.90       810\n",
      "       vgood       0.79      0.67      0.72        39\n",
      "\n",
      "    accuracy                           0.82      1157\n",
      "   macro avg       0.72      0.65      0.68      1157\n",
      "weighted avg       0.81      0.82      0.82      1157\n",
      "\n",
      "\n",
      "Test set:\n",
      "              precision    recall  f1-score   support\n",
      "\n",
      "         acc       0.66      0.60      0.63       127\n",
      "        good       0.56      0.28      0.37        18\n",
      "       unacc       0.88      0.93      0.90       399\n",
      "       vgood       0.80      0.77      0.78        26\n",
      "\n",
      "    accuracy                           0.83       570\n",
      "   macro avg       0.72      0.64      0.67       570\n",
      "weighted avg       0.82      0.83      0.82       570\n",
      "\n"
     ]
    }
   ],
   "source": [
    "print(f\"Train set:\\n{classification_report(y_train, train_predict)}\\n\")\n",
    "print(f\"Test set:\\n{classification_report(y_test, test_predict)}\")"
   ]
  },
  {
   "cell_type": "code",
   "execution_count": 65,
   "metadata": {
    "ExecuteTime": {
     "end_time": "2021-11-16T01:20:17.179061Z",
     "start_time": "2021-11-16T01:20:15.022179Z"
    }
   },
   "outputs": [
    {
     "data": {
      "image/png": "[encoded data removed]",
      "text/plain": [
       "<Figure size 432x288 with 2 Axes>"
      ]
     },
     "metadata": {
      "needs_background": "light"
     },
     "output_type": "display_data"
    },
    {
     "data": {
      "image/png": "[encoded data removed]",
      "text/plain": [
       "<Figure size 432x288 with 2 Axes>"
      ]
     },
     "metadata": {
      "needs_background": "light"
     },
     "output_type": "display_data"
    }
   ],
   "source": [
    "cm_train = confusion_matrix(y_train, train_predict) \n",
    "disp_train = ConfusionMatrixDisplay(confusion_matrix=cm_train, display_labels=log_r.classes_)\n",
    "\n",
    "cm_test = confusion_matrix(y_test, test_predict) \n",
    "disp_test = ConfusionMatrixDisplay(confusion_matrix=cm_test, display_labels=log_r.classes_)\n",
    "\n",
    "disp_train.plot()\n",
    "disp_test.plot()\n",
    "\n",
    "plt.show()"
   ]
  },
  {
   "cell_type": "markdown",
   "metadata": {},
   "source": [
    "7.4.Какую метрику качества вы рекомендуете использовать для сравнения разных моделей и выбора лучшей? Почему? Метрика - это одно число, характеризирующее качество предсказаний модели."
   ]
  },
  {
   "cell_type": "markdown",
   "metadata": {
    "ExecuteTime": {
     "end_time": "2021-11-02T10:19:26.083395Z",
     "start_time": "2021-11-02T10:19:25.977243Z"
    }
   },
   "source": [
    "**Weighted macro avarage по метрике f-score - по той причине, что классы несбалансированы; f-score - потому, что балансирует precision и recall. Таким образом, это значение метрики 0.82 для обеих - тестовой и тренировочной - выборок.**  "
   ]
  },
  {
   "cell_type": "markdown",
   "metadata": {},
   "source": [
    "8.1.Обучите Decision Tree из sklearn с глубиной 4 на тех же данных. Подсчитайте предсказания, найдите метрику качества на test данных. Сравните с логистической регрессией. Какая модель лучше? Какие видите надочёты этой модели?"
   ]
  },
  {
   "cell_type": "code",
   "execution_count": 66,
   "metadata": {
    "ExecuteTime": {
     "end_time": "2021-11-16T01:20:20.547925Z",
     "start_time": "2021-11-16T01:20:20.535925Z"
    }
   },
   "outputs": [],
   "source": [
    "tree_clf = DecisionTreeClassifier(random_state=42, max_depth=4).fit(X_train, y_train)"
   ]
  },
  {
   "cell_type": "code",
   "execution_count": 67,
   "metadata": {
    "ExecuteTime": {
     "end_time": "2021-11-16T01:20:21.383275Z",
     "start_time": "2021-11-16T01:20:21.366281Z"
    }
   },
   "outputs": [],
   "source": [
    "tree_train_predict = tree_clf.predict(X_train)\n",
    "tree_test_predict = tree_clf.predict(X_test)"
   ]
  },
  {
   "cell_type": "code",
   "execution_count": 68,
   "metadata": {
    "ExecuteTime": {
     "end_time": "2021-11-16T01:20:23.788083Z",
     "start_time": "2021-11-16T01:20:23.726090Z"
    }
   },
   "outputs": [
    {
     "name": "stdout",
     "output_type": "stream",
     "text": [
      "              precision    recall  f1-score   support\n",
      "\n",
      "         acc       0.75      0.72      0.74       127\n",
      "        good       0.31      1.00      0.47        18\n",
      "       unacc       0.96      0.94      0.95       399\n",
      "       vgood       0.00      0.00      0.00        26\n",
      "\n",
      "    accuracy                           0.85       570\n",
      "   macro avg       0.51      0.67      0.54       570\n",
      "weighted avg       0.85      0.85      0.84       570\n",
      "\n"
     ]
    }
   ],
   "source": [
    "print(classification_report(y_test, tree_test_predict))"
   ]
  },
  {
   "cell_type": "markdown",
   "metadata": {
    "ExecuteTime": {
     "end_time": "2021-11-10T21:23:23.538081Z",
     "start_time": "2021-11-10T21:23:23.512090Z"
    }
   },
   "source": [
    "Сравниваем по показателю weighted avarage f1; обе модели - логистическая регрессия и DT - показывают почти одинаковое качество (0.82 для логистической регрессии и 0.84 для DT). Хотя, если рассматривать показатели точности и покрытия по каждой категории в отдельности, то DT дает результаты ощутимо лучше (за исключением категории vgood).   \n",
    "  \n",
    "Недостатки DT: при заданных параметрах класс vgood вообще не был идентифицирован; кроме того, при 100% покрытии точность прогноза для категории good слишком низкая."
   ]
  },
  {
   "cell_type": "markdown",
   "metadata": {
    "ExecuteTime": {
     "end_time": "2021-11-02T10:23:07.523939Z",
     "start_time": "2021-11-02T10:23:07.499537Z"
    }
   },
   "source": [
    "8.2.Выведите параметры модели Decision Tree."
   ]
  },
  {
   "cell_type": "code",
   "execution_count": 69,
   "metadata": {
    "ExecuteTime": {
     "end_time": "2021-11-16T01:20:27.614130Z",
     "start_time": "2021-11-16T01:20:27.587135Z"
    }
   },
   "outputs": [
    {
     "data": {
      "text/plain": [
       "{'ccp_alpha': 0.0,\n",
       " 'class_weight': None,\n",
       " 'criterion': 'gini',\n",
       " 'max_depth': 4,\n",
       " 'max_features': None,\n",
       " 'max_leaf_nodes': None,\n",
       " 'min_impurity_decrease': 0.0,\n",
       " 'min_impurity_split': None,\n",
       " 'min_samples_leaf': 1,\n",
       " 'min_samples_split': 2,\n",
       " 'min_weight_fraction_leaf': 0.0,\n",
       " 'random_state': 42,\n",
       " 'splitter': 'best'}"
      ]
     },
     "execution_count": 69,
     "metadata": {},
     "output_type": "execute_result"
    }
   ],
   "source": [
    "tree_clf.get_params()"
   ]
  },
  {
   "cell_type": "markdown",
   "metadata": {},
   "source": [
    "8.3.Визуализируйте полученное дерево любым из существующих способов. На картинке должен быть граф с критериями в узлах, классами и количеством элементов в каждом листе."
   ]
  },
  {
   "cell_type": "code",
   "execution_count": 70,
   "metadata": {
    "ExecuteTime": {
     "end_time": "2021-11-16T01:20:30.671080Z",
     "start_time": "2021-11-16T01:20:29.505238Z"
    }
   },
   "outputs": [
    {
     "data": {
      "image/png": "[encoded data removed]",
      "text/plain": [
       "<IPython.core.display.Image object>"
      ]
     },
     "execution_count": 70,
     "metadata": {},
     "output_type": "execute_result"
    }
   ],
   "source": [
    "dot_data = StringIO()\n",
    "export_graphviz(tree_clf, out_file=dot_data,  \n",
    "                filled=True, rounded=True,\n",
    "                special_characters=True,\n",
    "                feature_names = feature_columns, \n",
    "                class_names=['unacc', 'acc', 'vgood', 'good'])\n",
    "graph = pydotplus.graph_from_dot_data(dot_data.getvalue())  \n",
    "graph.write_png('cars_evaluation.png')\n",
    "Image(graph.create_png())"
   ]
  },
  {
   "cell_type": "markdown",
   "metadata": {
    "ExecuteTime": {
     "end_time": "2021-11-02T10:24:32.205815Z",
     "start_time": "2021-11-02T10:24:32.200091Z"
    }
   },
   "source": [
    "9.1.Выполните поиск гиперапарметров для DecisionTree по сетке с помощью sklearn. Задайте сетку из параметров самостоятельно исходя из предположений, что может дать улучшение работы дерева.  \n",
    "Вам удалось найти модель, которая работает лучше, чем построенная в пункте 8.1?"
   ]
  },
  {
   "cell_type": "code",
   "execution_count": 71,
   "metadata": {
    "ExecuteTime": {
     "end_time": "2021-11-16T01:20:32.878285Z",
     "start_time": "2021-11-16T01:20:32.862289Z"
    }
   },
   "outputs": [],
   "source": [
    "dt = DecisionTreeClassifier(random_state=42)\n",
    "param_grid = {'criterion': ['gini', 'entropy'],\n",
    "              'splitter': ['best', 'random'],\n",
    "              'max_depth': np.arange(4,8,1),\n",
    "              'max_leaf_nodes':[4,8,16,32],\n",
    "              'max_features': ['sqrt', 'log2', None]\n",
    "             }\n",
    "\n",
    "search = GridSearchCV(dt, param_grid, cv = 5)"
   ]
  },
  {
   "cell_type": "code",
   "execution_count": 72,
   "metadata": {
    "ExecuteTime": {
     "end_time": "2021-11-16T01:20:45.245506Z",
     "start_time": "2021-11-16T01:20:37.666868Z"
    }
   },
   "outputs": [
    {
     "data": {
      "text/plain": [
       "GridSearchCV(cv=5, estimator=DecisionTreeClassifier(random_state=42),\n",
       "             param_grid={'criterion': ['gini', 'entropy'],\n",
       "                         'max_depth': array([4, 5, 6, 7]),\n",
       "                         'max_features': ['sqrt', 'log2', None],\n",
       "                         'max_leaf_nodes': [4, 8, 16, 32],\n",
       "                         'splitter': ['best', 'random']})"
      ]
     },
     "execution_count": 72,
     "metadata": {},
     "output_type": "execute_result"
    }
   ],
   "source": [
    "search.fit(X_train, y_train)"
   ]
  },
  {
   "cell_type": "code",
   "execution_count": 73,
   "metadata": {
    "ExecuteTime": {
     "end_time": "2021-11-16T01:20:46.464151Z",
     "start_time": "2021-11-16T01:20:46.452155Z"
    }
   },
   "outputs": [],
   "source": [
    "#предикт делаю на тестовых данных\n",
    "best_model = search.best_estimator_\n",
    "best_model_predict = best_model.predict(X_test)"
   ]
  },
  {
   "cell_type": "markdown",
   "metadata": {
    "ExecuteTime": {
     "end_time": "2021-11-02T10:31:41.716381Z",
     "start_time": "2021-11-02T10:31:41.713212Z"
    }
   },
   "source": [
    "9.2.Выведите claasification report финальной модели поиска гиперпараметров."
   ]
  },
  {
   "cell_type": "code",
   "execution_count": 74,
   "metadata": {
    "ExecuteTime": {
     "end_time": "2021-11-16T01:20:48.309722Z",
     "start_time": "2021-11-16T01:20:48.253728Z"
    }
   },
   "outputs": [
    {
     "name": "stdout",
     "output_type": "stream",
     "text": [
      "              precision    recall  f1-score   support\n",
      "\n",
      "         acc       0.86      0.87      0.86       127\n",
      "        good       0.52      0.67      0.59        18\n",
      "       unacc       0.99      0.97      0.98       399\n",
      "       vgood       0.71      0.77      0.74        26\n",
      "\n",
      "    accuracy                           0.93       570\n",
      "   macro avg       0.77      0.82      0.79       570\n",
      "weighted avg       0.93      0.93      0.93       570\n",
      "\n"
     ]
    }
   ],
   "source": [
    "#данная модель гораздо лучше найденной в задании 8.1\n",
    "print(classification_report(y_test, best_model_predict))"
   ]
  },
  {
   "cell_type": "markdown",
   "metadata": {
    "ExecuteTime": {
     "end_time": "2021-11-02T10:31:54.320583Z",
     "start_time": "2021-11-02T10:31:54.316901Z"
    }
   },
   "source": [
    "9.3. Выведите матрицу ошибок для лучшей модели в поиске гиперпараметров. Отобразите матрицу визуально (в виде графика с закрашеными по значениям клетками или в виде таблицы с закрашиванием фона)."
   ]
  },
  {
   "cell_type": "code",
   "execution_count": 75,
   "metadata": {
    "ExecuteTime": {
     "end_time": "2021-11-16T01:20:51.325486Z",
     "start_time": "2021-11-16T01:20:50.542803Z"
    }
   },
   "outputs": [
    {
     "data": {
      "image/png": "[encoded data removed]",
      "text/plain": [
       "<Figure size 432x288 with 2 Axes>"
      ]
     },
     "metadata": {
      "needs_background": "light"
     },
     "output_type": "display_data"
    }
   ],
   "source": [
    "best_model_cm = confusion_matrix(y_test, best_model_predict)\n",
    "disp_best_model = ConfusionMatrixDisplay(confusion_matrix=best_model_cm, display_labels=best_model.classes_)\n",
    "\n",
    "disp_best_model.plot()\n",
    "\n",
    "plt.show()"
   ]
  },
  {
   "cell_type": "markdown",
   "metadata": {
    "ExecuteTime": {
     "end_time": "2021-11-02T10:35:47.933163Z",
     "start_time": "2021-11-02T10:35:47.929762Z"
    }
   },
   "source": [
    "9.4.Сделайте вывод, какие классы с какими модель путает больше всего?"
   ]
  },
  {
   "cell_type": "markdown",
   "metadata": {
    "ExecuteTime": {
     "end_time": "2021-11-02T10:43:23.892947Z",
     "start_time": "2021-11-02T10:43:23.886585Z"
    }
   },
   "source": [
    "1. Unacceptable (unacc) и Acceptaple (acc) - всего 16 экземпляров  \n",
    "2. Acceptaple (acc) и Good (good) - всего 11 экземпляров"
   ]
  }
 ],
 "metadata": {
  "kernelspec": {
   "display_name": "Python 3",
   "language": "python",
   "name": "python3"
  },
  "language_info": {
   "codemirror_mode": {
    "name": "ipython",
    "version": 3
   },
   "file_extension": ".py",
   "mimetype": "text/x-python",
   "name": "python",
   "nbconvert_exporter": "python",
   "pygments_lexer": "ipython3",
   "version": "3.8.8"
  },
  "toc": {
   "base_numbering": 1,
   "nav_menu": {},
   "number_sections": true,
   "sideBar": true,
   "skip_h1_title": false,
   "title_cell": "Table of Contents",
   "title_sidebar": "Contents",
   "toc_cell": false,
   "toc_position": {},
   "toc_section_display": true,
   "toc_window_display": false
  }
 },
 "nbformat": 4,
 "nbformat_minor": 4
}
